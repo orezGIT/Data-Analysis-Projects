{
 "cells": [
  {
   "cell_type": "markdown",
   "metadata": {
    "application/vnd.databricks.v1+cell": {
     "cellMetadata": {
      "byteLimit": 2048000,
      "rowLimit": 10000
     },
     "inputWidgets": {},
     "nuid": "790d4c81-7e5d-4085-903a-c0c514d60827",
     "showTitle": false,
     "title": ""
    }
   },
   "source": [
    "#TASK 1\n",
    "#RDD IMPLEMENTATION "
   ]
  },
  {
   "cell_type": "markdown",
   "metadata": {
    "application/vnd.databricks.v1+cell": {
     "cellMetadata": {
      "byteLimit": 2048000,
      "rowLimit": 10000
     },
     "inputWidgets": {},
     "nuid": "8afef531-a938-4e10-b268-1b7fb50c655a",
     "showTitle": false,
     "title": ""
    }
   },
   "source": [
    "##part 1: Load / ingest the data to be analysed"
   ]
  },
  {
   "cell_type": "code",
   "execution_count": 0,
   "metadata": {
    "application/vnd.databricks.v1+cell": {
     "cellMetadata": {
      "byteLimit": 2048000,
      "rowLimit": 10000
     },
     "inputWidgets": {},
     "nuid": "b2c490d2-10f5-4112-8f68-236d697015fb",
     "showTitle": false,
     "title": ""
    }
   },
   "outputs": [
    {
     "output_type": "execute_result",
     "data": {
      "text/plain": [
       "[FileInfo(path='dbfs:/FileStore/tables/.Test-unix/', name='.Test-unix/', size=0, modificationTime=0),\n",
       " FileInfo(path='dbfs:/FileStore/tables/.XIM-unix/', name='.XIM-unix/', size=0, modificationTime=0),\n",
       " FileInfo(path='dbfs:/FileStore/tables/.font-unix/', name='.font-unix/', size=0, modificationTime=0),\n",
       " FileInfo(path='dbfs:/FileStore/tables/Occupancy_Detection_Data.csv', name='Occupancy_Detection_Data.csv', size=50968, modificationTime=1709138386000),\n",
       " FileInfo(path='dbfs:/FileStore/tables/SQLcount_month.csv/', name='SQLcount_month.csv/', size=0, modificationTime=0),\n",
       " FileInfo(path='dbfs:/FileStore/tables/account-models/', name='account-models/', size=0, modificationTime=0),\n",
       " FileInfo(path='dbfs:/FileStore/tables/accounts/', name='accounts/', size=0, modificationTime=0),\n",
       " FileInfo(path='dbfs:/FileStore/tables/accounts.zip', name='accounts.zip', size=5297592, modificationTime=1709709833000),\n",
       " FileInfo(path='dbfs:/FileStore/tables/activations/', name='activations/', size=0, modificationTime=0),\n",
       " FileInfo(path='dbfs:/FileStore/tables/activations.zip', name='activations.zip', size=8411369, modificationTime=1709675438000),\n",
       " FileInfo(path='dbfs:/FileStore/tables/chauffeur-daemon-params', name='chauffeur-daemon-params', size=22, modificationTime=1707325327000),\n",
       " FileInfo(path='dbfs:/FileStore/tables/clinicaltrial_2020/', name='clinicaltrial_2020/', size=0, modificationTime=0),\n",
       " FileInfo(path='dbfs:/FileStore/tables/clinicaltrial_2020.csv', name='clinicaltrial_2020.csv', size=46318151, modificationTime=1714574367000),\n",
       " FileInfo(path='dbfs:/FileStore/tables/clinicaltrial_2020.zip', name='clinicaltrial_2020.zip', size=10599182, modificationTime=1712110692000),\n",
       " FileInfo(path='dbfs:/FileStore/tables/clinicaltrial_2021.zip', name='clinicaltrial_2021.zip', size=11508457, modificationTime=1712110723000),\n",
       " FileInfo(path='dbfs:/FileStore/tables/clinicaltrial_2023/', name='clinicaltrial_2023/', size=0, modificationTime=0),\n",
       " FileInfo(path='dbfs:/FileStore/tables/clinicaltrial_2023.csv', name='clinicaltrial_2023.csv', size=292436366, modificationTime=1714549080000),\n",
       " FileInfo(path='dbfs:/FileStore/tables/clinicaltrial_2023.zip', name='clinicaltrial_2023.zip', size=57166668, modificationTime=1713220355000),\n",
       " FileInfo(path='dbfs:/FileStore/tables/clinicalview.csv/', name='clinicalview.csv/', size=0, modificationTime=0),\n",
       " FileInfo(path='dbfs:/FileStore/tables/count_month.csv/', name='count_month.csv/', size=0, modificationTime=0),\n",
       " FileInfo(path='dbfs:/FileStore/tables/driver-daemon.pid', name='driver-daemon.pid', size=4, modificationTime=1707325329000),\n",
       " FileInfo(path='dbfs:/FileStore/tables/flood.zip', name='flood.zip', size=52053, modificationTime=1708181421000),\n",
       " FileInfo(path='dbfs:/FileStore/tables/games.csv', name='games.csv', size=143639, modificationTime=1712120283000),\n",
       " FileInfo(path='dbfs:/FileStore/tables/hsperfdata_root/', name='hsperfdata_root/', size=0, modificationTime=0),\n",
       " FileInfo(path='dbfs:/FileStore/tables/iotstream/', name='iotstream/', size=0, modificationTime=0),\n",
       " FileInfo(path='dbfs:/FileStore/tables/iotstream.zip', name='iotstream.zip', size=43891, modificationTime=1708584150000),\n",
       " FileInfo(path='dbfs:/FileStore/tables/iotstream_1/', name='iotstream_1/', size=0, modificationTime=0),\n",
       " FileInfo(path='dbfs:/FileStore/tables/iotstreaming/', name='iotstreaming/', size=0, modificationTime=0),\n",
       " FileInfo(path='dbfs:/FileStore/tables/logs/', name='logs/', size=0, modificationTime=0),\n",
       " FileInfo(path='dbfs:/FileStore/tables/logs.zip', name='logs.zip', size=18168065, modificationTime=1709709866000),\n",
       " FileInfo(path='dbfs:/FileStore/tables/movies.csv', name='movies.csv', size=494431, modificationTime=1709743255000),\n",
       " FileInfo(path='dbfs:/FileStore/tables/myratings.csv', name='myratings.csv', size=10683, modificationTime=1709743255000),\n",
       " FileInfo(path='dbfs:/FileStore/tables/pharma/', name='pharma/', size=0, modificationTime=0),\n",
       " FileInfo(path='dbfs:/FileStore/tables/pharma.csv', name='pharma.csv', size=678999, modificationTime=1714574368000),\n",
       " FileInfo(path='dbfs:/FileStore/tables/pharma.zip', name='pharma.zip', size=109982, modificationTime=1713220274000),\n",
       " FileInfo(path='dbfs:/FileStore/tables/python_lsp_logs/', name='python_lsp_logs/', size=0, modificationTime=0),\n",
       " FileInfo(path='dbfs:/FileStore/tables/ratings.csv', name='ratings.csv', size=2483723, modificationTime=1709743256000),\n",
       " FileInfo(path='dbfs:/FileStore/tables/steam_200k.csv', name='steam_200k.csv', size=8059447, modificationTime=1714082522000),\n",
       " FileInfo(path='dbfs:/FileStore/tables/systemd-private-7cbace18303d4eb89105a177c26dbcdd-systemd-logind.service-yLt2MO/', name='systemd-private-7cbace18303d4eb89105a177c26dbcdd-systemd-logind.service-yLt2MO/', size=0, modificationTime=0),\n",
       " FileInfo(path='dbfs:/FileStore/tables/systemd-private-7cbace18303d4eb89105a177c26dbcdd-systemd-resolved.service-p3tk7j/', name='systemd-private-7cbace18303d4eb89105a177c26dbcdd-systemd-resolved.service-p3tk7j/', size=0, modificationTime=0),\n",
       " FileInfo(path='dbfs:/FileStore/tables/test.json', name='test.json', size=17958, modificationTime=1706114081000),\n",
       " FileInfo(path='dbfs:/FileStore/tables/webfolder/', name='webfolder/', size=0, modificationTime=0),\n",
       " FileInfo(path='dbfs:/FileStore/tables/webpage/', name='webpage/', size=0, modificationTime=0),\n",
       " FileInfo(path='dbfs:/FileStore/tables/webpage.zip', name='webpage.zip', size=1582, modificationTime=1707347302000),\n",
       " FileInfo(path='dbfs:/FileStore/tables/webpage_files_all/', name='webpage_files_all/', size=0, modificationTime=0),\n",
       " FileInfo(path='dbfs:/FileStore/tables/webpage_files_jpg/', name='webpage_files_jpg/', size=0, modificationTime=0)]"
      ]
     },
     "execution_count": 1,
     "metadata": {},
     "output_type": "execute_result"
    }
   ],
   "source": [
    "# check for the clinicaltrial_2023 and pharma file if it is uploaded \n",
    "dbutils.fs.ls('/FileStore/tables')"
   ]
  },
  {
   "cell_type": "markdown",
   "metadata": {
    "application/vnd.databricks.v1+cell": {
     "cellMetadata": {
      "byteLimit": 2048000,
      "rowLimit": 10000
     },
     "inputWidgets": {},
     "nuid": "c49e725f-8a61-4add-8b7c-f4fc8da40b37",
     "showTitle": false,
     "title": ""
    }
   },
   "source": [
    "##make the code reusable for any file"
   ]
  },
  {
   "cell_type": "code",
   "execution_count": 0,
   "metadata": {
    "application/vnd.databricks.v1+cell": {
     "cellMetadata": {
      "byteLimit": 2048000,
      "rowLimit": 10000
     },
     "inputWidgets": {},
     "nuid": "5881545d-b2f5-42b2-a04a-7fd09ede214a",
     "showTitle": false,
     "title": ""
    }
   },
   "outputs": [],
   "source": [
    "#define a variable clinical_trial\n",
    "fileroot = 'clinicaltrial_2020'\n",
    "\n",
    "#define a variable for pharma\n",
    "fileroot2 = 'pharma'"
   ]
  },
  {
   "cell_type": "code",
   "execution_count": 0,
   "metadata": {
    "application/vnd.databricks.v1+cell": {
     "cellMetadata": {
      "byteLimit": 2048000,
      "rowLimit": 10000
     },
     "inputWidgets": {},
     "nuid": "d127137f-1773-4068-b236-2179c611d954",
     "showTitle": false,
     "title": ""
    }
   },
   "outputs": [
    {
     "output_type": "execute_result",
     "data": {
      "text/plain": [
       "0"
      ]
     },
     "execution_count": 3,
     "metadata": {},
     "output_type": "execute_result"
    }
   ],
   "source": [
    "# clean the local file system from the contents that the notebook needs to create again\n",
    "import os\n",
    "#clean clinicaltrial files from the file system\n",
    "os.system(\"rm -rf /tmp/\" + fileroot + \"*\")\n",
    "\n",
    "#clean pharma files from file system\n",
    "os.system('rm -rf /tmp/'+ fileroot2 + '*')"
   ]
  },
  {
   "cell_type": "code",
   "execution_count": 0,
   "metadata": {
    "application/vnd.databricks.v1+cell": {
     "cellMetadata": {
      "byteLimit": 2048000,
      "rowLimit": 10000
     },
     "inputWidgets": {},
     "nuid": "de72095f-0f00-4084-93f1-bdace623fec2",
     "showTitle": false,
     "title": ""
    }
   },
   "outputs": [
    {
     "output_type": "execute_result",
     "data": {
      "text/plain": [
       "True"
      ]
     },
     "execution_count": 4,
     "metadata": {},
     "output_type": "execute_result"
    }
   ],
   "source": [
    "# clean clinicaltrial file from DBFS so that the notebook needs to create again  \n",
    "dbutils.fs.rm('/FileStore/tables/' + fileroot, True)\n",
    "\n",
    "#clean pharam file from DBFS so that the notebook needs to create again\n",
    "dbutils.fs.rm('FileStore/tables/' + fileroot2, True)"
   ]
  },
  {
   "cell_type": "code",
   "execution_count": 0,
   "metadata": {
    "application/vnd.databricks.v1+cell": {
     "cellMetadata": {
      "byteLimit": 2048000,
      "rowLimit": 10000
     },
     "inputWidgets": {},
     "nuid": "f9f1b713-34cf-420a-a9f9-a2e4072d2528",
     "showTitle": false,
     "title": ""
    }
   },
   "outputs": [
    {
     "output_type": "execute_result",
     "data": {
      "text/plain": [
       "True"
      ]
     },
     "execution_count": 5,
     "metadata": {},
     "output_type": "execute_result"
    }
   ],
   "source": [
    "#copy clinicaltrial file from DBFS to Local File System\n",
    "dbutils.fs.cp('/FileStore/tables/' + fileroot + '.zip', 'file:/tmp/')\n",
    "\n",
    "#copy pharma file from DBFS to local file system\n",
    "dbutils.fs.cp('FileStore/tables/' + fileroot2 + '.zip', 'file:/tmp/')"
   ]
  },
  {
   "cell_type": "code",
   "execution_count": 0,
   "metadata": {
    "application/vnd.databricks.v1+cell": {
     "cellMetadata": {
      "byteLimit": 2048000,
      "rowLimit": 10000
     },
     "inputWidgets": {},
     "nuid": "f5633f2a-5c2b-44c4-ab26-9a825848bd07",
     "showTitle": false,
     "title": ""
    }
   },
   "outputs": [],
   "source": [
    "import os\n",
    "#apply os funnction to access fileroot\n",
    "os.environ['fileroot'] = fileroot\n",
    "\n",
    "#apply os function to access fileroot2\n",
    "os.environ['fileroot2'] = fileroot2"
   ]
  },
  {
   "cell_type": "code",
   "execution_count": 0,
   "metadata": {
    "application/vnd.databricks.v1+cell": {
     "cellMetadata": {
      "byteLimit": 2048000,
      "rowLimit": 10000
     },
     "inputWidgets": {},
     "nuid": "652e321e-5f93-4428-b1b1-a5d04575f87a",
     "showTitle": false,
     "title": ""
    }
   },
   "outputs": [
    {
     "output_type": "stream",
     "name": "stdout",
     "output_type": "stream",
     "text": [
      "Archive:  /tmp/clinicaltrial_2020.zip\n  inflating: /tmp/clinicaltrial_2020.csv  \nArchive:  /tmp/pharma.zip\n  inflating: /tmp/pharma.csv         \n"
     ]
    }
   ],
   "source": [
    "%sh\n",
    "#unzip fileroot \n",
    "unzip -o -d /tmp /tmp/$fileroot.zip\n",
    "\n",
    "#unzip fileroot2\n",
    "unzip -o -d /tmp /tmp/$fileroot2.zip"
   ]
  },
  {
   "cell_type": "code",
   "execution_count": 0,
   "metadata": {
    "application/vnd.databricks.v1+cell": {
     "cellMetadata": {
      "byteLimit": 2048000,
      "rowLimit": 10000
     },
     "inputWidgets": {},
     "nuid": "b9514e9f-287b-4ea5-84a6-52d243130c8e",
     "showTitle": false,
     "title": ""
    }
   },
   "outputs": [
    {
     "output_type": "stream",
     "name": "stdout",
     "output_type": "stream",
     "text": [
      "Rserv\nRtmpIJTyix\nchauffeur-daemon-params\nchauffeur-daemon.pid\nchauffeur-env.sh\nclinicaltrial_2020.csv\nclinicaltrial_2020.zip\ncustom-spark.conf\ndriver-daemon-params\ndriver-daemon.pid\ndriver-env.sh\nhsperfdata_root\npharma.csv\npharma.zip\npython_lsp_logs\nsystemd-private-6885159ad6e7404bb0b178196d42a783-systemd-logind.service-blhoIY\nsystemd-private-6885159ad6e7404bb0b178196d42a783-systemd-resolved.service-HimXVm\ntmp.8G9q7DOvKf\n"
     ]
    }
   ],
   "source": [
    "%sh # checking if the file is already unzipped \n",
    "ls /tmp/"
   ]
  },
  {
   "cell_type": "code",
   "execution_count": 0,
   "metadata": {
    "application/vnd.databricks.v1+cell": {
     "cellMetadata": {
      "byteLimit": 2048000,
      "rowLimit": 10000
     },
     "inputWidgets": {},
     "nuid": "d0863034-5c3a-49dc-8259-e172ff587775",
     "showTitle": false,
     "title": ""
    }
   },
   "outputs": [
    {
     "output_type": "execute_result",
     "data": {
      "text/plain": [
       "True"
      ]
     },
     "execution_count": 9,
     "metadata": {},
     "output_type": "execute_result"
    }
   ],
   "source": [
    "#making a directory for the unzip fileroot in DBFS \n",
    "dbutils.fs.mkdirs(\"/FileStore/tables/\" + fileroot)\n",
    "\n",
    "#making a directory for the unzip fileroot2 in DBFS\n",
    "dbutils.fs.mkdirs('FileStore/tables/' + fileroot2)"
   ]
  },
  {
   "cell_type": "code",
   "execution_count": 0,
   "metadata": {
    "application/vnd.databricks.v1+cell": {
     "cellMetadata": {
      "byteLimit": 2048000,
      "rowLimit": 10000
     },
     "inputWidgets": {},
     "nuid": "d6d34bb2-bfdd-4fd2-8e93-1541a0515718",
     "showTitle": false,
     "title": ""
    }
   },
   "outputs": [
    {
     "output_type": "execute_result",
     "data": {
      "text/plain": [
       "True"
      ]
     },
     "execution_count": 10,
     "metadata": {},
     "output_type": "execute_result"
    }
   ],
   "source": [
    "#move the unzip fileroot from Local file system to the created directory in DBFS \n",
    "dbutils.fs.mv(\"file:/tmp/\" + fileroot + '.csv', \"/FileStore/tables/\" + fileroot + '.csv', True)\n",
    "\n",
    "#move the unzip fileroot2 from the local file system to the created direcory in DBFS\n",
    "dbutils.fs.mv('file:/tmp/' + fileroot2 + '.csv', '/FileStore/tables/' + fileroot2 + '.csv', True)"
   ]
  },
  {
   "cell_type": "code",
   "execution_count": 0,
   "metadata": {
    "application/vnd.databricks.v1+cell": {
     "cellMetadata": {
      "byteLimit": 2048000,
      "rowLimit": 10000
     },
     "inputWidgets": {},
     "nuid": "3d2effb2-2993-4379-a49a-470cc2c25f24",
     "showTitle": false,
     "title": ""
    }
   },
   "outputs": [
    {
     "output_type": "execute_result",
     "data": {
      "text/plain": [
       "[FileInfo(path='dbfs:/FileStore/tables/.Test-unix/', name='.Test-unix/', size=0, modificationTime=0),\n",
       " FileInfo(path='dbfs:/FileStore/tables/.XIM-unix/', name='.XIM-unix/', size=0, modificationTime=0),\n",
       " FileInfo(path='dbfs:/FileStore/tables/.font-unix/', name='.font-unix/', size=0, modificationTime=0),\n",
       " FileInfo(path='dbfs:/FileStore/tables/Occupancy_Detection_Data.csv', name='Occupancy_Detection_Data.csv', size=50968, modificationTime=1709138386000),\n",
       " FileInfo(path='dbfs:/FileStore/tables/SQLcount_month.csv/', name='SQLcount_month.csv/', size=0, modificationTime=0),\n",
       " FileInfo(path='dbfs:/FileStore/tables/account-models/', name='account-models/', size=0, modificationTime=0),\n",
       " FileInfo(path='dbfs:/FileStore/tables/accounts/', name='accounts/', size=0, modificationTime=0),\n",
       " FileInfo(path='dbfs:/FileStore/tables/accounts.zip', name='accounts.zip', size=5297592, modificationTime=1709709833000),\n",
       " FileInfo(path='dbfs:/FileStore/tables/activations/', name='activations/', size=0, modificationTime=0),\n",
       " FileInfo(path='dbfs:/FileStore/tables/activations.zip', name='activations.zip', size=8411369, modificationTime=1709675438000),\n",
       " FileInfo(path='dbfs:/FileStore/tables/chauffeur-daemon-params', name='chauffeur-daemon-params', size=22, modificationTime=1707325327000),\n",
       " FileInfo(path='dbfs:/FileStore/tables/clinicaltrial_2020/', name='clinicaltrial_2020/', size=0, modificationTime=0),\n",
       " FileInfo(path='dbfs:/FileStore/tables/clinicaltrial_2020.csv', name='clinicaltrial_2020.csv', size=46318151, modificationTime=1714607023000),\n",
       " FileInfo(path='dbfs:/FileStore/tables/clinicaltrial_2020.zip', name='clinicaltrial_2020.zip', size=10599182, modificationTime=1712110692000),\n",
       " FileInfo(path='dbfs:/FileStore/tables/clinicaltrial_2021.zip', name='clinicaltrial_2021.zip', size=11508457, modificationTime=1712110723000),\n",
       " FileInfo(path='dbfs:/FileStore/tables/clinicaltrial_2023/', name='clinicaltrial_2023/', size=0, modificationTime=0),\n",
       " FileInfo(path='dbfs:/FileStore/tables/clinicaltrial_2023.csv', name='clinicaltrial_2023.csv', size=292436366, modificationTime=1714549080000),\n",
       " FileInfo(path='dbfs:/FileStore/tables/clinicaltrial_2023.zip', name='clinicaltrial_2023.zip', size=57166668, modificationTime=1713220355000),\n",
       " FileInfo(path='dbfs:/FileStore/tables/clinicalview.csv/', name='clinicalview.csv/', size=0, modificationTime=0),\n",
       " FileInfo(path='dbfs:/FileStore/tables/count_month.csv/', name='count_month.csv/', size=0, modificationTime=0),\n",
       " FileInfo(path='dbfs:/FileStore/tables/driver-daemon.pid', name='driver-daemon.pid', size=4, modificationTime=1707325329000),\n",
       " FileInfo(path='dbfs:/FileStore/tables/flood.zip', name='flood.zip', size=52053, modificationTime=1708181421000),\n",
       " FileInfo(path='dbfs:/FileStore/tables/games.csv', name='games.csv', size=143639, modificationTime=1712120283000),\n",
       " FileInfo(path='dbfs:/FileStore/tables/hsperfdata_root/', name='hsperfdata_root/', size=0, modificationTime=0),\n",
       " FileInfo(path='dbfs:/FileStore/tables/iotstream/', name='iotstream/', size=0, modificationTime=0),\n",
       " FileInfo(path='dbfs:/FileStore/tables/iotstream.zip', name='iotstream.zip', size=43891, modificationTime=1708584150000),\n",
       " FileInfo(path='dbfs:/FileStore/tables/iotstream_1/', name='iotstream_1/', size=0, modificationTime=0),\n",
       " FileInfo(path='dbfs:/FileStore/tables/iotstreaming/', name='iotstreaming/', size=0, modificationTime=0),\n",
       " FileInfo(path='dbfs:/FileStore/tables/logs/', name='logs/', size=0, modificationTime=0),\n",
       " FileInfo(path='dbfs:/FileStore/tables/logs.zip', name='logs.zip', size=18168065, modificationTime=1709709866000),\n",
       " FileInfo(path='dbfs:/FileStore/tables/movies.csv', name='movies.csv', size=494431, modificationTime=1709743255000),\n",
       " FileInfo(path='dbfs:/FileStore/tables/myratings.csv', name='myratings.csv', size=10683, modificationTime=1709743255000),\n",
       " FileInfo(path='dbfs:/FileStore/tables/pharma/', name='pharma/', size=0, modificationTime=0),\n",
       " FileInfo(path='dbfs:/FileStore/tables/pharma.csv', name='pharma.csv', size=678999, modificationTime=1714607025000),\n",
       " FileInfo(path='dbfs:/FileStore/tables/pharma.zip', name='pharma.zip', size=109982, modificationTime=1713220274000),\n",
       " FileInfo(path='dbfs:/FileStore/tables/python_lsp_logs/', name='python_lsp_logs/', size=0, modificationTime=0),\n",
       " FileInfo(path='dbfs:/FileStore/tables/ratings.csv', name='ratings.csv', size=2483723, modificationTime=1709743256000),\n",
       " FileInfo(path='dbfs:/FileStore/tables/steam_200k.csv', name='steam_200k.csv', size=8059447, modificationTime=1714082522000),\n",
       " FileInfo(path='dbfs:/FileStore/tables/systemd-private-7cbace18303d4eb89105a177c26dbcdd-systemd-logind.service-yLt2MO/', name='systemd-private-7cbace18303d4eb89105a177c26dbcdd-systemd-logind.service-yLt2MO/', size=0, modificationTime=0),\n",
       " FileInfo(path='dbfs:/FileStore/tables/systemd-private-7cbace18303d4eb89105a177c26dbcdd-systemd-resolved.service-p3tk7j/', name='systemd-private-7cbace18303d4eb89105a177c26dbcdd-systemd-resolved.service-p3tk7j/', size=0, modificationTime=0),\n",
       " FileInfo(path='dbfs:/FileStore/tables/test.json', name='test.json', size=17958, modificationTime=1706114081000),\n",
       " FileInfo(path='dbfs:/FileStore/tables/webfolder/', name='webfolder/', size=0, modificationTime=0),\n",
       " FileInfo(path='dbfs:/FileStore/tables/webpage/', name='webpage/', size=0, modificationTime=0),\n",
       " FileInfo(path='dbfs:/FileStore/tables/webpage.zip', name='webpage.zip', size=1582, modificationTime=1707347302000),\n",
       " FileInfo(path='dbfs:/FileStore/tables/webpage_files_all/', name='webpage_files_all/', size=0, modificationTime=0),\n",
       " FileInfo(path='dbfs:/FileStore/tables/webpage_files_jpg/', name='webpage_files_jpg/', size=0, modificationTime=0)]"
      ]
     },
     "execution_count": 11,
     "metadata": {},
     "output_type": "execute_result"
    }
   ],
   "source": [
    "#check the file directory \n",
    "dbutils.fs.ls('/FileStore/tables/')"
   ]
  },
  {
   "cell_type": "markdown",
   "metadata": {
    "application/vnd.databricks.v1+cell": {
     "cellMetadata": {
      "byteLimit": 2048000,
      "rowLimit": 10000
     },
     "inputWidgets": {},
     "nuid": "9199c20d-7962-44f3-8798-5824c9cc9617",
     "showTitle": false,
     "title": ""
    }
   },
   "source": [
    "##part 2: Prepare / clean the data for RDD implementation."
   ]
  },
  {
   "cell_type": "code",
   "execution_count": 0,
   "metadata": {
    "application/vnd.databricks.v1+cell": {
     "cellMetadata": {
      "byteLimit": 2048000,
      "rowLimit": 10000
     },
     "inputWidgets": {},
     "nuid": "3fe3cec0-8123-45bd-9314-b9a0a9ea8dcf",
     "showTitle": false,
     "title": ""
    }
   },
   "outputs": [
    {
     "output_type": "stream",
     "name": "stdout",
     "output_type": "stream",
     "text": [
      "[Truncated to first 65536 bytes]\n\"Id\tStudy Title\tAcronym\tStatus\tConditions\tInterventions\tSponsor\tCollaborators\tEnrollment\tFunder Type\tType\tStudy Design\tStart\tCompletion\",,,,,,,,,,,,,,,,,,,,,,,,,,,,,,,,,,,,,,,,,,,,,,,,,,,,,,,,,,,,,,,,,,,,,,,,,,,,,,,,,,,,,,,,,,,,,,,,,,,,,,,,,,,,,,,,,,,,,,,,,,,,,,,,,,,,,,,,,,,,,,,,,,,,,,,,,,,,,,,,,,,,,,,,,,,,,,,,,,,,,,,,,,,,,,,,,,,,,,,,,,,,,,,,,,\r\n\"NCT03630471\tEffectiveness of a Problem-solving Intervention for Common Adolescent Mental Health Problems in India\tPRIDE\tCOMPLETED\tMental Health Issue (E.G.\", Depression, Psychosis, Personality Disorder,\" Substance Abuse)\tBEHAVIORAL: PRIDE 'Step 1' problem-solving intervention|BEHAVIORAL: Enhanced usual care\tSangath\tHarvard Medical School (HMS and HSDM)|London School of Hygiene and Tropical Medicine\t250.0\tOTHER\tINTERVENTIONAL\tAllocation: RANDOMIZED|Intervention Model: PARALLEL|Masking: DOUBLE (INVESTIGATOR\",\" OUTCOMES_ASSESSOR)|Primary Purpose: TREATMENT\t2018-08-20\t2019-02-28\",,,,,,,,,,,,,,,,,,,,,,,,,,,,,,,,,,,,,,,,,,,,,,,,,,,,,,,,,,,,,,,,,,,,,,,,,,,,,,,,,,,,,,,,,,,,,,,,,,,,,,,,,,,,,,,,,,,,,,,,,,,,,,,,,,,,,,,,,,,,,,,,,,,,,,,,,,,,,,,,,,,,,,,,,,,,,,,,,,,,,,,,,,,,,,,,,,,,,,,,,,,,,\r\n\"NCT05992571\tOral Ketone Monoester Supplementation and Resting-state Brain Connectivity\t\tRECRUITING\tCerebrovascular Function|Cognition\tOTHER: Placebo|DIETARY_SUPPLEMENT: β-OHB\tMcMaster University\tAlzheimer's Society of Brant\", Haldimand Norfolk,\" Hamilton Halton\t30.0\tOTHER\tINTERVENTIONAL\tAllocation: RANDOMIZED|Intervention Model: CROSSOVER|Masking: TRIPLE (PARTICIPANT\", INVESTIGATOR,\" OUTCOMES_ASSESSOR)|Primary Purpose: BASIC_SCIENCE\t2023-10-25\t2024-08\",,,,,,,,,,,,,,,,,,,,,,,,,,,,,,,,,,,,,,,,,,,,,,,,,,,,,,,,,,,,,,,,,,,,,,,,,,,,,,,,,,,,,,,,,,,,,,,,,,,,,,,,,,,,,,,,,,,,,,,,,,,,,,,,,,,,,,,,,,,,,,,,,,,,,,,,,,,,,,,,,,,,,,,,,,,,,,,,,,,,,,,,,,,,,,,,,,,,,,,,,,,,,,\r\n\"NCT00237471\tImpact of Tight Glycaemic Control in Acute Myocardial Infarction\t\tTERMINATED\tMyocardial Infarct|Hyperglycemia\tDRUG: Insulin (tight blood glucose control)\tMelbourne Health\tNational Health and Medical Research Council\",\" Australia|Bristol-Myers Squibb\t40.0\tOTHER\tINTERVENTIONAL\tAllocation: RANDOMIZED|Intervention Model: PARALLEL|Masking: NONE|Primary Purpose: TREATMENT\t2005-10\t2006-05\",,,,,,,,,,,,,,,,,,,,,,,,,,,,,,,,,,,,,,,,,,,,,,,,,,,,,,,,,,,,,,,,,,,,,,,,,,,,,,,,,,,,,,,,,,,,,,,,,,,,,,,,,,,,,,,,,,,,,,,,,,,,,,,,,,,,,,,,,,,,,,,,,,,,,,,,,,,,,,,,,,,,,,,,,,,,,,,,,,,,,,,,,,,,,,,,,,,,,,,,,,,,,,,,,\r\n\"NCT03820271\tNew Prognostic Predictive Models of Mortality of Decompensated Cirrhotic Patients Waiting for Liver Transplantation\tSUPERMELD\tRECRUITING\tDecompensated Cirrhosis|Liver Transplantation\tOTHER: SuperMELD\tAssistance Publique - Hôpitaux de Paris\t\t500.0\tOTHER\tINTERVENTIONAL\tAllocation: NA|Intervention Model: SINGLE_GROUP|Masking: NONE|Primary Purpose: OTHER\t2020-10-01\t2023-10-01\",,,,,,,,,,,,,,,,,,,,,,,,,,,,,,,,,,,,,,,,,,,,,,,,,,,,,,,,,,,,,,,,,,,,,,,,,,,,,,,,,,,,,,,,,,,,,,,,,,,,,,,,,,,,,,,,,,,,,,,,,,,,,,,,,,,,,,,,,,,,,,,,,,,,,,,,,,,,,,,,,,,,,,,,,,,,,,,,,,,,,,,,,,,,,,,,,,,,,,,,,,,,,,,,,,\r\n\"NCT06229171\tInTake Care: Development and Validation of an Innovative\",\" Personalized Digital Health Solution for Medication Adherence Support in Cardiovascular Prevention\tInTakeCare\tNOT_YET_RECRUITING\tHypertension|Treatment Adherence and Compliance|Digital Health\tOTHER: adherence support system based on a vocal assistant\tIstituto Auxologico Italiano\tIstituti Clinici Scientifici Maugeri SpA|Politecnico di Milano\t206.0\tOTHER\tINTERVENTIONAL\tAllocation: RANDOMIZED|Intervention Model: PARALLEL|Masking: NONE|Primary Purpose: OTHER\t2024-10-01\t2026-04-01\",,,,,,,,,,,,,,,,,,,,,,,,,,,,,,,,,,,,,,,,,,,,,,,,,,,,,,,,,,,,,,,,,,,,,,,,,,,,,,,,,,,,,,,,,,,,,,,,,,,,,,,,,,,,,,,,,,,,,,,,,,,,,,,,,,,,,,,,,,,,,,,,,,,,,,,,,,,,,,,,,,,,,,,,,,,,,,,,,,,,,,,,,,,,,,,,,,,,,,,,,,,,,,,,,\r\n\"NCT02945371\tTailored Inhibitory Control Training to Reverse EA-linked Deficits in Mid-life\tREV\tCOMPLETED\tSmoking|Alcohol Drinking|Prescription Drug Abuse|Substance-Related Disorders|Oral Intake Reduced\tBEHAVIORAL: Person-centered inhibitory control training|BEHAVIORAL: Active behavioral response training\tUniversity of Oregon\t\t103.0\tOTHER\tINTERVENTIONAL\tAllocation: RANDOMIZED|Intervention Model: PARALLEL|Masking: SINGLE (PARTICIPANT)|Primary Purpose: PREVENTION\t2014-09\t2016-05\",,,,,,,,,,,,,,,,,,,,,,,,,,,,,,,,,,,,,,,,,,,,,,,,,,,,,,,,,,,,,,,,,,,,,,,,,,,,,,,,,,,,,,,,,,,,,,,,,,,,,,,,,,,,,,,,,,,,,,,,,,,,,,,,,,,,,,,,,,,,,,,,,,,,,,,,,,,,,,,,,,,,,,,,,,,,,,,,,,,,,,,,,,,,,,,,,,,,,,,,,,,,,,,,,,\r\n\"NCT01055171\tNeuromodulation of Trauma Memories in PTSD & Alcohol Dependence\t\tCOMPLETED\tAlcohol Dependence|PTSD\tDRUG: Propranolol|DRUG: Placebo\tMedical University of South Carolina\tNational Institute on Alcohol Abuse and Alcoholism (NIAAA)\t44.0\tOTHER\tINTERVENTIONAL\tAllocation: RANDOMIZED|Intervention Model: PARALLEL|Masking: QUADRUPLE (PARTICIPANT\", CARE_PROVIDER, INVESTIGATOR,\" OUTCOMES_ASSESSOR)|Primary Purpose: TREATMENT\t2010-01\t2012-08\",,,,,,,,,,,,,,,,,,,,,,,,,,,,,,,,,,,,,,,,,,,,,,,,,,,,,,,,,,,,,,,,,,,,,,,,,,,,,,,,,,,,,,,,,,,,,,,,,,,,,,,,,,,,,,,,,,,,,,,,,,,,,,,,,,,,,,,,,,,,,,,,,,,,,,,,,,,,,,,,,,,,,,,,,,,,,,,,,,,,,,,,,,,,,,,,,,,,,,,,,,,,,,,\r\n\"NCT01125371\tComputerized Brief Alcohol Intervention (BI) for Binge Drinking HIV At-Risk and Infected Women\t\tCOMPLETED\tAlcohol; Harmful Use|Binge Drinking|Risk Behavior|HIV Infection\tBEHAVIORAL: Computerized brief alcohol intervention + IVR booster calls|BEHAVIORAL: Computerized brief alcohol intervention|BEHAVIORAL: Attention Control\tJohns Hopkins University\tNational Institute on Alcohol Abuse and Alcoholism (NIAAA)\t439.0\tOTHER\tINTERVENTIONAL\tAllocation: RANDOMIZED|Intervention Model: PARALLEL|Masking: DOUBLE (INVESTIGATOR\",\" OUTCOMES_ASSESSOR)|Primary Purpose: TREATMENT\t2011-10\t2016-06-07\",,,,,,,,,,,,,,,,,,,,,,,,,,,,,,,,,,,,,,,,,,,,,,,,,,,,,,,,,,,,,,,,,,,,,,,,,,,,,,,,,,,,,,,,,,,,,,,,,,,,,,,,,,,,,,,,,,,,,,,,,,,,,,,,,,,,,,,,,,,,,,,,,,,,,,,,,,,,,,,,,,,,,,,,,,,,,,,,,,,,,,,,,,,,,,,,,,,,,,,,,,,,,,,,,\r\n\"NCT02554071\tManitoba Pharmacist Initiated Smoking Cessation Pilot Project\t\tCOMPLETED\tSmoking Cessation\tOTHER: Pharmacist - Smoking Cessation Support\tUniversity of Manitoba\tGovenment of Manitoba|Canadian Foundation for Pharmacy|Neighbourhood Pharmacy Association of Canada\t119.0\tOTHER\tINTERVENTIONAL\tAllocation: NA|Intervention Model: SINGLE_GROUP|Masking: NONE|Primary Purpose: SUPPORTIVE_CARE\t2014-01\t2014-11\",,,,,,,,,,,,,,,,,,,,,,,,,,,,,,,,,,,,,,,,,,,,,,,,,,,,,,,,,,,,,,,,,,,,,,,,,,,,,,,,,,,,,,,,,,,,,,,,,,,,,,,,,,,,,,,,,,,,,,,,,,,,,,,,,,,,,,,,,,,,,,,,,,,,,,,,,,,,,,,,,,,,,,,,,,,,,,,,,,,,,,,,,,,,,,,,,,,,,,,,,,,,,,,,,,\r\n\"NCT01772771\tMolecular Testing for the MD Anderson Cancer Center Personalized Cancer Therapy Program\t\tRECRUITING\tGlioma|Hematopoietic and Lymphoid Cell Neoplasm|Malignant Solid Neoplasm|Melanoma|Sarcoma\tPROCEDURE: Biospecimen Collection|OTHER: Genetic Testing|OTHER: Medical Chart Review\tM.D. Anderson Cancer Center\tNational Cancer Institute (NCI)\t12000.0\tOTHER\tOBSERVATIONAL\tObservational Model: |Time Perspective: p\t2012-03-01\t2033-03-01\",,,,,,,,,,,,,,,,,,,,,,,,,,,,,,,,,,,,,,,,,,,,,,,,,,,,,,,,,,,,,,,,,,,,,,,,,,,,,,,,,,,,,,,,,,,,,,,,,,,,,,,,,,,,,,,,,,,,,,,,,,,,,,,,,,,,,,,,,,,,,,,,,,,,,,,,,,,,,,,,,,,,,,,,,,,,,,,,,,,,,,,,,,,,,,,,,,,,,,,,,,,,,,,,,,\r\n\"NCT02633371\tA Pilot Study Exploring the Efficacy and Safety of Topical Oxybutynin 3% Gel for Primary Focal Hyperhidrosis in Adolescents and Young Adults\t\tCOMPLETED\tHyperhidrosis\tDRUG: Oxybutynin 3% gel\tUniversity of Colorado\",\" Denver\tSociety for Pediatric Dermatology\t10.0\tOTHER\tINTERVENTIONAL\tAllocation: NA|Intervention Model: SINGLE_GROUP|Masking: NONE|Primary Purpose: TREATMENT\t2016-02\t2017-05\",,,,,,,,,,,,,,,,,,,,,,,,,,,,,,,,,,,,,,,,,,,,,,,,,,,,,,,,,,,,,,,,,,,,,,,,,,,,,,,,,,,,,,,,,,,,,,,,,,,,,,,,,,,,,,,,,,,,,,,,,,,,,,,,,,,,,,,,,,,,,,,,,,,,,,,,,,,,,,,,,,,,,,,,,,,,,,,,,,,,,,,,,,,,,,,,,,,,,,,,,,,,,,,,,\r\n\"NCT03400371\tBiology of Juvenile Myoclonic Epilepsy\tBIOJUME\tRECRUITING\tJuvenile Myoclonic Epilepsy\tOTHER: Blood draw|OTHER: Existing samples\tKing's College London\tKing's College Hospital NHS Trust|Charles University\",\" Czech Republic|Hopital Universitaire Robert-Debre|Vestre Viken Hospital Trust|The Hospital for Sick Children|Cardiff University|Odense University Hospital\t1000.0\tOTHER\tOBSERVATIONAL\tObservational Model: |Time Perspective: p\t2017-07-13\t2026-06-30\",,,,,,,,,,,,,,,,,,,,,,,,,,,,,,,,,,,,,,,,,,,,,,,,,,,,,,,,,,,,,,,,,,,,,,,,,,,,,,,,,,,,,,,,,,,,,,,,,,,,,,,,,,,,,,,,,,,,,,,,,,,,,,,,,,,,,,,,,,,,,,,,,,,,,,,,,,,,,,,,,,,,,,,,,,,,,,,,,,,,,,,,,,,,,,,,,,,,,,,,,,,,,,,,,\r\n\"NCT00120471\tSafety and Blood Levels of Tenofovir Disoproxil Fumarate in HIV Infected Pregnant Women and Their Babies\t\tCOMPLETED\tHIV Infections\tDRUG: Tenofovir disoproxil fumarate|DRUG: Tenofovir disoproxil fumarate|DRUG: Tenofovir disoproxil fumarate\tNational Institute of Allergy and Infectious Diseases (NIAID)\tEunice Kennedy Shriver National Institute of Child Health and Human Development (NICHD)|National Institute on Drug Abuse (NIDA)|National Institute of Mental Health (NIMH)\t122.0\tNIH\tINTERVENTIONAL\tAllocation: RANDOMIZED|Intervention Model: PARALLEL|Masking: NONE|Primary Purpose: PREVENTION\t2006-11\t2011-12\",,,,,,,,,,,,,,,,,,,,,,,,,,,,,,,,,,,,,,,,,,,,,,,,,,,,,,,,,,,,,,,,,,,,,,,,,,,,,,,,,,,,,,,,,,,,,,,,,,,,,,,,,,,,,,,,,,,,,,,,,,,,,,,,,,,,,,,,,,,,,,,,,,,,,,,,,,,,,,,,,,,,,,,,,,,,,,,,,,,,,,,,,,,,,,,,,,,,,,,,,,,,,,,,,,\r\n\"NCT04784871\tPromoting Wellbeing: The Five Ways to All Intervention\t5WaysA\tCOMPLETED\tWellbeing|Health Attitude|Quality of Life\tBEHAVIORAL: 5waysA Intervention|BEHAVIORAL: 5waysA Active wait-list control|BEHAVIORAL: 5waysA Inactive wait-list control\tUniversity of Oslo\tNorwegian Institute of Public Health|Norwegian Council for Mental Health|The Dam Foundation\t970.0\tOTHER\tINTERVENTIONAL\tAllocation: RANDOMIZED|Intervention Model: PARALLEL|Masking: NONE|Primary Purpose: PREVENTION\t2021-03-04\t2023-02-24\",,,,,,,,,,,,,,,,,,,,,,,,,,,,,,,,,,,,,,,,,,,,,,,,,,,,,,,,,,,,,,,,,,,,,,,,,,,,,,,,,,,,,,,,,,,,,,,,,,,,,,,,,,,,,,,,,,,,,,,,,,,,,,,,,,,,,,,,,,,,,,,,,,,,,,,,,,,,,,,,,,,,,,,,,,,,,,,,,,,,,,,,,,,,,,,,,,,,,,,,,,,,,,,,,,\r\n\"NCT02383771\tReversal of the Anti-platelet Effects of Ticagrelor\tREVERSAL\tCOMPLETED\tCoronary Artery Disease\tDRUG: Ticagrelor|DRUG: Aspirin + Ticagrelor|DRUG: Control|DRUG: Aspirin + Ticagrelor\tThe First Affiliated Hospital with Nanjing Medical University\tNational Natural Science Foundation of China\t64.0\tOTHER\tINTERVENTIONAL\tAllocation: RANDOMIZED|Intervention Model: PARALLEL|Masking: SINGLE (INVESTIGATOR)|Primary Purpose: TREATMENT\t2015-03\t2016-12\",,,,,,,,,,,,,,,,,,,,,,,,,,,,,,,,,,,,,,,,,,,,,,,,,,,,,,,,,,,,,,,,,,,,,,,,,,,,,,,,,,,,,,,,,,,,,,,,,,,,,,,,,,,,,,,,,,,,,,,,,,,,,,,,,,,,,,,,,,,,,,,,,,,,,,,,,,,,,,,,,,,,,,,,,,,,,,,,,,,,,,,,,,,,,,,,,,,,,,,,,,,,,,,,,,\r\n\"NCT03269071\tNeural Stem Cell Transplantation in Multiple Sclerosis Patients\tSTEMS\tCOMPLETED\tProgressive Multiple Sclerosis\tDRUG: human fetal-derived Neural Stem Cells (hNSCs)\tIRCCS San Raffaele\tFondazione Italiana Sclerosi Multipla\t4.0\tOTHER\tINTERVENTIONAL\tAllocation: NON_RANDOMIZED|Intervention Model: SEQUENTIAL|Masking: NONE|Primary Purpose: TREATMENT\t2017-05-17\t2021-07-31\",,,,,,,,,,,,,,,,,,,,,,,,,,,,,,,,,,,,,,,,,,,,,,,,,,,,,,,,,,,,,,,,,,,,,,,,,,,,,,,,,,,,,,,,,,,,,,,,,,,,,,,,,,,,,,,,,,,,,,,,,,,,,,,,,,,,,,,,,,,,,,,,,,,,,,,,,,,,,,,,,,,,,,,,,,,,,,,,,,,,,,,,,,,,,,,,,,,,,,,,,,,,,,,,,,\r\n\"NCT01659671\tRCT of the Effect of Uvulopalatopharyngoplasty Compared to Expectancy in Patients With Obstructive Sleep Apnea\tSKUP3\tCOMPLETED\tObstructive Sleep Apnea Syndrome\tPROCEDURE: Uvulopalatopharyngoplasty\tKarolinska University Hospital\tKarolinska Institutet\t65.0\tOTHER\tINTERVENTIONAL\tAllocation: RANDOMIZED|Intervention Model: PARALLEL|Masking: SINGLE (OUTCOMES_ASSESSOR)|Primary Purpose: TREATMENT\t2007-06\t2014-05\",,,,,,,,,,,,,,,,,,,,,,,,,,,,,,,,,,,,,,,,,,,,,,,,,,,,,,,,,,,,,,,,,,,,,,,,,,,,,,,,,,,,,,,,,,,,,,,,,,,,,,,,,,,,,,,,,,,,,,,,,,,,,,,,,,,,,,,,,,,,,,,,,,,,,,,,,,,,,,,,,,,,,,,,,,,,,,,,,,,,,,,,,,,,,,,,,,,,,,,,,,,,,,,,,,\r\n\"NCT04765371\tComparison Between Prednisolone and Dexamethasone on Mortality in Patients on Oxygen Therapy\",\" With CoViD-19\tCOPreDex\tCOMPLETED\tCoronavirus Infection\tDRUG: DEXAMETHASONE|DRUG: PREDNISOLONE\tHôpital NOVO\t\t89.0\tOTHER\tINTERVENTIONAL\tAllocation: RANDOMIZED|Intervention Model: PARALLEL|Masking: NONE|Primary Purpose: TREATMENT\t2021-03-03\t2022-05-13\",,,,,,,,,,,,,,,,,,,,,,,,,,,,,,,,,,,,,,,,,,,,,,,,,,,,,,,,,,,,,,,,,,,,,,,,,,,,,,,,,,,,,,,,,,,,,,,,,,,,,,,,,,,,,,,,,,,,,,,,,,,,,,,,,,,,,,,,,,,,,,,,,,,,,,,,,,,,,,,,,,,,,,,,,,,,,,,,,,,,,,,,,,,,,,,,,,,,,,,,,,,,,,,,,\r\n\"NCT02830971\tDeveloping a Standardized Learning Curve\t\tCOMPLETED\tRegistered Nurses|Nursing Personnel|Motor Skills\tPROCEDURE: Doing Different ICU techniques and skills\tBaqiyatallah Medical Sciences University\tShahid Beheshti University|Tehran University of Medical Sciences\t60.0\tOTHER\tINTERVENTIONAL\tAllocation: NA|Intervention Model: SINGLE_GROUP|Masking: NONE|Primary Purpose: BASIC_SCIENCE\t2016-07\t2021-04-12\",,,,,,,,,,,,,,,,,,,,,,,,,,,,,,,,,,,,,,,,,,,,,,,,,,,,,,,,,,,,,,,,,,,,,,,,,,,,,,,,,,,,,,,,,,,,,,,,,,,,,,,,,,,,,,,,,,,,,,,,,,,,,,,,,,,,,,,,,,,,,,,,,,,,,,,,,,,,,,,,,,,,,,,,,,,,,,,,,,,,,,,,,,,,,,,,,,,,,,,,,,,,,,,,,,\r\n\"NCT00416871\tInterleukin-2 and Interferon in Treating Patients With Metastatic Kidney Cancer\t\tCOMPLETED\tKidney Cancer\tBIOLOGICAL: aldesleukin|BIOLOGICAL: recombinant interferon alfa\tCentre Leon Berard\t\t220.0\tOTHER\tINTERVENTIONAL\tAllocation: RANDOMIZED|Intervention Model: |Masking: NONE|Primary Purpose: TREATMENT\t\t2006-02\",,,,,,,,,,,,,,,,,,,,,,,,,,,,,,,,,,,,,,,,,,,,,,,,,,,,,,,,,,,,,,,,,,,,,,,,,,,,,,,,,,,,,,,,,,,,,,,,,,,,,,,,,,,,,,,,,,,,,,,,,,,,,,,,,,,,,,,,,,,,,,,,,,,,,,,,,,,,,,,,,,,,,,,,,,,,,,,,,,,,,,,,,,,,,,,,,,,,,,,,,,,,,,,,,,\r\n\"NCT05900271\tDutch-Depression Outcome Trial Comparing 5 Day Multi Daily Neuronavigated Theta Burst Sessions With 6 Weeks rTMS\tDDOT\tACTIVE_NOT_RECRUITING\tTreatment Resistant Depression\tDEVICE: rTMS|DEVICE: iTBS\tAmsterdam UMC\",\" location VUmc\tRadboud University Medical Center|University Medical Center Groningen|Maastricht University|Trimbos|Academisch Medisch Centrum - Universiteit van Amsterdam (AMC-UvA)\t108.0\tOTHER\tINTERVENTIONAL\tAllocation: RANDOMIZED|Intervention Model: PARALLEL|Masking: SINGLE (OUTCOMES_ASSESSOR)|Primary Purpose: TREATMENT\t2023-11-15\t2027-12\",,,,,,,,,,,,,,,,,,,,,,,,,,,,,,,,,,,,,,,,,,,,,,,,,,,,,,,,,,,,,,,,,,,,,,,,,,,,,,,,,,,,,,,,,,,,,,,,,,,,,,,,,,,,,,,,,,,,,,,,,,,,,,,,,,,,,,,,,,,,,,,,,,,,,,,,,,,,,,,,,,,,,,,,,,,,,,,,,,,,,,,,,,,,,,,,,,,,,,,,,,,,,,,,,\r\n\"NCT02469571\tModulation of Gut Microbiota in Early Sepsis: A Pilot Study\tMGM-sepsis\tCOMPLETED\tSepsis\tDIETARY_SUPPLEMENT: Winclove 607|DIETARY_SUPPLEMENT: Placebo\tMedical University of Graz\t\t15.0\tOTHER\tINTERVENTIONAL\tAllocation: RANDOMIZED|Intervention Model: PARALLEL|Masking: QUADRUPLE (PARTICIPANT\", CARE_PROVIDER, INVESTIGATOR,\" OUTCOMES_ASSESSOR)|Primary Purpose: PREVENTION\t2015-09-01\t2018-03-01\",,,,,,,,,,,,,,,,,,,,,,,,,,,,,,,,,,,,,,,,,,,,,,,,,,,,,,,,,,,,,,,,,,,,,,,,,,,,,,,,,,,,,,,,,,,,,,,,,,,,,,,,,,,,,,,,,,,,,,,,,,,,,,,,,,,,,,,,,,,,,,,,,,,,,,,,,,,,,,,,,,,,,,,,,,,,,,,,,,,,,,,,,,,,,,,,,,,,,,,,,,,,,,,\r\n\"NCT05807971\tAssessment of Safety\", Tolerability, Pharmacokinetics,\" and Pharmacodynamics of ATH-063 in Healthy Subjects\t\tRECRUITING\tInflammatory Bowel Diseases|Crohn Disease|Ulcerative Colitis|Autoimmune Diseases\tDRUG: ATH-063|DRUG: Placebo\tAthos Therapeutics Inc\tSyneos Health|Athos Therapeutics Australia Pty Ltd\t76.0\tINDUSTRY\tINTERVENTIONAL\tAllocation: RANDOMIZED|Intervention Model: SEQUENTIAL|Masking: QUADRUPLE (PARTICIPANT\", CARE_PROVIDER, INVESTIGATOR,\" OUTCOMES_ASSESSOR)|Primary Purpose: TREATMENT\t2023-04-06\t2024-02-08\",,,,,,,,,,,,,,,,,,,,,,,,,,,,,,,,,,,,,,,,,,,,,,,,,,,,,,,,,,,,,,,,,,,,,,,,,,,,,,,,,,,,,,,,,,,,,,,,,,,,,,,,,,,,,,,,,,,,,,,,,,,,,,,,,,,,,,,,,,,,,,,,,,,,,,,,,,,,,,,,,,,,,,,,,,,,,,,,,,,,,,,,,,,,,,,,,,,,,,,,,,,,\r\n\"NCT02083471\tCow's Milk and Hen's Egg Hyposensitization in Adults\t\tUNKNOWN\tEgg Allergy|Cow's Milk Allergy\tDIETARY_SUPPLEMENT: Specific Oral Tolerance Induction with Egg or Cow's milk\tTurku University Hospital\t\t40.0\tOTHER_GOV\tINTERVENTIONAL\tAllocation: RANDOMIZED|Intervention Model: PARALLEL|Masking: NONE|Primary Purpose: TREATMENT\t2015-04\t2017-05\",,,,,,,,,,,,,,,,,,,,,,,,,,,,,,,,,,,,,,,,,,,,,,,,,,,,,,,,,,,,,,,,,,,,,,,,,,,,,,,,,,,,,,,,,,,,,,,,,,,,,,,,,,,,,,,,,,,,,,,,,,,,,,,,,,,,,,,,,,,,,,,,,,,,,,,,,,,,,,,,,,,,,,,,,,,,,,,,,,,,,,,,,,,,,,,,,,,,,,,,,,,,,,,,,,\r\n\"NCT01062971\tClinical Study of A Fixed Combination of Timolol-Brimonidine-Dorzolamide\t\tCOMPLETED\tPrimary Open Angle Glaucoma|Ocular Hypertension\tDRUG: dorzolamide-timolol-brimonidine\tLaboratorios Sophia S.A de C.V.\t\t124.0\tINDUSTRY\tINTERVENTIONAL\tAllocation: RANDOMIZED|Intervention Model: PARALLEL|Masking: DOUBLE (PARTICIPANT\",\" INVESTIGATOR)|Primary Purpose: TREATMENT\t2006-02\t2008-06\",,,,,,,,,,,,,,,,,,,,,,,,,,,,,,,,,,,,,,,,,,,,,,,,,,,,,,,,,,,,,,,,,,,,,,,,,,,,,,,,,,,,,,,,,,,,,,,,,,,,,,,,,,,,,,,,,,,,,,,,,,,,,,,,,,,,,,,,,,,,,,,,,,,,,,,,,,,,,,,,,,,,,,,,,,,,,,,,,,,,,,,,,,,,,,,,,,,,,,,,,,,,,,,,,\r\n\"NCT03928171\tThe Effect of Intra-abdominal Pressure on Peritoneal Perfusion During Laparoscopic Colorectal Surgery\tPERFUSION\tCOMPLETED\tLaparoscopic Surgery|Pneumoperitoneum\tOTHER: Intra-abdominal pressure during laparoscopy\tRadboud University Medical Center\t\t30.0\tOTHER\tINTERVENTIONAL\tAllocation: RANDOMIZED|Intervention Model: PARALLEL|Masking: TRIPLE (PARTICIPANT\", CARE_PROVIDER,\" OUTCOMES_ASSESSOR)|Primary Purpose: TREATMENT\t2018-06-13\t2018-12-24\",,,,,,,,,,,,,,,,,,,,,,,,,,,,,,,,,,,,,,,,,,,,,,,,,,,,,,,,,,,,,,,,,,,,,,,,,,,,,,,,,,,,,,,,,,,,,,,,,,,,,,,,,,,,,,,,,,,,,,,,,,,,,,,,,,,,,,,,,,,,,,,,,,,,,,,,,,,,,,,,,,,,,,,,,,,,,,,,,,,,,,,,,,,,,,,,,,,,,,,,,,,,,,,,\r\n\"NCT00897871\tEvaluating the Side Effects and How Well Anticancer Drugs Work in Very Young Patients With Cancer\t\tUNKNOWN\tUnspecified Childhood Solid Tumor\",\" Protocol Specific\tDRUG: carboplatin|DRUG: cyclophosphamide|DRUG: etoposide phosphate|GENETIC: gene expression analysis|GENETIC: polymorphism analysis|OTHER: pharmacological study\tChildren's Cancer and Leukaemia Group\t\t60.0\tOTHER\tOBSERVATIONAL\tObservational Model: |Time Perspective: p\t2007-02\t\",,,,,,,,,,,,,,,,,,,,,,,,,,,,,,,,,,,,,,,,,,,,,,,,,,,,,,,,,,,,,,,,,,,,,,,,,,,,,,,,,,,,,,,,,,,,,,,,,,,,,,,,,,,,,,,,,,,,,,,,,,,,,,,,,,,,,,,,,,,,,,,,,,,,,,,,,,,,,,,,,,,,,,,,,,,,,,,,,,,,,,,,,,,,,,,,,,,,,,,,,,,,,,,,,\r\n\"NCT00848471\tValidation of the Quark RMR Calorimeter (Cosmed) Versus Deltatrac II (GE Health Care Clinical Systems)\tProtocol Quark\tUNKNOWN\tHealthy|Obesity\tDEVICE: Quark RMR|DEVICE: Deltatrac II\tHospices Civils de Lyon\tCentre de Recherche en Nutrition Humaine Rhone-Alpe\t30.0\tOTHER\tINTERVENTIONAL\tAllocation: RANDOMIZED|Intervention Model: CROSSOVER|Masking: NONE|Primary Purpose: HEALTH_SERVICES_RESEARCH\t2009-01\t2009-12\",,,,,,,,,,,,,,,,,,,,,,,,,,,,,,,,,,,,,,,,,,,,,,,,,,,,,,,,,,,,,,,,,,,,,,,,,,,,,,,,,,,,,,,,,,,,,,,,,,,,,,,,,,,,,,,,,,,,,,,,,,,,,,,,,,,,,,,,,,,,,,,,,,,,,,,,,,,,,,,,,,,,,,,,,,,,,,,,,,,,,,,,,,,,,,,,,,,,,,,,,,,,,,,,,,\r\n\"NCT06135571\tStudy on the No.253 Lymph Node Metastasis Patterns in Left-Sided Colon and Rectal Cancer\t\tRECRUITING\tColorectal Cancer|Lymph Node Metastasis\tPROCEDURE: Laparoscopic colorectal surgery\tCancer Institute and Hospital\",\" Chinese Academy of Medical Sciences\tPeking Union Medical College Hospital|Peking University Cancer Hospital & Institute|China-Japan Friendship Hospital|Chinese PLA General Hospital\t3000.0\tOTHER\tOBSERVATIONAL\tObservational Model: |Time Perspective: p\t2023-09-01\t2026-09-01\",,,,,,,,,,,,,,,,,,,,,,,,,,,,,,,,,,,,,,,,,,,,,,,,,,,,,,,,,,,,,,,,,,,,,,,,,,,,,,,,,,,,,,,,,,,,,,,,,,,,,,,,,,,,,,,,,,,,,,,,,,,,,,,,,,,,,,,,,,,,,,,,,,,,,,,,,,,,,,,,,,,,,,,,,,,,,,,,,,,,,,,,,,,,,,,,,,,,,,,,,,,,,,,,,\r\n\"NCT01189071\tPreoperative Use of Darifenacin (Enablex) to Alleviate Postoperative Ureteral Stent Pain\t\tTERMINATED\tOveractive Bladder|Renal Colic|Pain\",\" Postoperative\tDRUG: Darifenacin\tUniversity of Missouri-Columbia\t\t3.0\tOTHER\tINTERVENTIONAL\tAllocation: RANDOMIZED|Intervention Model: PARALLEL|Masking: DOUBLE (PARTICIPANT\",\" INVESTIGATOR)|Primary Purpose: TREATMENT\t2009-08\t2011-07\",,,,,,,,,,,,,,,,,,,,,,,,,,,,,,,,,,,,,,,,,,,,,,,,,,,,,,,,,,,,,,,,,,,,,,,,,,,,,,,,,,,,,,,,,,,,,,,,,,,,,,,,,,,,,,,,,,,,,,,,,,,,,,,,,,,,,,,,,,,,,,,,,,,,,,,,,,,,,,,,,,,,,,,,,,,,,,,,,,,,,,,,,,,,,,,,,,,,,,,,,,,,,,,,\r\n\"NCT00728871\tThe Correlations Between HPV L1-Specific Immunologic Responses in Cervical Cancer and Cervical Intraepithelial Neoplasia (CIN) Patients and Their Prognosis\t\tUNKNOWN\tCervical Cancer|Cervical Intraepithelial Neoplasia\tPROCEDURE: peripheral blood isolation\tNational Taiwan University Hospital\t\t600.0\tOTHER\tINTERVENTIONAL\tAllocation: NA|Intervention Model: SINGLE_GROUP|Masking: NONE|Primary Purpose: BASIC_SCIENCE\t2005-12\t2011-12\",,,,,,,,,,,,,,,,,,,,,,,,,,,,,,,,,,,,,,,,,,,,,,,,,,,,,,,,,,,,,,,,,,,,,,,,,,,,,,,,,,,,,,,,,,,,,,,,,,,,,,,,,,,,,,,,,,,,,,,,,,,,,,,,,,,,,,,,,,,,,,,,,,,,,,,,,,,,,,,,,,,,,,,,,,,,,,,,,,,,,,,,,,,,,,,,,,,,,,,,,,,,,,,,,,\r\n\"NCT05592171\tOcclusafe® Assisted MW Alone or With DEB-TACE Compared to MW With DEB-TACE in the Treatment of HCC\tSEASON-HCC\tRECRUITING\tHCC\tPROCEDURE: Microwave ablation + Occlusafe + DEB-TACE|PROCEDURE: Microwave ablation + Occlusafe|PROCEDURE: Microwave ablation + DEB-TACE\tUniversity of Pisa\tAzienda Ospedaliera Città della Salute e della Scienza di Torino|Fondazione Policlinico Universitario Agostino Gemelli IRCCS|Azienda Ospedaliera Universitaria Policlinico|IRCCS Azienda Ospedaliero-Universitaria di Bologna|Terumo Europe N.V.|Azienda Ospedaliero\",\" Universitaria Pisana\t60.0\tOTHER\tINTERVENTIONAL\tAllocation: RANDOMIZED|Intervention Model: PARALLEL|Masking: NONE|Primary Purpose: TREATMENT\t2022-10-17\t2025-10-17\",,,,,,,,,,,,,,,,,,,,,,,,,,,,,,,,,,,,,,,,,,,,,,,,,,,,,,,,,,,,,,,,,,,,,,,,,,,,,,,,,,,,,,,,,,,,,,,,,,,,,,,,,,,,,,,,,,,,,,,,,,,,,,,,,,,,,,,,,,,,,,,,,,,,,,,,,,,,,,,,,,,,,,,,,,,,,,,,,,,,,,,,,,,,,,,,,,,,,,,,,,,,,,,,,\r\n\"NCT00520871\tThe Water-Blueberry Study\t\tCOMPLETED\tCardiovascular Disease\tDRUG: Blueberry juice\tUniversity of Oslo\tUllevaal University Hospital\t62.0\tOTHER\tINTERVENTIONAL\tAllocation: RANDOMIZED|Intervention Model: PARALLEL|Masking: SINGLE|Primary Purpose: PREVENTION\t2003-03\t2004-04\",,,,,,,,,,,,,,,,,,,,,,,,,,,,,,,,,,,,,,,,,,,,,,,,,,,,,,,,,,,,,,,,,,,,,,,,,,,,,,,,,,,,,,,,,,,,,,,,,,,,,,,,,,,,,,,,,,,,,,,,,,,,,,,,,,,,,,,,,,,,,,,,,,,,,,,,,,,,,,,,,,,,,,,,,,,,,,,,,,,,,,,,,,,,,,,,,,,,,,,,,,,,,,,,,,\r\n\"NCT05913271\tStudy on the Correlation Between NAT2(N-acetyltransferase2) Gene Polymorphism and CrCl(Creatine Clreance) and the Efficacy and Safety of Levosimendan in Patients With Severe Heart Failure\t\tRECRUITING\tHeart Failure|Levosimendan|Efficacy|Safety\t\tYi Han\tQianfoshan Hospital\t352.0\tOTHER\tOBSERVATIONAL\tObservational Model: |Time Perspective: p\t2023-05-30\t2025-05-30\",,,,,,,,,,,,,,,,,,,,,,,,,,,,,,,,,,,,,,,,,,,,,,,,,,,,,,,,,,,,,,,,,,,,,,,,,,,,,,,,,,,,,,,,,,,,,,,,,,,,,,,,,,,,,,,,,,,,,,,,,,,,,,,,,,,,,,,,,,,,,,,,,,,,,,,,,,,,,,,,,,,,,,,,,,,,,,,,,,,,,,,,,,,,,,,,,,,,,,,,,,,,,,,,,,\r\n\"NCT04006171\tComparison of Serum C Type Natriuretic Peptide Levels Between Polycystic Ovary Syndrome Patients and Healthy Women\tCNP\tCOMPLETED\tPolycystic Ovary Syndrome|c Type Natriuretic Peptide|Menstrual Irregularity|Hyperandrogenism\tDIAGNOSTIC_TEST: C type natriuretic peptide\tNear East University\",\" Turkey\t\t90.0\tOTHER\tINTERVENTIONAL\tAllocation: NON_RANDOMIZED|Intervention Model: PARALLEL|Masking: NONE|Primary Purpose: DIAGNOSTIC\t2019-07-15\t2020-09-01\",,,,,,,,,,,,,,,,,,,,,,,,,,,,,,,,,,,,,,,,,,,,,,,,,,,,,,,,,,,,,,,,,,,,,,,,,,,,,,,,,,,,,,,,,,,,,,,,,,,,,,,,,,,,,,,,,,,,,,,,,,,,,,,,,,,,,,,,,,,,,,,,,,,,,,,,,,,,,,,,,,,,,,,,,,,,,,,,,,,,,,,,,,,,,,,,,,,,,,,,,,,,,,,,,\r\n\"NCT04370171\tManagement of Diabetic Patients With Telemedicine in the Context of the Covid-19 Epidemic\tTeleCoviDiab\tCOMPLETED\tDiabetes|Covid-19\tOTHER: care modalities|OTHER: Teleconsultation either by phone or by computer consultation\tUniversity Hospital\", Strasbourg,\" France\t\t610.0\tOTHER\tOBSERVATIONAL\tObservational Model: |Time Perspective: p\t2020-05-04\t2020-05-29\",,,,,,,,,,,,,,,,,,,,,,,,,,,,,,,,,,,,,,,,,,,,,,,,,,,,,,,,,,,,,,,,,,,,,,,,,,,,,,,,,,,,,,,,,,,,,,,,,,,,,,,,,,,,,,,,,,,,,,,,,,,,,,,,,,,,,,,,,,,,,,,,,,,,,,,,,,,,,,,,,,,,,,,,,,,,,,,,,,,,,,,,,,,,,,,,,,,,,,,,,,,,,,,,\r\n\"NCT04340271\tThe Clinical Utility of Extracorporeal Shock Wave Therapy on Burns\t\tCOMPLETED\tBurn Scar\tOTHER: Extracorporeal shock wave therapy|OTHER: conventional occupational therapy\tHangang Sacred Heart Hospital\t\t48.0\tOTHER\tINTERVENTIONAL\tAllocation: RANDOMIZED|Intervention Model: PARALLEL|Masking: DOUBLE (PARTICIPANT\",\" OUTCOMES_ASSESSOR)|Primary Purpose: TREATMENT\t2020-04-15\t2020-05-31\",,,,,,,,,,,,,,,,,,,,,,,,,,,,,,,,,,,,,,,,,,,,,,,,,,,,,,,,,,,,,,,,,,,,,,,,,,,,,,,,,,,,,,,,,,,,,,,,,,,,,,,,,,,,,,,,,,,,,,,,,,,,,,,,,,,,,,,,,,,,,,,,,,,,,,,,,,,,,,,,,,,,,,,,,,,,,,,,,,,,,,,,,,,,,,,,,,,,,,,,,,,,,,,,,\r\n\"NCT03075371\tHomeostatic and Non-homeostatic Processing of Food Cues in Anorexia Nervosa\t\tCOMPLETED\tAnorexia Nervosa|Healthy\tOTHER: Glucose|OTHER: Placebo\tUniversity of Heidelberg Medical Center\tGerman Research Foundation\t85.0\tOTHER\tINTERVENTIONAL\tAll\n\n*** WARNING: max output size exceeded, skipping output. ***\n\n,,,,,,,,,,,,,,,,,,,,,,,,,,,,,,,,,,,,,,,,,,,,,,,,,,,,,,,,,,,,,,,,,,,,,,,,,,,,,,,,,,,,,,,,,,,,,,,,,,,,,,,,,,,,,,,,,,,,,,,,,,,,,,,,,,,,,,,,,,,,,,,,,,,,,,,,,,,,,,,,,,,,,,,,,,,,,,,,,,,,,,,,,,,\r\n\"NCT02370771\tProteomic Analysis in Sera From Patients With Erosive Hand Osteoarthritis\tPASEO\tCOMPLETED\tErosive Hand Osteoarthritis\tPROCEDURE: Biological sampling|DEVICE: Radiographic evaluation\tUniversity Hospital\",\" Rouen\t\t32.0\tOTHER\tINTERVENTIONAL\tAllocation: NA|Intervention Model: SINGLE_GROUP|Masking: NONE|Primary Purpose: DIAGNOSTIC\t2015-06-09\t2019-11-17\",,,,,,,,,,,,,,,,,,,,,,,,,,,,,,,,,,,,,,,,,,,,,,,,,,,,,,,,,,,,,,,,,,,,,,,,,,,,,,,,,,,,,,,,,,,,,,,,,,,,,,,,,,,,,,,,,,,,,,,,,,,,,,,,,,,,,,,,,,,,,,,,,,,,,,,,,,,,,,,,,,,,,,,,,,,,,,,,,,,,,,,,,,,,,,,,,,,,,,,,,,,,,,,,,\r\n\"NCT05974371\tEpisodic Memory Integration and Interference\t\tNOT_YET_RECRUITING\tEpisodic Memory\tOTHER: emotional context similarity\tBoston College\t\t150.0\tOTHER\tINTERVENTIONAL\tAllocation: NA|Intervention Model: SINGLE_GROUP|Masking: NONE|Primary Purpose: BASIC_SCIENCE\t2024-08\t2027-08\",,,,,,,,,,,,,,,,,,,,,,,,,,,,,,,,,,,,,,,,,,,,,,,,,,,,,,,,,,,,,,,,,,,,,,,,,,,,,,,,,,,,,,,,,,,,,,,,,,,,,,,,,,,,,,,,,,,,,,,,,,,,,,,,,,,,,,,,,,,,,,,,,,,,,,,,,,,,,,,,,,,,,,,,,,,,,,,,,,,,,,,,,,,,,,,,,,,,,,,,,,,,,,,,,,\r\n\"NCT03713671\tGait and Balance Parameters Before and After Parathyroidectomy in Patients With Primary Hyperparathyroidism\t\tCOMPLETED\tPrimary Hyperparathyroidism\tDIAGNOSTIC_TEST: gait analysis\tRecep Tayyip Erdogan University Training and Research Hospital\tHacettepe University|Ankara Education and Research Hospital\t40.0\tOTHER\tINTERVENTIONAL\tAllocation: RANDOMIZED|Intervention Model: PARALLEL|Masking: SINGLE (OUTCOMES_ASSESSOR)|Primary Purpose: SCREENING\t2021-10-17\t2023-08-27\",,,,,,,,,,,,,,,,,,,,,,,,,,,,,,,,,,,,,,,,,,,,,,,,,,,,,,,,,,,,,,,,,,,,,,,,,,,,,,,,,,,,,,,,,,,,,,,,,,,,,,,,,,,,,,,,,,,,,,,,,,,,,,,,,,,,,,,,,,,,,,,,,,,,,,,,,,,,,,,,,,,,,,,,,,,,,,,,,,,,,,,,,,,,,,,,,,,,,,,,,,,,,,,,,,\r\n\"NCT02645071\tBrief Program in Reducing Sedentary Behavior and Promoting Physical Exercise\t\tCOMPLETED\tPhysical Activity\tBEHAVIORAL: Physical Activity\tThe University of Hong Kong\tHong Kong Jockey Club Charities Trust\t141.0\tOTHER\tINTERVENTIONAL\tAllocation: NA|Intervention Model: SINGLE_GROUP|Masking: NONE|Primary Purpose: PREVENTION\t2015-07\t2017-07\",,,,,,,,,,,,,,,,,,,,,,,,,,,,,,,,,,,,,,,,,,,,,,,,,,,,,,,,,,,,,,,,,,,,,,,,,,,,,,,,,,,,,,,,,,,,,,,,,,,,,,,,,,,,,,,,,,,,,,,,,,,,,,,,,,,,,,,,,,,,,,,,,,,,,,,,,,,,,,,,,,,,,,,,,,,,,,,,,,,,,,,,,,,,,,,,,,,,,,,,,,,,,,,,,,\r\n\"NCT04004871\tInduction Chemotherapy With Nab-paclitaxel\",\" Cisplatin and Fluorouracil for Locoregionally Advanced Nasopharyngeal Carcinoma\t\tUNKNOWN\tNasopharyngeal Carcinoma|Nasopharyngeal Cancer|Nasopharynx Cancer\tDRUG: Nab-paclitaxel\",\" Cisplatin and Fluorouracil|RADIATION: concurrent chemoradiotherapy\tGuangxi Medical University\tSecond Affiliated Hospital of Guangxi Medical University|Guilin Medical University\",\" China|Liuzhou Workers Hospital|Wuzhou Red Cross Hospital\t60.0\tOTHER\tINTERVENTIONAL\tAllocation: NA|Intervention Model: SINGLE_GROUP|Masking: NONE|Primary Purpose: TREATMENT\t2019-07-05\t2022-06-30\",,,,,,,,,,,,,,,,,,,,,,,,,,,,,,,,,,,,,,,,,,,,,,,,,,,,,,,,,,,,,,,,,,,,,,,,,,,,,,,,,,,,,,,,,,,,,,,,,,,,,,,,,,,,,,,,,,,,,,,,,,,,,,,,,,,,,,,,,,,,,,,,,,,,,,,,,,,,,,,,,,,,,,,,,,,,,,,,,,,,,,,,,,,,,,,,,,,,,,,,,,,,,,,\r\n\"NCT05953571\tLaparoscopic Assisted Dismembered Pyeloplasty Versus Open Pyeloplasty in (UPJO) With Poorly Function Kidney in Pediatrics\t\tCOMPLETED\tUretro-pelvic Junction Obstruction|Poorly Function Kidney\tPROCEDURE: Dismembered Pyeloplasty\tAl-Azhar University\tUniversity Hospital Fattouma Bourguiba\t65.0\tOTHER\tOBSERVATIONAL\tObservational Model: |Time Perspective: p\t2022-01-08\t2023-06-30\",,,,,,,,,,,,,,,,,,,,,,,,,,,,,,,,,,,,,,,,,,,,,,,,,,,,,,,,,,,,,,,,,,,,,,,,,,,,,,,,,,,,,,,,,,,,,,,,,,,,,,,,,,,,,,,,,,,,,,,,,,,,,,,,,,,,,,,,,,,,,,,,,,,,,,,,,,,,,,,,,,,,,,,,,,,,,,,,,,,,,,,,,,,,,,,,,,,,,,,,,,,,,,,,,,\r\n\"NCT02570971\tMannitol Versus Supportive Care in Ciguatera Fish Poisoning\t\tUNKNOWN\tCiguatoxin\tDRUG: Mannitol\tUniversity of South Florida\tFlorida Poison Control Center\t200.0\tOTHER\tINTERVENTIONAL\tAllocation: RANDOMIZED|Intervention Model: SINGLE_GROUP|Masking: TRIPLE (PARTICIPANT\", CARE_PROVIDER,\" INVESTIGATOR)|Primary Purpose: TREATMENT\t2015-10\t\",,,,,,,,,,,,,,,,,,,,,,,,,,,,,,,,,,,,,,,,,,,,,,,,,,,,,,,,,,,,,,,,,,,,,,,,,,,,,,,,,,,,,,,,,,,,,,,,,,,,,,,,,,,,,,,,,,,,,,,,,,,,,,,,,,,,,,,,,,,,,,,,,,,,,,,,,,,,,,,,,,,,,,,,,,,,,,,,,,,,,,,,,,,,,,,,,,,,,,,,,,,,,,,,\r\n\"NCT03987971\tAcupuncture on GB26 to Treat Chronic Low Back Pain\t\tUNKNOWN\tChronic Low-back Pain\tOTHER: acupuncture\tWenzhou Medical University\tQingtian People's hospital\t114.0\tOTHER\tINTERVENTIONAL\tAllocation: RANDOMIZED|Intervention Model: PARALLEL|Masking: TRIPLE (PARTICIPANT\", INVESTIGATOR,\" OUTCOMES_ASSESSOR)|Primary Purpose: TREATMENT\t2020-01\t2021-07\",,,,,,,,,,,,,,,,,,,,,,,,,,,,,,,,,,,,,,,,,,,,,,,,,,,,,,,,,,,,,,,,,,,,,,,,,,,,,,,,,,,,,,,,,,,,,,,,,,,,,,,,,,,,,,,,,,,,,,,,,,,,,,,,,,,,,,,,,,,,,,,,,,,,,,,,,,,,,,,,,,,,,,,,,,,,,,,,,,,,,,,,,,,,,,,,,,,,,,,,,,,,,,,,\r\n\"NCT01425671\tNeural Oscillations as Genetic and Functional Biomarkers in Normal and Disease States\t\tACTIVE_NOT_RECRUITING\tSchizophrenia|Schizoaffective Disorder|Schizophreniform Disorder\t\tUniversity of Maryland\",\" Baltimore\tNational Institute of Mental Health (NIMH)\t800.0\tOTHER\tOBSERVATIONAL\tObservational Model: |Time Perspective: p\t2010-11-30\t2024-06\",,,,,,,,,,,,,,,,,,,,,,,,,,,,,,,,,,,,,,,,,,,,,,,,,,,,,,,,,,,,,,,,,,,,,,,,,,,,,,,,,,,,,,,,,,,,,,,,,,,,,,,,,,,,,,,,,,,,,,,,,,,,,,,,,,,,,,,,,,,,,,,,,,,,,,,,,,,,,,,,,,,,,,,,,,,,,,,,,,,,,,,,,,,,,,,,,,,,,,,,,,,,,,,,,\r\n\"NCT04962971\tComparative Effect of 3 Different Cranberry Extracts on Cystitis Related Urinary Comfort in Women\t\tCOMPLETED\tRecurrent Cystitis\tDIETARY_SUPPLEMENT: X|DIETARY_SUPPLEMENT: Y|DIETARY_SUPPLEMENT: Z\tCEN Biotech\tNexira|CEN Nutriment\t216.0\tINDUSTRY\tOBSERVATIONAL\tObservational Model: |Time Perspective: p\t2020-09-01\t2022-02-01\",,,,,,,,,,,,,,,,,,,,,,,,,,,,,,,,,,,,,,,,,,,,,,,,,,,,,,,,,,,,,,,,,,,,,,,,,,,,,,,,,,,,,,,,,,,,,,,,,,,,,,,,,,,,,,,,,,,,,,,,,,,,,,,,,,,,,,,,,,,,,,,,,,,,,,,,,,,,,,,,,,,,,,,,,,,,,,,,,,,,,,,,,,,,,,,,,,,,,,,,,,,,,,,,,,\r\n\"NCT02827071\tOcular Imaging Study Using Advanced OCT\t\tUNKNOWN\tRetinal Vascular Disorder|Macular Degeneration\t\tUniversity of California\",\" Los Angeles\t\t1000.0\tOTHER\tOBSERVATIONAL\tObservational Model: |Time Perspective: p\t2016-07\t\",,,,,,,,,,,,,,,,,,,,,,,,,,,,,,,,,,,,,,,,,,,,,,,,,,,,,,,,,,,,,,,,,,,,,,,,,,,,,,,,,,,,,,,,,,,,,,,,,,,,,,,,,,,,,,,,,,,,,,,,,,,,,,,,,,,,,,,,,,,,,,,,,,,,,,,,,,,,,,,,,,,,,,,,,,,,,,,,,,,,,,,,,,,,,,,,,,,,,,,,,,,,,,,,,\r\n\"NCT04236271\tTELEsurveillance of Patients in PostopErative Bridge surgeryAge CoronairE\tTELE-PEACE\tCOMPLETED\tCoronary Artery Bypass\tDEVICE: connected objects\tAssistance Publique - Hôpitaux de Paris\tGFI\t33.0\tOTHER\tINTERVENTIONAL\tAllocation: NA|Intervention Model: SINGLE_GROUP|Masking: NONE|Primary Purpose: OTHER\t2020-03-13\t2022-12-31\",,,,,,,,,,,,,,,,,,,,,,,,,,,,,,,,,,,,,,,,,,,,,,,,,,,,,,,,,,,,,,,,,,,,,,,,,,,,,,,,,,,,,,,,,,,,,,,,,,,,,,,,,,,,,,,,,,,,,,,,,,,,,,,,,,,,,,,,,,,,,,,,,,,,,,,,,,,,,,,,,,,,,,,,,,,,,,,,,,,,,,,,,,,,,,,,,,,,,,,,,,,,,,,,,,\r\n\"NCT01780571\tCPAP/PSV Preoxygenation in Obese Patients\t\tCOMPLETED\tObesity|Anaesthesia\tPROCEDURE: CPAP 5 cm H2O + PSV 5 cm H2O\tKarolinska Institutet\t\t44.0\tOTHER\tINTERVENTIONAL\tAllocation: RANDOMIZED|Intervention Model: PARALLEL|Masking: SINGLE (PARTICIPANT)|Primary Purpose: PREVENTION\t2009-05\t2012-12\",,,,,,,,,,,,,,,,,,,,,,,,,,,,,,,,,,,,,,,,,,,,,,,,,,,,,,,,,,,,,,,,,,,,,,,,,,,,,,,,,,,,,,,,,,,,,,,,,,,,,,,,,,,,,,,,,,,,,,,,,,,,,,,,,,,,,,,,,,,,,,,,,,,,,,,,,,,,,,,,,,,,,,,,,,,,,,,,,,,,,,,,,,,,,,,,,,,,,,,,,,,,,,,,,,\r\n\"NCT05078671\tPharmacokinetic Boosting of Olaparib to Improve Exposure\",\" Tolerance and Cost-effectiveness\tPROACTIVE\tRECRUITING\tCancer\tDRUG: Olaparib|DRUG: Cobicistat\tRadboud University Medical Center\t\t160.0\tOTHER\tINTERVENTIONAL\tAllocation: RANDOMIZED|Intervention Model: PARALLEL|Masking: NONE|Primary Purpose: TREATMENT\t2021-12-15\t2025-12-31\",,,,,,,,,,,,,,,,,,,,,,,,,,,,,,,,,,,,,,,,,,,,,,,,,,,,,,,,,,,,,,,,,,,,,,,,,,,,,,,,,,,,,,,,,,,,,,,,,,,,,,,,,,,,,,,,,,,,,,,,,,,,,,,,,,,,,,,,,,,,,,,,,,,,,,,,,,,,,,,,,,,,,,,,,,,,,,,,,,,,,,,,,,,,,,,,,,,,,,,,,,,,,,,,,\r\n\"NCT02529371\tPre-Marketing Feasibility Evaluation of the UriCap-RM - Urine Collection in Hospitalized Male Patients\t\tUNKNOWN\tUrinary Incontinence\tDEVICE: UriCap-RM\tG.R. Dome Medical Ltd.\t\t30.0\tINDUSTRY\tINTERVENTIONAL\tAllocation: NA|Intervention Model: SINGLE_GROUP|Masking: NONE|Primary Purpose: SUPPORTIVE_CARE\t2015-09\t2015-10\",,,,,,,,,,,,,,,,,,,,,,,,,,,,,,,,,,,,,,,,,,,,,,,,,,,,,,,,,,,,,,,,,,,,,,,,,,,,,,,,,,,,,,,,,,,,,,,,,,,,,,,,,,,,,,,,,,,,,,,,,,,,,,,,,,,,,,,,,,,,,,,,,,,,,,,,,,,,,,,,,,,,,,,,,,,,,,,,,,,,,,,,,,,,,,,,,,,,,,,,,,,,,,,,,,\r\n\"NCT02309671\tA Dose-response Trial Using FE 999049 in Japanese Women Undergoing in Vitro Fertilisation (IVF) / Intracytoplasmic Sperm Injection (ICSI) Treatment\t\tCOMPLETED\tInfertility\tDRUG: FE 999049|DRUG: follitropin beta\tFerring Pharmaceuticals\t\t159.0\tINDUSTRY\tINTERVENTIONAL\tAllocation: RANDOMIZED|Intervention Model: PARALLEL|Masking: SINGLE (OUTCOMES_ASSESSOR)|Primary Purpose: TREATMENT\t2014-12\t2016-09\",,,,,,,,,,,,,,,,,,,,,,,,,,,,,,,,,,,,,,,,,,,,,,,,,,,,,,,,,,,,,,,,,,,,,,,,,,,,,,,,,,,,,,,,,,,,,,,,,,,,,,,,,,,,,,,,,,,,,,,,,,,,,,,,,,,,,,,,,,,,,,,,,,,,,,,,,,,,,,,,,,,,,,,,,,,,,,,,,,,,,,,,,,,,,,,,,,,,,,,,,,,,,,,,,,\r\n\"NCT03876171\tCulturally Modified Family Based Therapy for Haitian Youth in South Florida\t\tCOMPLETED\tProblem Behavior\tBEHAVIORAL: Haitian youth and family intervention study: family functioning|BEHAVIORAL: Haitian youth intervention study: youth psychoeducational|BEHAVIORAL: Haitian family intervention study: family psychoeducational|BEHAVIORAL: Diversion Programs\tUniversity of Miami\tNational Institute on Drug Abuse (NIDA)\t44.0\tOTHER\tINTERVENTIONAL\tAllocation: RANDOMIZED|Intervention Model: PARALLEL|Masking: SINGLE (PARTICIPANT)|Primary Purpose: TREATMENT\t2019-04-01\t2022-12-31\",,,,,,,,,,,,,,,,,,,,,,,,,,,,,,,,,,,,,,,,,,,,,,,,,,,,,,,,,,,,,,,,,,,,,,,,,,,,,,,,,,,,,,,,,,,,,,,,,,,,,,,,,,,,,,,,,,,,,,,,,,,,,,,,,,,,,,,,,,,,,,,,,,,,,,,,,,,,,,,,,,,,,,,,,,,,,,,,,,,,,,,,,,,,,,,,,,,,,,,,,,,,,,,,,,\r\n\"NCT05031871\tPharmacokinetics of HR17031 Injection in Healthy Subjects\t\tCOMPLETED\tType 2 Diabetes Mellitus\tDRUG: HR17031 injection ；INS068 injection；SHR20004 injection|DRUG: HR17031 injection ；INS068 injection；SHR20004 injection|DRUG: HR17031 injection ；INS068 injection；SHR20004 injection|DRUG: HR17031 injection ；INS068 injection；SHR20004 injection\tJiangsu HengRui Medicine Co.\",\" Ltd.\t\t24.0\tINDUSTRY\tINTERVENTIONAL\tAllocation: RANDOMIZED|Intervention Model: CROSSOVER|Masking: NONE|Primary Purpose: TREATMENT\t2021-09-02\t2021-11-19\",,,,,,,,,,,,,,,,,,,,,,,,,,,,,,,,,,,,,,,,,,,,,,,,,,,,,,,,,,,,,,,,,,,,,,,,,,,,,,,,,,,,,,,,,,,,,,,,,,,,,,,,,,,,,,,,,,,,,,,,,,,,,,,,,,,,,,,,,,,,,,,,,,,,,,,,,,,,,,,,,,,,,,,,,,,,,,,,,,,,,,,,,,,,,,,,,,,,,,,,,,,,,,,,,\r\n\"NCT04769271\tIntra-pocket Application of Tea Tree Oil Gel in the Treatment of Stage-2 Periodontitis\t\tCOMPLETED\tPeriodontitis\tPROCEDURE: Scaling and Root Planing|DRUG: Scaling and Root Planing with tea tree oil\tAlexandria University\t\t30.0\tOTHER\tINTERVENTIONAL\tAllocation: RANDOMIZED|Intervention Model: PARALLEL|Masking: SINGLE (OUTCOMES_ASSESSOR)|Primary Purpose: TREATMENT\t2019-11-10\t2020-08-25\",,,,,,,,,,,,,,,,,,,,,,,,,,,,,,,,,,,,,,,,,,,,,,,,,,,,,,,,,,,,,,,,,,,,,,,,,,,,,,,,,,,,,,,,,,,,,,,,,,,,,,,,,,,,,,,,,,,,,,,,,,,,,,,,,,,,,,,,,,,,,,,,,,,,,,,,,,,,,,,,,,,,,,,,,,,,,,,,,,,,,,,,,,,,,,,,,,,,,,,,,,,,,,,,,,\r\n\"NCT06044571\tOptimizing Telehealth-delivery of a Weight Loss Intervention in Older Adults\t\tNOT_YET_RECRUITING\tObesity|Multiple Chronic Conditions\tOTHER: Prescriptive|BEHAVIORAL: Behavioral\tUniversity of North Carolina\",\" Chapel Hill\tNational Institute on Aging (NIA)\t180.0\tOTHER\tINTERVENTIONAL\tAllocation: RANDOMIZED|Intervention Model: SEQUENTIAL|Masking: DOUBLE (PARTICIPANT\",\" CARE_PROVIDER)|Primary Purpose: TREATMENT\t2024-03-01\t2027-09-01\",,,,,,,,,,,,,,,,,,,,,,,,,,,,,,,,,,,,,,,,,,,,,,,,,,,,,,,,,,,,,,,,,,,,,,,,,,,,,,,,,,,,,,,,,,,,,,,,,,,,,,,,,,,,,,,,,,,,,,,,,,,,,,,,,,,,,,,,,,,,,,,,,,,,,,,,,,,,,,,,,,,,,,,,,,,,,,,,,,,,,,,,,,,,,,,,,,,,,,,,,,,,,,,,\r\n\"NCT01889771\tA Cost-effectiveness Study of Nicotine Patches Distributed Through a Quitline\t\tCOMPLETED\tSmoking Cessation\tDRUG: Nicotine Patch\tUniversity of Colorado\",\" Denver\t\t1495.0\tOTHER\tINTERVENTIONAL\tAllocation: RANDOMIZED|Intervention Model: PARALLEL|Masking: NONE|Primary Purpose: HEALTH_SERVICES_RESEARCH\t2010-03\t2012-03\",,,,,,,,,,,,,,,,,,,,,,,,,,,,,,,,,,,,,,,,,,,,,,,,,,,,,,,,,,,,,,,,,,,,,,,,,,,,,,,,,,,,,,,,,,,,,,,,,,,,,,,,,,,,,,,,,,,,,,,,,,,,,,,,,,,,,,,,,,,,,,,,,,,,,,,,,,,,,,,,,,,,,,,,,,,,,,,,,,,,,,,,,,,,,,,,,,,,,,,,,,,,,,,,,\r\n\"NCT03077971\tEffectiveness of Acceptance and Commitment Therapy Self-Help for Carers of People With Multiple Sclerosis\t\tUNKNOWN\tCarer Stress Syndrome\tBEHAVIORAL: ACT Self-Help|BEHAVIORAL: ACT Self-Help with Telephone Support\tUniversity of Nottingham\t\t24.0\tOTHER\tINTERVENTIONAL\tAllocation: RANDOMIZED|Intervention Model: PARALLEL|Masking: SINGLE (OUTCOMES_ASSESSOR)|Primary Purpose: SUPPORTIVE_CARE\t2016-12-01\t2018-06\",,,,,,,,,,,,,,,,,,,,,,,,,,,,,,,,,,,,,,,,,,,,,,,,,,,,,,,,,,,,,,,,,,,,,,,,,,,,,,,,,,,,,,,,,,,,,,,,,,,,,,,,,,,,,,,,,,,,,,,,,,,,,,,,,,,,,,,,,,,,,,,,,,,,,,,,,,,,,,,,,,,,,,,,,,,,,,,,,,,,,,,,,,,,,,,,,,,,,,,,,,,,,,,,,,\r\n\"NCT02912871\tSubthalamotomy by ExAblate Transcranial System to Treat Motor Features of Parkinson's Disease\t\tCOMPLETED\tParkinson's Disease\tOTHER: MRIgHIFU unilateral subthalamotomy\tFundación de investigación HM\tInsightech\t10.0\tOTHER\tINTERVENTIONAL\tAllocation: NA|Intervention Model: SINGLE_GROUP|Masking: NONE|Primary Purpose: TREATMENT\t2016-04\t2017-01\",,,,,,,,,,,,,,,,,,,,,,,,,,,,,,,,,,,,,,,,,,,,,,,,,,,,,,,,,,,,,,,,,,,,,,,,,,,,,,,,,,,,,,,,,,,,,,,,,,,,,,,,,,,,,,,,,,,,,,,,,,,,,,,,,,,,,,,,,,,,,,,,,,,,,,,,,,,,,,,,,,,,,,,,,,,,,,,,,,,,,,,,,,,,,,,,,,,,,,,,,,,,,,,,,,\r\n\"NCT03548571\tDendritic Cell Immunotherapy Against Cancer Stem Cells in Glioblastoma Patients Receiving Standard Therapy\tDEN-STEM\tACTIVE_NOT_RECRUITING\tGlioblastoma\tBIOLOGICAL: Dendritic cell immunization|DRUG: Adjuvant temozolomide\tOslo University Hospital\t\t60.0\tOTHER\tINTERVENTIONAL\tAllocation: RANDOMIZED|Intervention Model: PARALLEL|Masking: NONE|Primary Purpose: TREATMENT\t2018-04-26\t2025-05-01\",,,,,,,,,,,,,,,,,,,,,,,,,,,,,,,,,,,,,,,,,,,,,,,,,,,,,,,,,,,,,,,,,,,,,,,,,,,,,,,,,,,,,,,,,,,,,,,,,,,,,,,,,,,,,,,,,,,,,,,,,,,,,,,,,,,,,,,,,,,,,,,,,,,,,,,,,,,,,,,,,,,,,,,,,,,,,,,,,,,,,,,,,,,,,,,,,,,,,,,,,,,,,,,,,,\r\n\"NCT01449071\tStudy Evaluating the Pharmacokinetics and Safety of Epratuzumab in Japanese Systemic Lupus Erythematosus (SLE)\t\tCOMPLETED\tSystemic Lupus Erythematosus\tBIOLOGICAL: Placebo|BIOLOGICAL: Epratuzumab 400 mg|BIOLOGICAL: Epratuzumab 1200 mg|BIOLOGICAL: Epratuzumab 100 mg|BIOLOGICAL: Epratuzumab 600 mg\tUCB Pharma\t\t20.0\tINDUSTRY\tINTERVENTIONAL\tAllocation: RANDOMIZED|Intervention Model: PARALLEL|Masking: QUADRUPLE (PARTICIPANT\", CARE_PROVIDER, INVESTIGATOR,\" OUTCOMES_ASSESSOR)|Primary Purpose: TREATMENT\t2011-10\t2013-03\",,,,,,,,,,,,,,,,,,,,,,,,,,,,,,,,,,,,,,,,,,,,,,,,,,,,,,,,,,,,,,,,,,,,,,,,,,,,,,,,,,,,,,,,,,,,,,,,,,,,,,,,,,,,,,,,,,,,,,,,,,,,,,,,,,,,,,,,,,,,,,,,,,,,,,,,,,,,,,,,,,,,,,,,,,,,,,,,,,,,,,,,,,,,,,,,,,,,,,,,,,,,,,,\r\n\"NCT03530371\tIntranasal Dexmedetomidine for Sedated Hearing Testing\t\tCOMPLETED\tAuditory Brainstem Response\tDRUG: Dexmedetomidine Hydrochloride\tFondation Lenval\t\t60.0\tOTHER\tINTERVENTIONAL\tAllocation: NA|Intervention Model: SINGLE_GROUP|Masking: NONE|Primary Purpose: DIAGNOSTIC\t2019-05-02\t2021-12-31\",,,,,,,,,,,,,,,,,,,,,,,,,,,,,,,,,,,,,,,,,,,,,,,,,,,,,,,,,,,,,,,,,,,,,,,,,,,,,,,,,,,,,,,,,,,,,,,,,,,,,,,,,,,,,,,,,,,,,,,,,,,,,,,,,,,,,,,,,,,,,,,,,,,,,,,,,,,,,,,,,,,,,,,,,,,,,,,,,,,,,,,,,,,,,,,,,,,,,,,,,,,,,,,,,,\r\n\"NCT05921071\tDo Patients Who Received Tranexamic Acid in Vaginal Hysterectomy Loose Les Blood\",\" Comparing to Patients Who Did Not?\t\tRECRUITING\tVaginal Hysterectomy\tDRUG: Tranexamic acid|DRUG: Placebo\tWolfson Medical Center\t\t150.0\tOTHER_GOV\tINTERVENTIONAL\tAllocation: RANDOMIZED|Intervention Model: PARALLEL|Masking: TRIPLE (PARTICIPANT\", CARE_PROVIDER,\" OUTCOMES_ASSESSOR)|Primary Purpose: SUPPORTIVE_CARE\t2023-01-22\t2025-01-01\",,,,,,,,,,,,,,,,,,,,,,,,,,,,,,,,,,,,,,,,,,,,,,,,,,,,,,,,,,,,,,,,,,,,,,,,,,,,,,,,,,,,,,,,,,,,,,,,,,,,,,,,,,,,,,,,,,,,,,,,,,,,,,,,,,,,,,,,,,,,,,,,,,,,,,,,,,,,,,,,,,,,,,,,,,,,,,,,,,,,,,,,,,,,,,,,,,,,,,,,,,,,,,,\r\n\"NCT04974671\tTrial Of Stereotactic Body Radiation Therapy (SBRT) for Oligoprogression on Immune Checkpoint Inhibitors (ICI) in Metastatic Renal Cell Carcinoma\t\tRECRUITING\tRenal Cell Carcinoma|Metastatic Renal Cell Carcinoma|Oligoprogressive|Progression\tRADIATION: Stereotactic Body Radiation Therapy\tYale University\t\t30.0\tOTHER\tINTERVENTIONAL\tAllocation: NA|Intervention Model: SINGLE_GROUP|Masking: NONE|Primary Purpose: TREATMENT\t2022-08-08\t2027-04-01\",,,,,,,,,,,,,,,,,,,,,,,,,,,,,,,,,,,,,,,,,,,,,,,,,,,,,,,,,,,,,,,,,,,,,,,,,,,,,,,,,,,,,,,,,,,,,,,,,,,,,,,,,,,,,,,,,,,,,,,,,,,,,,,,,,,,,,,,,,,,,,,,,,,,,,,,,,,,,,,,,,,,,,,,,,,,,,,,,,,,,,,,,,,,,,,,,,,,,,,,,,,,,,,,,,\r\n\"NCT00080171\tOsteoarthritis Initiative (OAI): A Knee Health Study\t\tCOMPLETED\tOsteoarthritis|Knee Osteoarthritis\t\tNational Institute of Arthritis and Musculoskeletal and Skin Diseases (NIAMS)\tGlaxoSmithKline|Merck Sharp & Dohme LLC|Novartis|Pfizer\t4796.0\tNIH\tOBSERVATIONAL\tObservational Model: |Time Perspective: p\t2004-02\t2015-10\",,,,,,,,,,,,,,,,,,,,,,,,,,,,,,,,,,,,,,,,,,,,,,,,,,,,,,,,,,,,,,,,,,,,,,,,,,,,,,,,,,,,,,,,,,,,,,,,,,,,,,,,,,,,,,,,,,,,,,,,,,,,,,,,,,,,,,,,,,,,,,,,,,,,,,,,,,,,,,,,,,,,,,,,,,,,,,,,,,,,,,,,,,,,,,,,,,,,,,,,,,,,,,,,,,\r\n\"NCT00368771\tA Six-month Study to Compare Outcome Differences and Visceral Response ... Irritable Bowel Syndrome\t\tCOMPLETED\tIrritable Bowel Syndrome\tBEHAVIORAL: IBS Stress Management|BEHAVIORAL: IBS Symptom Management|BEHAVIORAL: IBS Educational Training\tUniversity of California\",\" Los Angeles\tNational Institute of Nursing Research (NINR)\t163.0\tOTHER\tINTERVENTIONAL\tAllocation: RANDOMIZED|Intervention Model: PARALLEL|Masking: NONE|Primary Purpose: TREATMENT\t2002-07\t2010-05\",,,,,,,,,,,,,,,,,,,,,,,,,,,,,,,,,,,,,,,,,,,,,,,,,,,,,,,,,,,,,,,,,,,,,,,,,,,,,,,,,,,,,,,,,,,,,,,,,,,,,,,,,,,,,,,,,,,,,,,,,,,,,,,,,,,,,,,,,,,,,,,,,,,,,,,,,,,,,,,,,,,,,,,,,,,,,,,,,,,,,,,,,,,,,,,,,,,,,,,,,,,,,,,,,\r\n\"NCT04979871\tSARS-CoV-2 Antibodies and Virus Neutralisation in a Cohort Vaccinted Against COVID-19\tDER-CoV2-001\tCOMPLETED\tVaccine Reaction\tPROCEDURE: Venous bleeding\tUniversity of Zurich\t\t50.0\tOTHER\tOBSERVATIONAL\tObservational Model: |Time Perspective: p\t2021-07-22\t2021-12-31\",,,,,,,,,,,,,,,,,,,,,,,,,,,,,,,,,,,,,,,,,,,,,,,,,,,,,,,,,,,,,,,,,,,,,,,,,,,,,,,,,,,,,,,,,,,,,,,,,,,,,,,,,,,,,,,,,,,,,,,,,,,,,,,,,,,,,,,,,,,,,,,,,,,,,,,,,,,,,,,,,,,,,,,,,,,,,,,,,,,,,,,,,,,,,,,,,,,,,,,,,,,,,,,,,,\r\n\"NCT04097171\tThe Effect of Diet Composition on Performance\", Expenditure, Blood Lipids,\" and Appetite Hormones in Highly Trained Cyclists\tDCAP\tCOMPLETED\tEndurance Cycling Performance\tOTHER: Diet\tTexas Christian University\t\t34.0\tOTHER\tINTERVENTIONAL\tAllocation: RANDOMIZED|Intervention Model: CROSSOVER|Masking: NONE|Primary Purpose: BASIC_SCIENCE\t2019-11-11\t2020-03-30\",,,,,,,,,,,,,,,,,,,,,,,,,,,,,,,,,,,,,,,,,,,,,,,,,,,,,,,,,,,,,,,,,,,,,,,,,,,,,,,,,,,,,,,,,,,,,,,,,,,,,,,,,,,,,,,,,,,,,,,,,,,,,,,,,,,,,,,,,,,,,,,,,,,,,,,,,,,,,,,,,,,,,,,,,,,,,,,,,,,,,,,,,,,,,,,,,,,,,,,,,,,,,,,\r\n\"NCT06199271\tNeoadjuvant Adebrelimab Plus Dalpiciclib in Head and Neck Squamous Cell Carcinoma\t\tNOT_YET_RECRUITING\tHead and Neck Squamous Cell Carcinoma\tDRUG: Adebrelimab and dalpiciclib\tZhongzheng Xiang\t\t30.0\tOTHER\tINTERVENTIONAL\tAllocation: NA|Intervention Model: SINGLE_GROUP|Masking: NONE|Primary Purpose: TREATMENT\t2024-01-31\t2026-12-31\",,,,,,,,,,,,,,,,,,,,,,,,,,,,,,,,,,,,,,,,,,,,,,,,,,,,,,,,,,,,,,,,,,,,,,,,,,,,,,,,,,,,,,,,,,,,,,,,,,,,,,,,,,,,,,,,,,,,,,,,,,,,,,,,,,,,,,,,,,,,,,,,,,,,,,,,,,,,,,,,,,,,,,,,,,,,,,,,,,,,,,,,,,,,,,,,,,,,,,,,,,,,,,,,,,\r\n\"NCT04032171\tStudy of Evobrutinib in Participants With RMS\t\tTERMINATED\tRelapsing-remitting Multiple Sclerosis\tDRUG: Evobrutinib|DRUG: Avonex®|DRUG: Avonex® matched Placebo|DRUG: Evobrutinib matched Placebo\tEMD Serono Research & Development Institute\",\" Inc.\tMerck KGaA\", Darmstadt,\" Germany\t1.0\tINDUSTRY\tINTERVENTIONAL\tAllocation: RANDOMIZED|Intervention Model: PARALLEL|Masking: QUADRUPLE (PARTICIPANT\", CARE_PROVIDER, INVESTIGATOR,\" OUTCOMES_ASSESSOR)|Primary Purpose: TREATMENT\t2019-09-10\t2020-05-20\",,,,,,,,,,,,,,,,,,,,,,,,,,,,,,,,,,,,,,,,,,,,,,,,,,,,,,,,,,,,,,,,,,,,,,,,,,,,,,,,,,,,,,,,,,,,,,,,,,,,,,,,,,,,,,,,,,,,,,,,,,,,,,,,,,,,,,,,,,,,,,,,,,,,,,,,,,,,,,,,,,,,,,,,,,,,,,,,,,,,,,,,,,,,,,,,,,,,,,,,,,,,\r\n\"NCT05674071\tApplying an Osteopathic Intervention to Improve Mental Health Symptoms: a Mixed-methods Feasibility Study Protocol.\t\tCOMPLETED\tMental Health Issue\tBEHAVIORAL: Articulation/HVT|BEHAVIORAL: Soft-tissue massage|BEHAVIORAL: Craniosacral techniques|BEHAVIORAL: Combination of the three interventions: HVT\",\" soft-tissue and craniosacral techniques\tSwansea University\tOsteopathic Foundation|University College of Osteopathy\t32.0\tOTHER\tINTERVENTIONAL\tAllocation: RANDOMIZED|Intervention Model: PARALLEL|Masking: SINGLE (OUTCOMES_ASSESSOR)|Primary Purpose: TREATMENT\t2022-12-20\t2023-08-01\",,,,,,,,,,,,,,,,,,,,,,,,,,,,,,,,,,,,,,,,,,,,,,,,,,,,,,,,,,,,,,,,,,,,,,,,,,,,,,,,,,,,,,,,,,,,,,,,,,,,,,,,,,,,,,,,,,,,,,,,,,,,,,,,,,,,,,,,,,,,,,,,,,,,,,,,,,,,,,,,,,,,,,,,,,,,,,,,,,,,,,,,,,,,,,,,,,,,,,,,,,,,,,,,,\r\n\"NCT00858871\tFirst Line Hepato Cellular Carcinoma (HCC)\tBRISK FL\tCOMPLETED\tHepato Cellular Carcinoma (HCC)\tDRUG: Brivanib|DRUG: Placebo|DRUG: Sorafenib|DRUG: Placebo\tBristol-Myers Squibb\t\t1714.0\tINDUSTRY\tINTERVENTIONAL\tAllocation: RANDOMIZED|Intervention Model: PARALLEL|Masking: QUADRUPLE (PARTICIPANT\", CARE_PROVIDER, INVESTIGATOR,\" OUTCOMES_ASSESSOR)|Primary Purpose: TREATMENT\t2009-05\t2013-09\",,,,,,,,,,,,,,,,,,,,,,,,,,,,,,,,,,,,,,,,,,,,,,,,,,,,,,,,,,,,,,,,,,,,,,,,,,,,,,,,,,,,,,,,,,,,,,,,,,,,,,,,,,,,,,,,,,,,,,,,,,,,,,,,,,,,,,,,,,,,,,,,,,,,,,,,,,,,,,,,,,,,,,,,,,,,,,,,,,,,,,,,,,,,,,,,,,,,,,,,,,,,,,,\r\n\"NCT01776671\tOnce Daily Gabapentin in the Treatment of Post Amputation Pain\t\tUNKNOWN\tPain|Quality of Life\tDRUG: Gralise\tChicago Anesthesia Pain Specialists\t\t16.0\tOTHER\tINTERVENTIONAL\tAllocation: NA|Intervention Model: SINGLE_GROUP|Masking: NONE|Primary Purpose: TREATMENT\t2013-02\t2018-12\",,,,,,,,,,,,,,,,,,,,,,,,,,,,,,,,,,,,,,,,,,,,,,,,,,,,,,,,,,,,,,,,,,,,,,,,,,,,,,,,,,,,,,,,,,,,,,,,,,,,,,,,,,,,,,,,,,,,,,,,,,,,,,,,,,,,,,,,,,,,,,,,,,,,,,,,,,,,,,,,,,,,,,,,,,,,,,,,,,,,,,,,,,,,,,,,,,,,,,,,,,,,,,,,,,\r\n\"NCT01363271\tCost Study of Linezolid Versus Vancomycin Among Previously Hospitalized Patients\t\tCOMPLETED\tComplicated Skin and Structure Infection|Nosocomial Pneumonia\tDRUG: Linezolid|DRUG: Vancomycin|DRUG: Linezolid|DRUG: Vancomycin\tPfizer\tUniversity of Maryland|Lodise & Lodise\",\" LLC\t7260.0\tINDUSTRY\tOBSERVATIONAL\tObservational Model: |Time Perspective: p\t2011-05\t2012-05\",,,,,,,,,,,,,,,,,,,,,,,,,,,,,,,,,,,,,,,,,,,,,,,,,,,,,,,,,,,,,,,,,,,,,,,,,,,,,,,,,,,,,,,,,,,,,,,,,,,,,,,,,,,,,,,,,,,,,,,,,,,,,,,,,,,,,,,,,,,,,,,,,,,,,,,,,,,,,,,,,,,,,,,,,,,,,,,,,,,,,,,,,,,,,,,,,,,,,,,,,,,,,,,,,\r\n\"NCT01282671\tEffects of Deep Breathing Exercises Two Months After Cardiac Surgery\t\tCOMPLETED\tCABG|Valve Surgery\tOTHER: Breathing exercises\tUppsala University\tThe Swedish Research Council|Örebro County Council\t357.0\tOTHER\tINTERVENTIONAL\tAllocation: RANDOMIZED|Intervention Model: PARALLEL|Masking: SINGLE (OUTCOMES_ASSESSOR)|Primary Purpose: TREATMENT\t2007-09\t2012-08\",,,,,,,,,,,,,,,,,,,,,,,,,,,,,,,,,,,,,,,,,,,,,,,,,,,,,,,,,,,,,,,,,,,,,,,,,,,,,,,,,,,,,,,,,,,,,,,,,,,,,,,,,,,,,,,,,,,,,,,,,,,,,,,,,,,,,,,,,,,,,,,,,,,,,,,,,,,,,,,,,,,,,,,,,,,,,,,,,,,,,,,,,,,,,,,,,,,,,,,,,,,,,,,,,,\r\n\"NCT05683171\tA Phase 1/2\",\" Open-label Study of Valemetostat in Combination With Rituximab and Lenalidomide in Relapsed or Refractory Follicular Lymphoma\t\tRECRUITING\tLymphoma\tDRUG: Rituximab|DRUG: Lenalidomide|DRUG: Valemetostat\tM.D. Anderson Cancer Center\tDaiichi Sankyo\t60.0\tOTHER\tINTERVENTIONAL\tAllocation: NA|Intervention Model: SINGLE_GROUP|Masking: NONE|Primary Purpose: TREATMENT\t2023-05-19\t2027-09-30\",,,,,,,,,,,,,,,,,,,,,,,,,,,,,,,,,,,,,,,,,,,,,,,,,,,,,,,,,,,,,,,,,,,,,,,,,,,,,,,,,,,,,,,,,,,,,,,,,,,,,,,,,,,,,,,,,,,,,,,,,,,,,,,,,,,,,,,,,,,,,,,,,,,,,,,,,,,,,,,,,,,,,,,,,,,,,,,,,,,,,,,,,,,,,,,,,,,,,,,,,,,,,,,,,\r\n\"NCT05334771\tEarly Detection of Endolymphatic Hydrops in Hypothyroid Patients\t\tNOT_YET_RECRUITING\tHypothyroidism\tDEVICE: Dual band pure tune audiometer\tAssiut University\t\t50.0\tOTHER\tOBSERVATIONAL\tObservational Model: |Time Perspective: p\t2022-09\t2025-04\",,,,,,,,,,,,,,,,,,,,,,,,,,,,,,,,,,,,,,,,,,,,,,,,,,,,,,,,,,,,,,,,,,,,,,,,,,,,,,,,,,,,,,,,,,,,,,,,,,,,,,,,,,,,,,,,,,,,,,,,,,,,,,,,,,,,,,,,,,,,,,,,,,,,,,,,,,,,,,,,,,,,,,,,,,,,,,,,,,,,,,,,,,,,,,,,,,,,,,,,,,,,,,,,,,\r\n\"NCT04718571\tAn Ecological Analysis of Nontuberculous Mycobacteria in the Geneva Area (2015-2020)\t\tCOMPLETED\tEcology of Nontubercuous Mycobacteria|Geneva Area\t\tUniversity Hospital\",\" Geneva\t\t231.0\tOTHER\tOBSERVATI\n"
     ]
    }
   ],
   "source": [
    "# display the content of the file\n",
    "print(dbutils.fs.head('/FileStore/tables/clinicaltrial_2023.csv'))"
   ]
  },
  {
   "cell_type": "code",
   "execution_count": 0,
   "metadata": {
    "application/vnd.databricks.v1+cell": {
     "cellMetadata": {
      "byteLimit": 2048000,
      "rowLimit": 10000
     },
     "inputWidgets": {},
     "nuid": "67a9cfe8-f323-4118-8054-fc1c0422623c",
     "showTitle": false,
     "title": ""
    }
   },
   "outputs": [
    {
     "output_type": "execute_result",
     "data": {
      "text/plain": [
       "['Id\\tStudy Title\\tAcronym\\tStatus\\tConditions\\tInterventions\\tSponsor\\tCollaborators\\tEnrollment\\tFunder Type\\tType\\tStudy Design\\tStart\\tCompletion',\n",
       " \"NCT03630471\\tEffectiveness of a Problem-solving Intervention for Common Adolescent Mental Health Problems in India\\tPRIDE\\tCOMPLETED\\tMental Health Issue (E.G. Depression Psychosis Personality Disorder Substance Abuse)\\tBEHAVIORAL: PRIDE 'Step 1' problem-solving intervention|BEHAVIORAL: Enhanced usual care\\tSangath\\tHarvard Medical School (HMS and HSDM)|London School of Hygiene and Tropical Medicine\\t250.0\\tOTHER\\tINTERVENTIONAL\\tAllocation: RANDOMIZED|Intervention Model: PARALLEL|Masking: DOUBLE (INVESTIGATOR OUTCOMES_ASSESSOR)|Primary Purpose: TREATMENT\\t2018-08-20\\t2019-02-28\",\n",
       " \"NCT05992571\\tOral Ketone Monoester Supplementation and Resting-state Brain Connectivity\\t\\tRECRUITING\\tCerebrovascular Function|Cognition\\tOTHER: Placebo|DIETARY_SUPPLEMENT: β-OHB\\tMcMaster University\\tAlzheimer's Society of Brant Haldimand Norfolk Hamilton Halton\\t30.0\\tOTHER\\tINTERVENTIONAL\\tAllocation: RANDOMIZED|Intervention Model: CROSSOVER|Masking: TRIPLE (PARTICIPANT INVESTIGATOR OUTCOMES_ASSESSOR)|Primary Purpose: BASIC_SCIENCE\\t2023-10-25\\t2024-08\",\n",
       " 'NCT00237471\\tImpact of Tight Glycaemic Control in Acute Myocardial Infarction\\t\\tTERMINATED\\tMyocardial Infarct|Hyperglycemia\\tDRUG: Insulin (tight blood glucose control)\\tMelbourne Health\\tNational Health and Medical Research Council Australia|Bristol-Myers Squibb\\t40.0\\tOTHER\\tINTERVENTIONAL\\tAllocation: RANDOMIZED|Intervention Model: PARALLEL|Masking: NONE|Primary Purpose: TREATMENT\\t2005-10\\t2006-05',\n",
       " 'NCT03820271\\tNew Prognostic Predictive Models of Mortality of Decompensated Cirrhotic Patients Waiting for Liver Transplantation\\tSUPERMELD\\tRECRUITING\\tDecompensated Cirrhosis|Liver Transplantation\\tOTHER: SuperMELD\\tAssistance Publique - Hôpitaux de Paris\\t\\t500.0\\tOTHER\\tINTERVENTIONAL\\tAllocation: NA|Intervention Model: SINGLE_GROUP|Masking: NONE|Primary Purpose: OTHER\\t2020-10-01\\t2023-10-01']"
      ]
     },
     "execution_count": 13,
     "metadata": {},
     "output_type": "execute_result"
    }
   ],
   "source": [
    "#create an RDD and remove excess punctuation marks \n",
    "myRdd1 = sc.textFile('/FileStore/tables/clinicaltrial_2023.csv')\n",
    "myRdd2 = myRdd1.map(lambda line: line.replace(',', '').replace('\"', ''))\n",
    "\n",
    "#show first five rows \n",
    "myRdd2.take(5)"
   ]
  },
  {
   "cell_type": "code",
   "execution_count": 0,
   "metadata": {
    "application/vnd.databricks.v1+cell": {
     "cellMetadata": {
      "byteLimit": 2048000,
      "rowLimit": 10000
     },
     "inputWidgets": {},
     "nuid": "08d0b32d-dd14-4a41-9449-e0bd6f4bd3ef",
     "showTitle": false,
     "title": ""
    }
   },
   "outputs": [
    {
     "output_type": "execute_result",
     "data": {
      "text/plain": [
       "[['Id',\n",
       "  'Study Title',\n",
       "  'Acronym',\n",
       "  'Status',\n",
       "  'Conditions',\n",
       "  'Interventions',\n",
       "  'Sponsor',\n",
       "  'Collaborators',\n",
       "  'Enrollment',\n",
       "  'Funder Type',\n",
       "  'Type',\n",
       "  'Study Design',\n",
       "  'Start',\n",
       "  'Completion'],\n",
       " ['NCT03630471',\n",
       "  'Effectiveness of a Problem-solving Intervention for Common Adolescent Mental Health Problems in India',\n",
       "  'PRIDE',\n",
       "  'COMPLETED',\n",
       "  'Mental Health Issue (E.G. Depression Psychosis Personality Disorder Substance Abuse)',\n",
       "  \"BEHAVIORAL: PRIDE 'Step 1' problem-solving intervention|BEHAVIORAL: Enhanced usual care\",\n",
       "  'Sangath',\n",
       "  'Harvard Medical School (HMS and HSDM)|London School of Hygiene and Tropical Medicine',\n",
       "  '250.0',\n",
       "  'OTHER',\n",
       "  'INTERVENTIONAL',\n",
       "  'Allocation: RANDOMIZED|Intervention Model: PARALLEL|Masking: DOUBLE (INVESTIGATOR OUTCOMES_ASSESSOR)|Primary Purpose: TREATMENT',\n",
       "  '2018-08-20',\n",
       "  '2019-02-28'],\n",
       " ['NCT05992571',\n",
       "  'Oral Ketone Monoester Supplementation and Resting-state Brain Connectivity',\n",
       "  '',\n",
       "  'RECRUITING',\n",
       "  'Cerebrovascular Function|Cognition',\n",
       "  'OTHER: Placebo|DIETARY_SUPPLEMENT: β-OHB',\n",
       "  'McMaster University',\n",
       "  \"Alzheimer's Society of Brant Haldimand Norfolk Hamilton Halton\",\n",
       "  '30.0',\n",
       "  'OTHER',\n",
       "  'INTERVENTIONAL',\n",
       "  'Allocation: RANDOMIZED|Intervention Model: CROSSOVER|Masking: TRIPLE (PARTICIPANT INVESTIGATOR OUTCOMES_ASSESSOR)|Primary Purpose: BASIC_SCIENCE',\n",
       "  '2023-10-25',\n",
       "  '2024-08'],\n",
       " ['NCT00237471',\n",
       "  'Impact of Tight Glycaemic Control in Acute Myocardial Infarction',\n",
       "  '',\n",
       "  'TERMINATED',\n",
       "  'Myocardial Infarct|Hyperglycemia',\n",
       "  'DRUG: Insulin (tight blood glucose control)',\n",
       "  'Melbourne Health',\n",
       "  'National Health and Medical Research Council Australia|Bristol-Myers Squibb',\n",
       "  '40.0',\n",
       "  'OTHER',\n",
       "  'INTERVENTIONAL',\n",
       "  'Allocation: RANDOMIZED|Intervention Model: PARALLEL|Masking: NONE|Primary Purpose: TREATMENT',\n",
       "  '2005-10',\n",
       "  '2006-05'],\n",
       " ['NCT03820271',\n",
       "  'New Prognostic Predictive Models of Mortality of Decompensated Cirrhotic Patients Waiting for Liver Transplantation',\n",
       "  'SUPERMELD',\n",
       "  'RECRUITING',\n",
       "  'Decompensated Cirrhosis|Liver Transplantation',\n",
       "  'OTHER: SuperMELD',\n",
       "  'Assistance Publique - Hôpitaux de Paris',\n",
       "  '',\n",
       "  '500.0',\n",
       "  'OTHER',\n",
       "  'INTERVENTIONAL',\n",
       "  'Allocation: NA|Intervention Model: SINGLE_GROUP|Masking: NONE|Primary Purpose: OTHER',\n",
       "  '2020-10-01',\n",
       "  '2023-10-01']]"
      ]
     },
     "execution_count": 14,
     "metadata": {},
     "output_type": "execute_result"
    }
   ],
   "source": [
    "# Splitting the content of the file based on '\\t' delimiter \n",
    "myrdd3 = myRdd2.map(lambda row: row.split('\\t'))\n",
    "myrdd3.take(5)"
   ]
  },
  {
   "cell_type": "code",
   "execution_count": 0,
   "metadata": {
    "application/vnd.databricks.v1+cell": {
     "cellMetadata": {
      "byteLimit": 2048000,
      "rowLimit": 10000
     },
     "inputWidgets": {},
     "nuid": "d5e4e031-6b6c-4eb5-9c18-dad5799278b4",
     "showTitle": false,
     "title": ""
    }
   },
   "outputs": [],
   "source": [
    "#Create a user define function\n",
    "def filter_row_length(row, column_length):     \n",
    "    #return true if length of rows matches length of column header, else return false \n",
    "    match_length = len(row) == column_length \n",
    "    return match_length\n",
    "\n",
    "#count the length of column header\n",
    "myrdd3_header = len(myrdd3.first())\n",
    "\n",
    "#Filter rows in myrdd3 base on length of rows equals MYRRD\n",
    "RDD = myrdd3.filter(lambda row: filter_row_length(row, myrdd3_header))"
   ]
  },
  {
   "cell_type": "markdown",
   "metadata": {
    "application/vnd.databricks.v1+cell": {
     "cellMetadata": {
      "byteLimit": 2048000,
      "rowLimit": 10000
     },
     "inputWidgets": {},
     "nuid": "f83fc590-f48a-44dd-81bb-5005ca5ec14f",
     "showTitle": false,
     "title": ""
    }
   },
   "source": [
    "#Analyse the Data"
   ]
  },
  {
   "cell_type": "markdown",
   "metadata": {
    "application/vnd.databricks.v1+cell": {
     "cellMetadata": {
      "byteLimit": 2048000,
      "rowLimit": 10000
     },
     "inputWidgets": {},
     "nuid": "760f24a9-974c-402b-8848-28164fdef1e1",
     "showTitle": false,
     "title": ""
    }
   },
   "source": [
    "###Question 1: The number of studies in the dataset. You must ensure that you explicitly check distinct studies"
   ]
  },
  {
   "cell_type": "code",
   "execution_count": 0,
   "metadata": {
    "application/vnd.databricks.v1+cell": {
     "cellMetadata": {
      "byteLimit": 2048000,
      "rowLimit": 10000
     },
     "inputWidgets": {},
     "nuid": "91225a74-2fb0-4942-8d91-7f936d1fedcd",
     "showTitle": false,
     "title": ""
    }
   },
   "outputs": [
    {
     "output_type": "execute_result",
     "data": {
      "text/plain": [
       "[['NCT03630471',\n",
       "  'Effectiveness of a Problem-solving Intervention for Common Adolescent Mental Health Problems in India',\n",
       "  'PRIDE',\n",
       "  'COMPLETED',\n",
       "  'Mental Health Issue (E.G. Depression Psychosis Personality Disorder Substance Abuse)',\n",
       "  \"BEHAVIORAL: PRIDE 'Step 1' problem-solving intervention|BEHAVIORAL: Enhanced usual care\",\n",
       "  'Sangath',\n",
       "  'Harvard Medical School (HMS and HSDM)|London School of Hygiene and Tropical Medicine',\n",
       "  '250.0',\n",
       "  'OTHER',\n",
       "  'INTERVENTIONAL',\n",
       "  'Allocation: RANDOMIZED|Intervention Model: PARALLEL|Masking: DOUBLE (INVESTIGATOR OUTCOMES_ASSESSOR)|Primary Purpose: TREATMENT',\n",
       "  '2018-08-20',\n",
       "  '2019-02-28'],\n",
       " ['NCT05992571',\n",
       "  'Oral Ketone Monoester Supplementation and Resting-state Brain Connectivity',\n",
       "  '',\n",
       "  'RECRUITING',\n",
       "  'Cerebrovascular Function|Cognition',\n",
       "  'OTHER: Placebo|DIETARY_SUPPLEMENT: β-OHB',\n",
       "  'McMaster University',\n",
       "  \"Alzheimer's Society of Brant Haldimand Norfolk Hamilton Halton\",\n",
       "  '30.0',\n",
       "  'OTHER',\n",
       "  'INTERVENTIONAL',\n",
       "  'Allocation: RANDOMIZED|Intervention Model: CROSSOVER|Masking: TRIPLE (PARTICIPANT INVESTIGATOR OUTCOMES_ASSESSOR)|Primary Purpose: BASIC_SCIENCE',\n",
       "  '2023-10-25',\n",
       "  '2024-08']]"
      ]
     },
     "execution_count": 16,
     "metadata": {},
     "output_type": "execute_result"
    }
   ],
   "source": [
    "# remove the header from the RDD \n",
    "study_header = RDD.first() \n",
    "\n",
    "#Filter line in RDD and return first 2 elements\n",
    "clean_study_header = RDD.filter(lambda line: line != study_header)\n",
    "clean_study_header.take(2)\n"
   ]
  },
  {
   "cell_type": "code",
   "execution_count": 0,
   "metadata": {
    "application/vnd.databricks.v1+cell": {
     "cellMetadata": {
      "byteLimit": 2048000,
      "rowLimit": 10000
     },
     "inputWidgets": {},
     "nuid": "ceeb1337-f821-4657-96fe-7645d0605f51",
     "showTitle": false,
     "title": ""
    }
   },
   "outputs": [
    {
     "output_type": "execute_result",
     "data": {
      "text/plain": [
       "['Effectiveness of a Problem-solving Intervention for Common Adolescent Mental Health Problems in India',\n",
       " 'Oral Ketone Monoester Supplementation and Resting-state Brain Connectivity',\n",
       " 'Impact of Tight Glycaemic Control in Acute Myocardial Infarction',\n",
       " 'New Prognostic Predictive Models of Mortality of Decompensated Cirrhotic Patients Waiting for Liver Transplantation',\n",
       " 'InTake Care: Development and Validation of an Innovative Personalized Digital Health Solution for Medication Adherence Support in Cardiovascular Prevention']"
      ]
     },
     "execution_count": 17,
     "metadata": {},
     "output_type": "execute_result"
    }
   ],
   "source": [
    "#apply map transformatoin to select the second column and its content\n",
    "myrdd4 = clean_study_header.map(lambda row: row[1])\n",
    "myrdd4.take(5)"
   ]
  },
  {
   "cell_type": "code",
   "execution_count": 0,
   "metadata": {
    "application/vnd.databricks.v1+cell": {
     "cellMetadata": {
      "byteLimit": 2048000,
      "rowLimit": 10000
     },
     "inputWidgets": {},
     "nuid": "00f03401-7cae-4d75-aea8-0950cf6c6112",
     "showTitle": false,
     "title": ""
    }
   },
   "outputs": [
    {
     "output_type": "stream",
     "name": "stdout",
     "output_type": "stream",
     "text": [
      "The total number of distinct studies is: 481083\n"
     ]
    }
   ],
   "source": [
    "#apply disctinct method to remove duplicate values and count it \n",
    "distinct_studies = myrdd4.distinct().count()\n",
    "\n",
    "#print a message showing the number of distinct studies \n",
    "print(f'The total number of distinct studies is: {distinct_studies}')"
   ]
  },
  {
   "cell_type": "markdown",
   "metadata": {
    "application/vnd.databricks.v1+cell": {
     "cellMetadata": {
      "byteLimit": 2048000,
      "rowLimit": 10000
     },
     "inputWidgets": {},
     "nuid": "c90799cd-fad4-44b6-a246-f4389f789d9e",
     "showTitle": false,
     "title": ""
    }
   },
   "source": [
    "###Question 2: You should list all the types (as contained in the Type column) of studies in the dataset along with the frequencies of each type. These should be ordered from most frequent to least frequent."
   ]
  },
  {
   "cell_type": "code",
   "execution_count": 0,
   "metadata": {
    "application/vnd.databricks.v1+cell": {
     "cellMetadata": {
      "byteLimit": 2048000,
      "rowLimit": 10000
     },
     "inputWidgets": {},
     "nuid": "1ee9f635-9c11-4750-ab8c-24714998918e",
     "showTitle": false,
     "title": ""
    }
   },
   "outputs": [
    {
     "output_type": "execute_result",
     "data": {
      "text/plain": [
       "['Type',\n",
       " 'INTERVENTIONAL',\n",
       " 'INTERVENTIONAL',\n",
       " 'INTERVENTIONAL',\n",
       " 'INTERVENTIONAL']"
      ]
     },
     "execution_count": 19,
     "metadata": {},
     "output_type": "execute_result"
    }
   ],
   "source": [
    "#apply map transformation to extract Type column at index 10\n",
    "myrdd5 = RDD.map(lambda row: row[10])\n",
    "myrdd5.take(5)\n"
   ]
  },
  {
   "cell_type": "code",
   "execution_count": 0,
   "metadata": {
    "application/vnd.databricks.v1+cell": {
     "cellMetadata": {
      "byteLimit": 2048000,
      "rowLimit": 10000
     },
     "inputWidgets": {},
     "nuid": "53b569c4-c28f-4c83-8dcf-caec548a5d0b",
     "showTitle": false,
     "title": ""
    }
   },
   "outputs": [
    {
     "output_type": "execute_result",
     "data": {
      "text/plain": [
       "['INTERVENTIONAL',\n",
       " 'INTERVENTIONAL',\n",
       " 'INTERVENTIONAL',\n",
       " 'INTERVENTIONAL',\n",
       " 'INTERVENTIONAL']"
      ]
     },
     "execution_count": 20,
     "metadata": {},
     "output_type": "execute_result"
    }
   ],
   "source": [
    "#remove header from the type column \n",
    "Type_header = myrdd5.first()\n",
    "\n",
    "#filter rows from myrdd5 and return first five elements\n",
    "remove_header = myrdd5.filter(lambda row: row!=Type_header) \n",
    "remove_header.take(5)"
   ]
  },
  {
   "cell_type": "code",
   "execution_count": 0,
   "metadata": {
    "application/vnd.databricks.v1+cell": {
     "cellMetadata": {
      "byteLimit": 2048000,
      "rowLimit": 10000
     },
     "inputWidgets": {},
     "nuid": "99b45935-da3a-43a9-b389-be57702f5edb",
     "showTitle": false,
     "title": ""
    }
   },
   "outputs": [
    {
     "output_type": "execute_result",
     "data": {
      "text/plain": [
       "[('INTERVENTIONAL', 1),\n",
       " ('INTERVENTIONAL', 1),\n",
       " ('INTERVENTIONAL', 1),\n",
       " ('INTERVENTIONAL', 1),\n",
       " ('INTERVENTIONAL', 1)]"
      ]
     },
     "execution_count": 21,
     "metadata": {},
     "output_type": "execute_result"
    }
   ],
   "source": [
    "#count the number of occurences of each line\n",
    "myrdd6 = remove_header.map(lambda s: (s, 1))\n",
    "myrdd6.take(5)"
   ]
  },
  {
   "cell_type": "code",
   "execution_count": 0,
   "metadata": {
    "application/vnd.databricks.v1+cell": {
     "cellMetadata": {
      "byteLimit": 2048000,
      "rowLimit": 10000
     },
     "inputWidgets": {},
     "nuid": "062c8516-3e10-4002-8aaa-1461b24a0588",
     "showTitle": false,
     "title": ""
    }
   },
   "outputs": [
    {
     "output_type": "execute_result",
     "data": {
      "text/plain": [
       "[('INTERVENTIONAL', 371382),\n",
       " ('', 889),\n",
       " ('OBSERVATIONAL', 110221),\n",
       " ('EXPANDED_ACCESS', 928)]"
      ]
     },
     "execution_count": 22,
     "metadata": {},
     "output_type": "execute_result"
    }
   ],
   "source": [
    "#apply reducebykey method to merge the keys\n",
    "myrdd7 = myrdd6.reduceByKey(lambda a, b: a+b) \n",
    "myrdd7.take(5)"
   ]
  },
  {
   "cell_type": "code",
   "execution_count": 0,
   "metadata": {
    "application/vnd.databricks.v1+cell": {
     "cellMetadata": {
      "byteLimit": 2048000,
      "rowLimit": 10000
     },
     "inputWidgets": {},
     "nuid": "ce49f281-be21-45e0-a05e-b82f7b40301a",
     "showTitle": false,
     "title": ""
    }
   },
   "outputs": [
    {
     "output_type": "stream",
     "name": "stdout",
     "output_type": "stream",
     "text": [
      "Type= INTERVENTIONAL, count=371382\nType= OBSERVATIONAL, count=110221\nType= EXPANDED_ACCESS, count=928\n"
     ]
    }
   ],
   "source": [
    "#filter rows in myrdd7 and sort the values in descending order\n",
    "filter_rdd7 = myrdd7.filter(lambda x: x[0] is not None and x[0]!='').sortBy(lambda x: x[1], ascending=False)\n",
    "\n",
    "#assign a value to cllect the filtered result \n",
    "results = filter_rdd7.collect() \n",
    "\n",
    "#loop through the result \n",
    "for Type, count in results: \n",
    "    print(f\"Type= {Type}, count={count}\")\n"
   ]
  },
  {
   "cell_type": "markdown",
   "metadata": {
    "application/vnd.databricks.v1+cell": {
     "cellMetadata": {
      "byteLimit": 2048000,
      "rowLimit": 10000
     },
     "inputWidgets": {},
     "nuid": "f3807fc2-8416-4b32-bb40-078db50e4af3",
     "showTitle": false,
     "title": ""
    }
   },
   "source": [
    "###Question 3: The top 5 conditions (from Conditions) with their frequencies."
   ]
  },
  {
   "cell_type": "code",
   "execution_count": 0,
   "metadata": {
    "application/vnd.databricks.v1+cell": {
     "cellMetadata": {
      "byteLimit": 2048000,
      "rowLimit": 10000
     },
     "inputWidgets": {},
     "nuid": "7a2415e3-1b8d-4bb7-a716-4b3aaa8cacf1",
     "showTitle": false,
     "title": ""
    }
   },
   "outputs": [
    {
     "output_type": "execute_result",
     "data": {
      "text/plain": [
       "['Conditions',\n",
       " 'Mental Health Issue (E.G. Depression Psychosis Personality Disorder Substance Abuse)',\n",
       " 'Cerebrovascular Function|Cognition',\n",
       " 'Myocardial Infarct|Hyperglycemia',\n",
       " 'Decompensated Cirrhosis|Liver Transplantation']"
      ]
     },
     "execution_count": 24,
     "metadata": {},
     "output_type": "execute_result"
    }
   ],
   "source": [
    "#Apply map transformation by extracting the fourth index\n",
    "myRdd8 =RDD.map(lambda row: row[4])\n",
    "myRdd8.take(5)"
   ]
  },
  {
   "cell_type": "code",
   "execution_count": 0,
   "metadata": {
    "application/vnd.databricks.v1+cell": {
     "cellMetadata": {
      "byteLimit": 2048000,
      "rowLimit": 10000
     },
     "inputWidgets": {},
     "nuid": "d0fa9fb3-bba5-4fac-a5cb-53a72594e980",
     "showTitle": false,
     "title": ""
    }
   },
   "outputs": [
    {
     "output_type": "execute_result",
     "data": {
      "text/plain": [
       "[('Conditions', 1),\n",
       " ('Mental Health Issue (E.G. Depression Psychosis Personality Disorder Substance Abuse)',\n",
       "  1),\n",
       " ('Cerebrovascular Function', 1),\n",
       " ('Cognition', 1),\n",
       " ('Myocardial Infarct', 1)]"
      ]
     },
     "execution_count": 25,
     "metadata": {},
     "output_type": "execute_result"
    }
   ],
   "source": [
    "#Apply flat map to flatten the result and count the number of occurrence of each line \n",
    "condition_rdd = myRdd8.flatMap(lambda row: row.split('|')).map(lambda s: (s, 1))              \n",
    "condition_rdd.take(5)"
   ]
  },
  {
   "cell_type": "code",
   "execution_count": 0,
   "metadata": {
    "application/vnd.databricks.v1+cell": {
     "cellMetadata": {
      "byteLimit": 2048000,
      "rowLimit": 10000
     },
     "inputWidgets": {},
     "nuid": "68a420ad-23f3-4155-931d-810d397ebc47",
     "showTitle": false,
     "title": ""
    }
   },
   "outputs": [
    {
     "output_type": "execute_result",
     "data": {
      "text/plain": [
       "[('Hypertension', 4024),\n",
       " ('Treatment Adherence and Compliance', 23),\n",
       " ('Smoking', 731),\n",
       " ('Alcohol Drinking', 277),\n",
       " ('Oral Intake Reduced', 2)]"
      ]
     },
     "execution_count": 26,
     "metadata": {},
     "output_type": "execute_result"
    }
   ],
   "source": [
    "#use reduceByKey method to merge the keys\n",
    "myrdd9 = condition_rdd.reduceByKey(lambda a, b: a+b) \n",
    "myrdd9.take(5)"
   ]
  },
  {
   "cell_type": "code",
   "execution_count": 0,
   "metadata": {
    "application/vnd.databricks.v1+cell": {
     "cellMetadata": {
      "byteLimit": 2048000,
      "rowLimit": 10000
     },
     "inputWidgets": {},
     "nuid": "f0e2ffa3-9bd5-4919-992a-03861791a60c",
     "showTitle": false,
     "title": ""
    }
   },
   "outputs": [
    {
     "output_type": "stream",
     "name": "stdout",
     "output_type": "stream",
     "text": [
      "The top 5 condtion with their frequencies are:\ncondition= Healthy, count=9731\ncondition= Breast Cancer, count=7502\ncondition= Obesity, count=6549\ncondition= Stroke, count=4073\ncondition= Hypertension, count=4024\n"
     ]
    }
   ],
   "source": [
    "#sort the RDD in descending order\n",
    "sorted_Rdd = myrdd9.sortBy(lambda x: x[1], ascending=False)\n",
    "\n",
    "#Assign a variable to return the first 5 conditions\n",
    "sorted_Rdd = sorted_Rdd.take(5)\n",
    "\n",
    "# print a message and loop through the sorted RDD\n",
    "print('The top 5 condtion with their frequencies are:')\n",
    "for condition, count in sorted_Rdd: \n",
    "    print(f\"condition= {condition}, count={count}\")\n"
   ]
  },
  {
   "cell_type": "markdown",
   "metadata": {
    "application/vnd.databricks.v1+cell": {
     "cellMetadata": {
      "byteLimit": 2048000,
      "rowLimit": 10000
     },
     "inputWidgets": {},
     "nuid": "7df4c3a4-972c-4506-adeb-4b0b75ff0663",
     "showTitle": false,
     "title": ""
    }
   },
   "source": [
    "###Question 4: Find the 10 most common sponsors that are not pharmaceutical companies, along with the number of clinical trials they have sponsored. Hint: For a basic implementation, you can assume that the Parent Company column contains all possible pharmaceutical companies"
   ]
  },
  {
   "cell_type": "code",
   "execution_count": 0,
   "metadata": {
    "application/vnd.databricks.v1+cell": {
     "cellMetadata": {
      "byteLimit": 2048000,
      "rowLimit": 10000
     },
     "inputWidgets": {},
     "nuid": "3da36754-dc35-4a80-b62d-57ab45e0731b",
     "showTitle": false,
     "title": ""
    }
   },
   "outputs": [
    {
     "output_type": "execute_result",
     "data": {
      "text/plain": [
       "['\"Company\",\"Parent_Company\",\"Penalty_Amount\",\"Subtraction_From_Penalty\",\"Penalty_Amount_Adjusted_For_Eliminating_Multiple_Counting\",\"Penalty_Year\",\"Penalty_Date\",\"Offense_Group\",\"Primary_Offense\",\"Secondary_Offense\",\"Description\",\"Level_of_Government\",\"Action_Type\",\"Agency\",\"Civil/Criminal\",\"Prosecution_Agreement\",\"Court\",\"Case_ID\",\"Private_Litigation_Case_Title\",\"Lawsuit_Resolution\",\"Facility_State\",\"City\",\"Address\",\"Zip\",\"NAICS_Code\",\"NAICS_Translation\",\"HQ_Country_of_Parent\",\"HQ_State_of_Parent\",\"Ownership_Structure\",\"Parent_Company_Stock_Ticker\",\"Major_Industry_of_Parent\",\"Specific_Industry_of_Parent\",\"Info_Source\",\"Notes\"',\n",
       " '\"Abbott Laboratories\",\"Abbott Laboratories\",\"$5,475,000\",\"$0\",\"$5,475,000\",\"2013\",\"20131227\",\"government-contracting-related offenses\",\"False Claims Act and related\",\"kickbacks and bribery\",\"Abbott Laboratories agreed to $5.475 million to resolve allegations that it violated the False Claims Act by paying kickbacks to induce doctors to implant the company\\'s carotid, biliary and peripheral vascular products.\",\"federal\",\"agency action\",\"Justice Department Civil Division\",\"civil\",\"\",\"\",\"\",\"\",\"\",\"\",\"\",\"\",\"\",\"\",\"\",\"USA\",\"Illinois\",\"publicly traded\",\"ABT\",\"pharmaceuticals\",\"pharmaceuticals\",\"https://www.justice.gov/opa/pr/abbott-laboratories-pays-us-5475-million-settle-claims-company-paid-kickbacks-physicians\",\"\"']"
      ]
     },
     "execution_count": 28,
     "metadata": {},
     "output_type": "execute_result"
    }
   ],
   "source": [
    "#Create RDD from the pharma csv file\n",
    "pharmfile = '/FileStore/tables/pharma.csv'\n",
    "pharmRdd = sc.textFile(pharmfile)\n",
    "pharmRdd.take(2)"
   ]
  },
  {
   "cell_type": "code",
   "execution_count": 0,
   "metadata": {
    "application/vnd.databricks.v1+cell": {
     "cellMetadata": {
      "byteLimit": 2048000,
      "rowLimit": 10000
     },
     "inputWidgets": {},
     "nuid": "00175d29-7f9c-4c36-8923-71905bee3427",
     "showTitle": false,
     "title": ""
    }
   },
   "outputs": [
    {
     "output_type": "execute_result",
     "data": {
      "text/plain": [
       "['Parent_Company', 'Abbott Laboratories']"
      ]
     },
     "execution_count": 29,
     "metadata": {},
     "output_type": "execute_result"
    }
   ],
   "source": [
    "#Clean/prepare the rdd\n",
    "clean_pharm = pharmRdd.map(lambda row: row.replace('\"','')).map(lambda row: row.split(',')[1])\n",
    "clean_pharm.take(2)"
   ]
  },
  {
   "cell_type": "code",
   "execution_count": 0,
   "metadata": {
    "application/vnd.databricks.v1+cell": {
     "cellMetadata": {
      "byteLimit": 2048000,
      "rowLimit": 10000
     },
     "inputWidgets": {},
     "nuid": "f9ed1a89-816f-4481-9a02-131c06775fe3",
     "showTitle": false,
     "title": ""
    }
   },
   "outputs": [
    {
     "output_type": "execute_result",
     "data": {
      "text/plain": [
       "['Abbott Laboratories', 'AbbVie', 'AbbVie', ' Inc.', 'Johnson & Johnson']"
      ]
     },
     "execution_count": 30,
     "metadata": {},
     "output_type": "execute_result"
    }
   ],
   "source": [
    "#Remove header from the RDD \n",
    "pharmheader = clean_pharm.first() \n",
    "\n",
    "#Filter rows from the clean_pharm RDD and return first 5 elements\n",
    "myrddpharm2 = clean_pharm.filter(lambda row: row!=pharmheader)\n",
    "myrddpharm2.take(5)"
   ]
  },
  {
   "cell_type": "code",
   "execution_count": 0,
   "metadata": {
    "application/vnd.databricks.v1+cell": {
     "cellMetadata": {
      "byteLimit": 2048000,
      "rowLimit": 10000
     },
     "inputWidgets": {},
     "nuid": "52af6c07-5c77-4d59-bcaa-320815c5ebd2",
     "showTitle": false,
     "title": ""
    }
   },
   "outputs": [
    {
     "output_type": "execute_result",
     "data": {
      "text/plain": [
       "['Sponsor',\n",
       " 'Sangath',\n",
       " 'McMaster University',\n",
       " 'Melbourne Health',\n",
       " 'Assistance Publique - Hôpitaux de Paris']"
      ]
     },
     "execution_count": 31,
     "metadata": {},
     "output_type": "execute_result"
    }
   ],
   "source": [
    "#Extract index 6 column\n",
    "rdd_sponsor = RDD.map(lambda column: (column[6])) \n",
    "rdd_sponsor.take(5)"
   ]
  },
  {
   "cell_type": "code",
   "execution_count": 0,
   "metadata": {
    "application/vnd.databricks.v1+cell": {
     "cellMetadata": {
      "byteLimit": 2048000,
      "rowLimit": 10000
     },
     "inputWidgets": {},
     "nuid": "e36000d9-9578-4466-858e-def125a78a53",
     "showTitle": false,
     "title": ""
    }
   },
   "outputs": [
    {
     "output_type": "execute_result",
     "data": {
      "text/plain": [
       "['Sangath',\n",
       " 'McMaster University',\n",
       " 'Melbourne Health',\n",
       " 'Assistance Publique - Hôpitaux de Paris',\n",
       " 'Istituto Auxologico Italiano']"
      ]
     },
     "execution_count": 32,
     "metadata": {},
     "output_type": "execute_result"
    }
   ],
   "source": [
    "#Remove the header by filtering rows from rdd_sponsor where rows are not eqaul to header_sponsor\n",
    "header_sponsor = rdd_sponsor.first() \n",
    "clinical_sponsor = rdd_sponsor.filter(lambda row: row!=header_sponsor)\n",
    "clinical_sponsor.take(5)"
   ]
  },
  {
   "cell_type": "code",
   "execution_count": 0,
   "metadata": {
    "application/vnd.databricks.v1+cell": {
     "cellMetadata": {
      "byteLimit": 2048000,
      "rowLimit": 10000
     },
     "inputWidgets": {},
     "nuid": "6c19c3bf-8fc7-4c4f-ba89-bfe659b54ebc",
     "showTitle": false,
     "title": ""
    }
   },
   "outputs": [
    {
     "output_type": "execute_result",
     "data": {
      "text/plain": [
       "['Sangath', 'McMaster University', 'Melbourne Health']"
      ]
     },
     "execution_count": 33,
     "metadata": {},
     "output_type": "execute_result"
    }
   ],
   "source": [
    "#Return all unique element from myrddpharm2 \n",
    "pharmaceutical_companies = set(myrddpharm2.collect())\n",
    "\n",
    "#Filter sponsor in clinica_sponser and checks if sponsor is not in pharmaceutical companies\n",
    "non_pharm_sponsors = clinical_sponsor.filter(lambda sponsor: sponsor not in pharmaceutical_companies)\n",
    "\n",
    "#Return first 3 elements \n",
    "non_pharm_sponsors.take(3)"
   ]
  },
  {
   "cell_type": "code",
   "execution_count": 0,
   "metadata": {
    "application/vnd.databricks.v1+cell": {
     "cellMetadata": {
      "byteLimit": 2048000,
      "rowLimit": 10000
     },
     "inputWidgets": {},
     "nuid": "4a06abeb-09db-4038-9a3c-173d58102012",
     "showTitle": false,
     "title": ""
    }
   },
   "outputs": [
    {
     "output_type": "execute_result",
     "data": {
      "text/plain": [
       "[('University of Oregon', 58),\n",
       " ('Johns Hopkins University', 1602),\n",
       " ('M.D. Anderson Cancer Center', 2702)]"
      ]
     },
     "execution_count": 34,
     "metadata": {},
     "output_type": "execute_result"
    }
   ],
   "source": [
    "#Count the occurence of each sponsor and apply reduceByKey transformation\n",
    "count_non_pharm_sponsors = non_pharm_sponsors.map(lambda sponsor: (sponsor, 1)).reduceByKey(lambda a, b: a+b)\n",
    "count_non_pharm_sponsors.take(3)"
   ]
  },
  {
   "cell_type": "code",
   "execution_count": 0,
   "metadata": {
    "application/vnd.databricks.v1+cell": {
     "cellMetadata": {
      "byteLimit": 2048000,
      "rowLimit": 10000
     },
     "inputWidgets": {},
     "nuid": "2f69c03e-a94e-4fd8-90f3-79f30bdfb0d7",
     "showTitle": false,
     "title": ""
    }
   },
   "outputs": [
    {
     "output_type": "stream",
     "name": "stdout",
     "output_type": "stream",
     "text": [
      "Sponsor: National Cancer Institute (NCI), Count: 3410\nSponsor: Assiut University, Count: 3335\nSponsor: Cairo University, Count: 3023\nSponsor: Assistance Publique - Hôpitaux de Paris, Count: 2951\nSponsor: Mayo Clinic, Count: 2766\nSponsor: M.D. Anderson Cancer Center, Count: 2702\nSponsor: Novartis Pharmaceuticals, Count: 2393\nSponsor: National Institute of Allergy and Infectious Diseases (NIAID), Count: 2340\nSponsor: Massachusetts General Hospital, Count: 2263\nSponsor: National Taiwan University Hospital, Count: 2181\n"
     ]
    }
   ],
   "source": [
    "#Sort the RDD in descending order \n",
    "top10Sponsors = count_non_pharm_sponsors.map(lambda pair: (pair[1], pair[0])) \\\n",
    "                                        .sortByKey(ascending=False) \\\n",
    "                                        .take(10)\n",
    "\n",
    "#loop through the result and print a message \n",
    "for count, sponsor in top10Sponsors:\n",
    "    print(f\"Sponsor: {sponsor}, Count: {count}\")\n",
    "\n"
   ]
  },
  {
   "cell_type": "markdown",
   "metadata": {
    "application/vnd.databricks.v1+cell": {
     "cellMetadata": {
      "byteLimit": 2048000,
      "rowLimit": 10000
     },
     "inputWidgets": {},
     "nuid": "4072bfd6-1d45-47a4-8844-2f9bbbc6b4a8",
     "showTitle": false,
     "title": ""
    }
   },
   "source": [
    "###Question 5: Plot number of completed studies for each month in 2023. You need to include your visualization as well as a table of all the values you have plotted for each month."
   ]
  },
  {
   "cell_type": "code",
   "execution_count": 0,
   "metadata": {
    "application/vnd.databricks.v1+cell": {
     "cellMetadata": {
      "byteLimit": 2048000,
      "rowLimit": 10000
     },
     "inputWidgets": {},
     "nuid": "779d018c-98f2-4b69-b68e-b3f71b5703d9",
     "showTitle": false,
     "title": ""
    }
   },
   "outputs": [
    {
     "output_type": "execute_result",
     "data": {
      "text/plain": [
       "[['Id',\n",
       "  'Study Title',\n",
       "  'Acronym',\n",
       "  'Status',\n",
       "  'Conditions',\n",
       "  'Interventions',\n",
       "  'Sponsor',\n",
       "  'Collaborators',\n",
       "  'Enrollment',\n",
       "  'Funder Type',\n",
       "  'Type',\n",
       "  'Study Design',\n",
       "  'Start',\n",
       "  'Completion']]"
      ]
     },
     "execution_count": 36,
     "metadata": {},
     "output_type": "execute_result"
    }
   ],
   "source": [
    "#map the content of RDD and return the first five rows \n",
    "myrdd10 = RDD.map(lambda row: row) \n",
    "myrdd10.take(1)"
   ]
  },
  {
   "cell_type": "code",
   "execution_count": 0,
   "metadata": {
    "application/vnd.databricks.v1+cell": {
     "cellMetadata": {
      "byteLimit": 2048000,
      "rowLimit": 10000
     },
     "inputWidgets": {},
     "nuid": "efe76312-1434-4be7-9255-dfcae9d2343c",
     "showTitle": false,
     "title": ""
    }
   },
   "outputs": [
    {
     "output_type": "execute_result",
     "data": {
      "text/plain": [
       "[('Completion', 'Status'),\n",
       " ('2019-02-28', 'COMPLETED'),\n",
       " ('2024-08', 'RECRUITING'),\n",
       " ('2006-05', 'TERMINATED'),\n",
       " ('2023-10-01', 'RECRUITING')]"
      ]
     },
     "execution_count": 37,
     "metadata": {},
     "output_type": "execute_result"
    }
   ],
   "source": [
    "#Apply map transformation to select rows from myrdd10 at index 13 and 3\n",
    "myrdd11 = myrdd10.map(lambda row: (row[13], row[3]))\n",
    "\n",
    "#Return the first five element\n",
    "myrdd11.take(5)"
   ]
  },
  {
   "cell_type": "code",
   "execution_count": 0,
   "metadata": {
    "application/vnd.databricks.v1+cell": {
     "cellMetadata": {
      "byteLimit": 2048000,
      "rowLimit": 10000
     },
     "inputWidgets": {},
     "nuid": "dc085a94-66c1-4ee6-ab63-73b71ec678cf",
     "showTitle": false,
     "title": ""
    }
   },
   "outputs": [
    {
     "output_type": "execute_result",
     "data": {
      "text/plain": [
       "[('2019-02-28', 'COMPLETED'),\n",
       " ('2024-08', 'RECRUITING'),\n",
       " ('2006-05', 'TERMINATED'),\n",
       " ('2023-10-01', 'RECRUITING'),\n",
       " ('2026-04-01', 'NOT_YET_RECRUITING')]"
      ]
     },
     "execution_count": 38,
     "metadata": {},
     "output_type": "execute_result"
    }
   ],
   "source": [
    "#Remove header from myrdd12 and return the first five element\n",
    "compheader = myrdd11.first() \n",
    "remove_header = myrdd11.filter(lambda x: x!= compheader) \n",
    "remove_header.take(5)"
   ]
  },
  {
   "cell_type": "code",
   "execution_count": 0,
   "metadata": {
    "application/vnd.databricks.v1+cell": {
     "cellMetadata": {
      "byteLimit": 2048000,
      "rowLimit": 10000
     },
     "inputWidgets": {},
     "nuid": "7993ff4b-385f-4dac-be2a-90aed0aac0ea",
     "showTitle": false,
     "title": ""
    }
   },
   "outputs": [
    {
     "output_type": "execute_result",
     "data": {
      "text/plain": [
       "[('2023-02-24', 'COMPLETED'),\n",
       " ('2023-04-07', 'COMPLETED'),\n",
       " ('2023-08-27', 'COMPLETED'),\n",
       " ('2023-06-30', 'COMPLETED'),\n",
       " ('2023-08-01', 'COMPLETED')]"
      ]
     },
     "execution_count": 39,
     "metadata": {},
     "output_type": "execute_result"
    }
   ],
   "source": [
    "#filter lines from remove_header by checking first element startswith 2023 and second element match COMPLETED\n",
    "myrdd13 = remove_header.filter(lambda x: (x[0].startswith('2023') and x[1] == 'COMPLETED')) \n",
    "\n",
    "#Return the first five element\n",
    "myrdd13.take(5)"
   ]
  },
  {
   "cell_type": "code",
   "execution_count": 0,
   "metadata": {
    "application/vnd.databricks.v1+cell": {
     "cellMetadata": {
      "byteLimit": 2048000,
      "rowLimit": 10000
     },
     "inputWidgets": {},
     "nuid": "a312cc7c-a263-4c35-ab6c-0c2f13099059",
     "showTitle": false,
     "title": ""
    }
   },
   "outputs": [
    {
     "output_type": "execute_result",
     "data": {
      "text/plain": [
       "[('06', 1619),\n",
       " ('01', 1494),\n",
       " ('08', 1230),\n",
       " ('12', 1082),\n",
       " ('10', 1058),\n",
       " ('03', 1552),\n",
       " ('02', 1272),\n",
       " ('05', 1415),\n",
       " ('04', 1324),\n",
       " ('07', 1360),\n",
       " ('11', 909),\n",
       " ('09', 1152)]"
      ]
     },
     "execution_count": 40,
     "metadata": {},
     "output_type": "execute_result"
    }
   ],
   "source": [
    "#Apply map tranformation to select the year and month, countt each occurence and use reduceBykey method to merge the value for each key \n",
    "myrdd14 = myrdd13.map(lambda x: (x[0][0:4], x[0][5:7])).map(lambda x: (x[1], 1)).reduceByKey(lambda a, b: a+b)\n",
    "\n",
    "#Return all elements \n",
    "myrdd14.collect()"
   ]
  },
  {
   "cell_type": "code",
   "execution_count": 0,
   "metadata": {
    "application/vnd.databricks.v1+cell": {
     "cellMetadata": {
      "byteLimit": 2048000,
      "rowLimit": 10000
     },
     "inputWidgets": {},
     "nuid": "1fa3c3cf-4d76-41f2-88ad-392c54a7300c",
     "showTitle": false,
     "title": ""
    }
   },
   "outputs": [],
   "source": [
    "#Create a mapping between month numbers and names using python dictionary \n",
    "month_names = {'01':'January', '02':'February', '03':'March', '04':'April', \n",
    "               '05':'May', '06':'June', '07':'July', '08':'August', '09':'September',\n",
    "               '10':'October', \"11\":'November', '12':'December'}"
   ]
  },
  {
   "cell_type": "code",
   "execution_count": 0,
   "metadata": {
    "application/vnd.databricks.v1+cell": {
     "cellMetadata": {
      "byteLimit": 2048000,
      "rowLimit": 10000
     },
     "inputWidgets": {},
     "nuid": "1590530f-ab87-4467-86a6-4def7697374d",
     "showTitle": false,
     "title": ""
    }
   },
   "outputs": [
    {
     "output_type": "execute_result",
     "data": {
      "text/plain": [
       "[('January', 1494),\n",
       " ('February', 1272),\n",
       " ('March', 1552),\n",
       " ('April', 1324),\n",
       " ('May', 1415),\n",
       " ('June', 1619),\n",
       " ('July', 1360),\n",
       " ('August', 1230),\n",
       " ('September', 1152),\n",
       " ('October', 1058),\n",
       " ('November', 909),\n",
       " ('December', 1082)]"
      ]
     },
     "execution_count": 42,
     "metadata": {},
     "output_type": "execute_result"
    }
   ],
   "source": [
    "#Apply map transformation on myrdd16 to return the names of month and sort the resutls on index basis \n",
    "myrdd15 = myrdd14.map(lambda x: (month_names[x[0]], x[1])).sortBy(lambda x: list(month_names.values()).index(x[0]))\n",
    "\n",
    "#Return all element\n",
    "myrdd15.collect()"
   ]
  },
  {
   "cell_type": "markdown",
   "metadata": {
    "application/vnd.databricks.v1+cell": {
     "cellMetadata": {
      "byteLimit": 2048000,
      "rowLimit": 10000
     },
     "inputWidgets": {},
     "nuid": "69d2a410-efe5-404b-9aa2-4e69144de2f1",
     "showTitle": false,
     "title": ""
    }
   },
   "source": [
    "##Using Python Matplotlib Visualization to show the count of completed studies for each month\n"
   ]
  },
  {
   "cell_type": "code",
   "execution_count": 0,
   "metadata": {
    "application/vnd.databricks.v1+cell": {
     "cellMetadata": {
      "byteLimit": 2048000,
      "rowLimit": 10000
     },
     "inputWidgets": {},
     "nuid": "8c2ee408-06ec-4426-bd3b-cf9f8b4089dc",
     "showTitle": false,
     "title": ""
    }
   },
   "outputs": [
    {
     "output_type": "display_data",
     "data": {
      "image/png": "[encoded data removed]",
      "text/plain": [
       "<Figure size 640x480 with 1 Axes>"
      ]
     },
     "metadata": {},
     "output_type": "display_data"
    }
   ],
   "source": [
    "import matplotlib.pyplot as plt\n",
    "#extract months and counts using list comprehension \n",
    "months = [month_count[0] for month_count in myrdd15.collect()]\n",
    "counts = [month_count[1] for month_count in myrdd15.collect()]\n",
    "\n",
    "# plot \n",
    "fig, ax = plt.subplots()\n",
    "ax.bar(months, counts, width=0.7, edgecolor='Blue', linewidth=3) \n",
    "\n",
    "#customise the plot\n",
    "ax.set_xlabel('Months') \n",
    "ax.set_ylabel('Counts') \n",
    "ax.set_title('Count of Completed Studies for each Month in 2023')\n",
    "\n",
    "plt.xticks(rotation=45) # rotate the x-axis labelling for readability \n",
    "plt.tight_layout()# adjust the subplot parameters\n",
    "\n",
    "plt.show()"
   ]
  }
 ],
 "metadata": {
  "application/vnd.databricks.v1+notebook": {
   "dashboards": [],
   "language": "python",
   "notebookMetadata": {
    "mostRecentlyExecutedCommandWithImplicitDF": {
     "commandId": 4292505396350750,
     "dataframes": [
      "_sqldf"
     ]
    },
    "pythonIndentUnit": 4
   },
   "notebookName": "Orezime_Isaac_rdd",
   "widgets": {}
  }
 },
 "nbformat": 4,
 "nbformat_minor": 0
}
