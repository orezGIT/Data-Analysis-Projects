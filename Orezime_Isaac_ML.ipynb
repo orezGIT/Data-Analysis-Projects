{
 "cells": [
  {
   "cell_type": "markdown",
   "metadata": {
    "application/vnd.databricks.v1+cell": {
     "cellMetadata": {
      "byteLimit": 2048000,
      "rowLimit": 10000
     },
     "inputWidgets": {},
     "nuid": "12d4909d-3d6c-4d3c-9109-fc042535bda9",
     "showTitle": false,
     "title": ""
    }
   },
   "source": [
    "#TASK 2\n",
    "#RECOMMENDER SYSTEM"
   ]
  },
  {
   "cell_type": "markdown",
   "metadata": {
    "application/vnd.databricks.v1+cell": {
     "cellMetadata": {
      "byteLimit": 2048000,
      "rowLimit": 10000
     },
     "inputWidgets": {},
     "nuid": "eb9e4b63-bf83-455f-8dac-0358a47c91b2",
     "showTitle": false,
     "title": ""
    }
   },
   "source": [
    "## Exploratory Data Analysis"
   ]
  },
  {
   "cell_type": "code",
   "execution_count": 0,
   "metadata": {
    "application/vnd.databricks.v1+cell": {
     "cellMetadata": {
      "byteLimit": 2048000,
      "rowLimit": 10000
     },
     "inputWidgets": {},
     "nuid": "ade0eed7-24ae-4561-93f2-990ee38f7f0b",
     "showTitle": false,
     "title": ""
    }
   },
   "outputs": [
    {
     "output_type": "execute_result",
     "data": {
      "text/plain": [
       "[FileInfo(path='dbfs:/FileStore/tables/.Test-unix/', name='.Test-unix/', size=0, modificationTime=0),\n",
       " FileInfo(path='dbfs:/FileStore/tables/.XIM-unix/', name='.XIM-unix/', size=0, modificationTime=0),\n",
       " FileInfo(path='dbfs:/FileStore/tables/.font-unix/', name='.font-unix/', size=0, modificationTime=0),\n",
       " FileInfo(path='dbfs:/FileStore/tables/Occupancy_Detection_Data.csv', name='Occupancy_Detection_Data.csv', size=50968, modificationTime=1709138386000),\n",
       " FileInfo(path='dbfs:/FileStore/tables/SQLcount_month.csv/', name='SQLcount_month.csv/', size=0, modificationTime=0),\n",
       " FileInfo(path='dbfs:/FileStore/tables/account-models/', name='account-models/', size=0, modificationTime=0),\n",
       " FileInfo(path='dbfs:/FileStore/tables/accounts/', name='accounts/', size=0, modificationTime=0),\n",
       " FileInfo(path='dbfs:/FileStore/tables/accounts.zip', name='accounts.zip', size=5297592, modificationTime=1709709833000),\n",
       " FileInfo(path='dbfs:/FileStore/tables/activations/', name='activations/', size=0, modificationTime=0),\n",
       " FileInfo(path='dbfs:/FileStore/tables/activations.zip', name='activations.zip', size=8411369, modificationTime=1709675438000),\n",
       " FileInfo(path='dbfs:/FileStore/tables/chauffeur-daemon-params', name='chauffeur-daemon-params', size=22, modificationTime=1707325327000),\n",
       " FileInfo(path='dbfs:/FileStore/tables/clinicaltrial_2020/', name='clinicaltrial_2020/', size=0, modificationTime=0),\n",
       " FileInfo(path='dbfs:/FileStore/tables/clinicaltrial_2020.csv', name='clinicaltrial_2020.csv', size=46318151, modificationTime=1714607023000),\n",
       " FileInfo(path='dbfs:/FileStore/tables/clinicaltrial_2020.zip', name='clinicaltrial_2020.zip', size=10599182, modificationTime=1712110692000),\n",
       " FileInfo(path='dbfs:/FileStore/tables/clinicaltrial_2021.zip', name='clinicaltrial_2021.zip', size=11508457, modificationTime=1712110723000),\n",
       " FileInfo(path='dbfs:/FileStore/tables/clinicaltrial_2023/', name='clinicaltrial_2023/', size=0, modificationTime=0),\n",
       " FileInfo(path='dbfs:/FileStore/tables/clinicaltrial_2023.csv', name='clinicaltrial_2023.csv', size=292436366, modificationTime=1714549080000),\n",
       " FileInfo(path='dbfs:/FileStore/tables/clinicaltrial_2023.zip', name='clinicaltrial_2023.zip', size=57166668, modificationTime=1713220355000),\n",
       " FileInfo(path='dbfs:/FileStore/tables/clinicalview.csv/', name='clinicalview.csv/', size=0, modificationTime=0),\n",
       " FileInfo(path='dbfs:/FileStore/tables/count_month.csv/', name='count_month.csv/', size=0, modificationTime=0),\n",
       " FileInfo(path='dbfs:/FileStore/tables/driver-daemon.pid', name='driver-daemon.pid', size=4, modificationTime=1707325329000),\n",
       " FileInfo(path='dbfs:/FileStore/tables/flood.zip', name='flood.zip', size=52053, modificationTime=1708181421000),\n",
       " FileInfo(path='dbfs:/FileStore/tables/games.csv', name='games.csv', size=143639, modificationTime=1712120283000),\n",
       " FileInfo(path='dbfs:/FileStore/tables/hsperfdata_root/', name='hsperfdata_root/', size=0, modificationTime=0),\n",
       " FileInfo(path='dbfs:/FileStore/tables/iotstream/', name='iotstream/', size=0, modificationTime=0),\n",
       " FileInfo(path='dbfs:/FileStore/tables/iotstream.zip', name='iotstream.zip', size=43891, modificationTime=1708584150000),\n",
       " FileInfo(path='dbfs:/FileStore/tables/iotstream_1/', name='iotstream_1/', size=0, modificationTime=0),\n",
       " FileInfo(path='dbfs:/FileStore/tables/iotstreaming/', name='iotstreaming/', size=0, modificationTime=0),\n",
       " FileInfo(path='dbfs:/FileStore/tables/logs/', name='logs/', size=0, modificationTime=0),\n",
       " FileInfo(path='dbfs:/FileStore/tables/logs.zip', name='logs.zip', size=18168065, modificationTime=1709709866000),\n",
       " FileInfo(path='dbfs:/FileStore/tables/movies.csv', name='movies.csv', size=494431, modificationTime=1709743255000),\n",
       " FileInfo(path='dbfs:/FileStore/tables/myratings.csv', name='myratings.csv', size=10683, modificationTime=1709743255000),\n",
       " FileInfo(path='dbfs:/FileStore/tables/pharma/', name='pharma/', size=0, modificationTime=0),\n",
       " FileInfo(path='dbfs:/FileStore/tables/pharma.csv', name='pharma.csv', size=678999, modificationTime=1714607025000),\n",
       " FileInfo(path='dbfs:/FileStore/tables/pharma.zip', name='pharma.zip', size=109982, modificationTime=1713220274000),\n",
       " FileInfo(path='dbfs:/FileStore/tables/python_lsp_logs/', name='python_lsp_logs/', size=0, modificationTime=0),\n",
       " FileInfo(path='dbfs:/FileStore/tables/ratings.csv', name='ratings.csv', size=2483723, modificationTime=1709743256000),\n",
       " FileInfo(path='dbfs:/FileStore/tables/steam_200k.csv', name='steam_200k.csv', size=8059447, modificationTime=1714082522000),\n",
       " FileInfo(path='dbfs:/FileStore/tables/systemd-private-7cbace18303d4eb89105a177c26dbcdd-systemd-logind.service-yLt2MO/', name='systemd-private-7cbace18303d4eb89105a177c26dbcdd-systemd-logind.service-yLt2MO/', size=0, modificationTime=0),\n",
       " FileInfo(path='dbfs:/FileStore/tables/systemd-private-7cbace18303d4eb89105a177c26dbcdd-systemd-resolved.service-p3tk7j/', name='systemd-private-7cbace18303d4eb89105a177c26dbcdd-systemd-resolved.service-p3tk7j/', size=0, modificationTime=0),\n",
       " FileInfo(path='dbfs:/FileStore/tables/test.json', name='test.json', size=17958, modificationTime=1706114081000),\n",
       " FileInfo(path='dbfs:/FileStore/tables/webfolder/', name='webfolder/', size=0, modificationTime=0),\n",
       " FileInfo(path='dbfs:/FileStore/tables/webpage/', name='webpage/', size=0, modificationTime=0),\n",
       " FileInfo(path='dbfs:/FileStore/tables/webpage.zip', name='webpage.zip', size=1582, modificationTime=1707347302000),\n",
       " FileInfo(path='dbfs:/FileStore/tables/webpage_files_all/', name='webpage_files_all/', size=0, modificationTime=0),\n",
       " FileInfo(path='dbfs:/FileStore/tables/webpage_files_jpg/', name='webpage_files_jpg/', size=0, modificationTime=0)]"
      ]
     },
     "execution_count": 1,
     "metadata": {},
     "output_type": "execute_result"
    }
   ],
   "source": [
    "#checking to ensure the steam file was uploaded\n",
    "dbutils.fs.ls('/FileStore/tables/')"
   ]
  },
  {
   "cell_type": "code",
   "execution_count": 0,
   "metadata": {
    "application/vnd.databricks.v1+cell": {
     "cellMetadata": {
      "byteLimit": 2048000,
      "rowLimit": 10000
     },
     "inputWidgets": {},
     "nuid": "5607bb4d-8809-42e4-9278-aa6ccfc3c23d",
     "showTitle": false,
     "title": ""
    }
   },
   "outputs": [],
   "source": [
    "# importing mlflow and autolog \n",
    "import mlflow\n",
    "mlflow.pyspark.ml.autolog() "
   ]
  },
  {
   "cell_type": "code",
   "execution_count": 0,
   "metadata": {
    "application/vnd.databricks.v1+cell": {
     "cellMetadata": {
      "byteLimit": 2048000,
      "rowLimit": 10000
     },
     "inputWidgets": {},
     "nuid": "536363be-b3fd-4151-9a54-73ff2c77191c",
     "showTitle": false,
     "title": ""
    }
   },
   "outputs": [
    {
     "output_type": "stream",
     "name": "stdout",
     "output_type": "stream",
     "text": [
      "+---------+--------------------+--------+-----+\n|      _c0|                 _c1|     _c2|  _c3|\n+---------+--------------------+--------+-----+\n|151603712|The Elder Scrolls...|purchase|  1.0|\n|151603712|The Elder Scrolls...|    play|273.0|\n|151603712|           Fallout 4|purchase|  1.0|\n|151603712|           Fallout 4|    play| 87.0|\n|151603712|               Spore|purchase|  1.0|\n+---------+--------------------+--------+-----+\nonly showing top 5 rows\n\n"
     ]
    }
   ],
   "source": [
    "#loading data into dataframe \n",
    "steamdf = spark.read.csv(\n",
    "    path='/FileStore/tables/steam_200k.csv',\n",
    "    header=False, \n",
    "    inferSchema=True\n",
    ")\n",
    "#display the first five rows \n",
    "steamdf.show(5)"
   ]
  },
  {
   "cell_type": "code",
   "execution_count": 0,
   "metadata": {
    "application/vnd.databricks.v1+cell": {
     "cellMetadata": {
      "byteLimit": 2048000,
      "rowLimit": 10000
     },
     "inputWidgets": {},
     "nuid": "ba234c8b-6c63-4e66-8df0-15ba587ecd71",
     "showTitle": false,
     "title": ""
    }
   },
   "outputs": [
    {
     "output_type": "stream",
     "name": "stdout",
     "output_type": "stream",
     "text": [
      "+---------+--------------------+--------+--------+\n|  user_id|           game_name|  action|playtime|\n+---------+--------------------+--------+--------+\n|151603712|The Elder Scrolls...|purchase|     1.0|\n|151603712|The Elder Scrolls...|    play|   273.0|\n|151603712|           Fallout 4|purchase|     1.0|\n|151603712|           Fallout 4|    play|    87.0|\n|151603712|               Spore|purchase|     1.0|\n+---------+--------------------+--------+--------+\nonly showing top 5 rows\n\n"
     ]
    }
   ],
   "source": [
    "#Applying toDF() method to rename the columns\n",
    "steamdf1 = steamdf.toDF('user_id', 'game_name', 'action', 'playtime')\n",
    "\n",
    "#show first five rows \n",
    "steamdf1.show(5)"
   ]
  },
  {
   "cell_type": "code",
   "execution_count": 0,
   "metadata": {
    "application/vnd.databricks.v1+cell": {
     "cellMetadata": {
      "byteLimit": 2048000,
      "rowLimit": 10000
     },
     "inputWidgets": {},
     "nuid": "70f55763-cd6b-4ada-85f1-a6132709b588",
     "showTitle": false,
     "title": ""
    }
   },
   "outputs": [
    {
     "output_type": "stream",
     "name": "stdout",
     "output_type": "stream",
     "text": [
      "+---------+--------------------+--------+--------+-------+\n|  user_id|           game_name|  action|playtime|game_id|\n+---------+--------------------+--------+--------+-------+\n|151603712|The Elder Scrolls...|purchase|     1.0|      1|\n|151603712|The Elder Scrolls...|    play|   273.0|      2|\n|151603712|           Fallout 4|purchase|     1.0|      3|\n|151603712|           Fallout 4|    play|    87.0|      4|\n|151603712|               Spore|purchase|     1.0|      5|\n+---------+--------------------+--------+--------+-------+\nonly showing top 5 rows\n\n"
     ]
    }
   ],
   "source": [
    "#Importing monotonically_increases_id to generate unique id for each row\n",
    "from pyspark.sql.functions import monotonically_increasing_id\n",
    "\n",
    "#Creating another column and applying the newly imported function to generate unique id\n",
    "gameid_df = steamdf1.withColumn('game_id', monotonically_increasing_id() + 1)\n",
    "\n",
    "#Showing the first five rows\n",
    "gameid_df.show(5)"
   ]
  },
  {
   "cell_type": "code",
   "execution_count": 0,
   "metadata": {
    "application/vnd.databricks.v1+cell": {
     "cellMetadata": {
      "byteLimit": 2048000,
      "rowLimit": 10000
     },
     "inputWidgets": {},
     "nuid": "b0d81c7d-7121-4433-904a-b748f8eda9bf",
     "showTitle": false,
     "title": ""
    }
   },
   "outputs": [
    {
     "output_type": "stream",
     "name": "stdout",
     "output_type": "stream",
     "text": [
      "+---------+--------------------+--------+--------+-------+\n|  user_id|           game_name|  action|playtime|game_id|\n+---------+--------------------+--------+--------+-------+\n|151603712|The Elder Scrolls...|purchase|     1.0|      1|\n|151603712|The Elder Scrolls...|    play|   273.0|      2|\n|151603712|           Fallout 4|purchase|     1.0|      3|\n|151603712|           Fallout 4|    play|    87.0|      4|\n|151603712|               Spore|purchase|     1.0|      5|\n+---------+--------------------+--------+--------+-------+\nonly showing top 5 rows\n\n"
     ]
    }
   ],
   "source": [
    "#Importing col from Pyspark\n",
    "from pyspark.sql.functions import cast, col\n",
    "\n",
    "#converting game_id column from long to integer\n",
    "steam_gameid2 = gameid_df.withColumn(\"game_id\", col(\"game_id\").cast(\"Integer\"))\n",
    "\n",
    "#show the first five rows \n",
    "steam_gameid2.show(5)\n"
   ]
  },
  {
   "cell_type": "code",
   "execution_count": 0,
   "metadata": {
    "application/vnd.databricks.v1+cell": {
     "cellMetadata": {
      "byteLimit": 2048000,
      "rowLimit": 10000
     },
     "inputWidgets": {},
     "nuid": "ca303669-befb-452f-8bd3-8c3c62d451a8",
     "showTitle": false,
     "title": ""
    }
   },
   "outputs": [],
   "source": [
    "steam_gameid2.createOrReplaceTempView('EDAview') "
   ]
  },
  {
   "cell_type": "code",
   "execution_count": 0,
   "metadata": {
    "application/vnd.databricks.v1+cell": {
     "cellMetadata": {
      "byteLimit": 2048000,
      "implicitDf": true,
      "rowLimit": 10000
     },
     "inputWidgets": {},
     "nuid": "a24bb86a-4b74-4823-9e0c-3a46290a7954",
     "showTitle": false,
     "title": ""
    }
   },
   "outputs": [
    {
     "output_type": "display_data",
     "data": {
      "text/html": [
       "<style scoped>\n",
       "  .table-result-container {\n",
       "    max-height: 300px;\n",
       "    overflow: auto;\n",
       "  }\n",
       "  table, th, td {\n",
       "    border: 1px solid black;\n",
       "    border-collapse: collapse;\n",
       "  }\n",
       "  th, td {\n",
       "    padding: 5px;\n",
       "  }\n",
       "  th {\n",
       "    text-align: left;\n",
       "  }\n",
       "</style><div class='table-result-container'><table class='table-result'><thead style='background-color: white'><tr><th>game_name</th><th>action</th><th>TotalHoursPlayed</th></tr></thead><tbody><tr><td>Dota 2</td><td>play</td><td>981684.5999999999</td></tr><tr><td>Counter-Strike Global Offensive</td><td>play</td><td>322771.6000000001</td></tr><tr><td>Team Fortress 2</td><td>play</td><td>173673.30000000005</td></tr><tr><td>Counter-Strike</td><td>play</td><td>134261.09999999998</td></tr><tr><td>Sid Meier's Civilization V</td><td>play</td><td>99821.30000000002</td></tr><tr><td>Counter-Strike Source</td><td>play</td><td>96075.50000000003</td></tr><tr><td>The Elder Scrolls V Skyrim</td><td>play</td><td>70889.3</td></tr><tr><td>Garry's Mod</td><td>play</td><td>49725.3</td></tr><tr><td>Call of Duty Modern Warfare 2 - Multiplayer</td><td>play</td><td>42009.899999999994</td></tr><tr><td>Left 4 Dead 2</td><td>play</td><td>33596.700000000004</td></tr></tbody></table></div>"
      ]
     },
     "metadata": {
      "application/vnd.databricks.v1+output": {
       "addedWidgets": {},
       "aggData": [],
       "aggError": "",
       "aggOverflow": false,
       "aggSchema": [],
       "aggSeriesLimitReached": false,
       "aggType": "",
       "arguments": {},
       "columnCustomDisplayInfos": {},
       "data": [
        [
         "Dota 2",
         "play",
         981684.5999999999
        ],
        [
         "Counter-Strike Global Offensive",
         "play",
         322771.6000000001
        ],
        [
         "Team Fortress 2",
         "play",
         173673.30000000005
        ],
        [
         "Counter-Strike",
         "play",
         134261.09999999998
        ],
        [
         "Sid Meier's Civilization V",
         "play",
         99821.30000000002
        ],
        [
         "Counter-Strike Source",
         "play",
         96075.50000000003
        ],
        [
         "The Elder Scrolls V Skyrim",
         "play",
         70889.3
        ],
        [
         "Garry's Mod",
         "play",
         49725.3
        ],
        [
         "Call of Duty Modern Warfare 2 - Multiplayer",
         "play",
         42009.899999999994
        ],
        [
         "Left 4 Dead 2",
         "play",
         33596.700000000004
        ]
       ],
       "datasetInfos": [],
       "dbfsResultPath": null,
       "isJsonSchema": true,
       "metadata": {
        "dataframeName": "_sqldf",
        "executionCount": 8
       },
       "overflow": false,
       "plotOptions": {
        "customPlotOptions": {},
        "displayType": "table",
        "pivotAggregation": null,
        "pivotColumns": null,
        "xColumns": null,
        "yColumns": null
       },
       "removedWidgets": [],
       "schema": [
        {
         "metadata": "{}",
         "name": "game_name",
         "type": "\"string\""
        },
        {
         "metadata": "{}",
         "name": "action",
         "type": "\"string\""
        },
        {
         "metadata": "{}",
         "name": "TotalHoursPlayed",
         "type": "\"double\""
        }
       ],
       "type": "table"
      }
     },
     "output_type": "display_data"
    },
    {
     "output_type": "display_data",
     "data": {
      "text/plain": [
       "Databricks visualization. Run in Databricks to view."
      ]
     },
     "metadata": {
      "application/vnd.databricks.v1.subcommand+json": {
       "baseErrorDetails": null,
       "bindings": {},
       "collapsed": false,
       "command": "%sql WITH q AS (SELECT game_name, action, SUM(playtime) AS TotalHoursPlayed\nFROM EDAview \nWHERE action = 'play'\nGROUP BY game_name, action\nORDER BY TotalHoursPlayed DESC\nLIMIT 10) SELECT `game_name`,`action`,SUM(`TotalHoursPlayed`) `column_780849114` FROM q GROUP BY `action`,`game_name`",
       "commandTitle": "Visualization 1",
       "commandType": "auto",
       "commandVersion": 0,
       "commentThread": [],
       "commentsVisible": false,
       "contentSha256Hex": null,
       "customPlotOptions": {
        "redashChart": [
         {
          "key": "type",
          "value": "CHART"
         },
         {
          "key": "options",
          "value": {
           "alignYAxesAtZero": true,
           "coefficient": 1,
           "columnConfigurationMap": {
            "series": {
             "column": "action",
             "id": "column_780849113"
            },
            "x": {
             "column": "game_name",
             "id": "column_780849112"
            },
            "y": [
             {
              "column": "TotalHoursPlayed",
              "id": "column_780849114",
              "transform": "SUM"
             }
            ]
           },
           "dateTimeFormat": "DD/MM/YYYY HH:mm",
           "direction": {
            "type": "counterclockwise"
           },
           "error_y": {
            "type": "data",
            "visible": true
           },
           "globalSeriesType": "column",
           "isAggregationOn": true,
           "legend": {
            "traceorder": "normal"
           },
           "missingValuesAsZero": true,
           "numberFormat": "0,0.[00000]",
           "percentFormat": "0[.]00%",
           "series": {
            "error_y": {
             "type": "data",
             "visible": true
            },
            "stacking": "stack"
           },
           "seriesOptions": {
            "column_780849114": {
             "name": "Hours_played",
             "type": "column",
             "yAxis": 0
            }
           },
           "showDataLabels": false,
           "sizemode": "diameter",
           "sortX": true,
           "sortY": true,
           "swappedAxes": true,
           "textFormat": "",
           "useAggregationsUi": true,
           "valuesOptions": {},
           "version": 2,
           "xAxis": {
            "labels": {
             "enabled": true
            },
            "type": "-"
           },
           "yAxis": [
            {
             "type": "-"
            },
            {
             "opposite": true,
             "type": "-"
            }
           ]
          }
         }
        ]
       },
       "datasetPreviewNameToCmdIdMap": {},
       "diffDeletes": [],
       "diffInserts": [],
       "displayType": "redashChart",
       "error": null,
       "errorDetails": null,
       "errorSummary": null,
       "errorTraceType": null,
       "finishTime": 0,
       "globalVars": {},
       "guid": "",
       "height": "auto",
       "hideCommandCode": false,
       "hideCommandResult": false,
       "iPythonMetadata": null,
       "inputWidgets": {},
       "isLockedInExamMode": false,
       "latestUser": "a user",
       "latestUserId": null,
       "listResultMetadata": null,
       "metadata": {
        "byteLimit": 2048000,
        "implicitDf": true,
        "rowLimit": 10000
       },
       "nuid": "13b1878e-0280-4ab6-bee9-f00cd1dc4f70",
       "origId": 0,
       "parentHierarchy": [],
       "pivotAggregation": null,
       "pivotColumns": null,
       "position": 9.875,
       "resultDbfsErrorMessage": null,
       "resultDbfsStatus": "INLINED_IN_TREE",
       "results": null,
       "showCommandTitle": false,
       "startTime": 0,
       "state": "finished",
       "streamStates": {},
       "subcommandOptions": {
        "queryPlan": {
         "groups": [
          {
           "column": "game_name",
           "type": "column"
          },
          {
           "column": "action",
           "type": "column"
          }
         ],
         "selects": [
          {
           "column": "game_name",
           "type": "column"
          },
          {
           "column": "action",
           "type": "column"
          },
          {
           "alias": "column_780849114",
           "args": [
            {
             "column": "TotalHoursPlayed",
             "type": "column"
            }
           ],
           "function": "SUM",
           "type": "function"
          }
         ]
        }
       },
       "submitTime": 0,
       "subtype": "tableResultSubCmd.visualization",
       "tableResultIndex": 0,
       "useConsistentColors": false,
       "version": "CommandV1",
       "width": "auto",
       "workflows": [],
       "xColumns": null,
       "yColumns": null
      }
     },
     "output_type": "display_data"
    }
   ],
   "source": [
    "%sql\n",
    "SELECT game_name, action, SUM(playtime) AS TotalHoursPlayed\n",
    "FROM EDAview \n",
    "WHERE action = 'play'\n",
    "GROUP BY game_name, action\n",
    "ORDER BY TotalHoursPlayed DESC\n",
    "LIMIT 10"
   ]
  },
  {
   "cell_type": "code",
   "execution_count": 0,
   "metadata": {
    "application/vnd.databricks.v1+cell": {
     "cellMetadata": {
      "byteLimit": 2048000,
      "implicitDf": true,
      "rowLimit": 10000
     },
     "inputWidgets": {},
     "nuid": "71cea2fa-6a08-4f0c-8423-42c5755e3e96",
     "showTitle": false,
     "title": ""
    }
   },
   "outputs": [
    {
     "output_type": "display_data",
     "data": {
      "text/html": [
       "<style scoped>\n",
       "  .table-result-container {\n",
       "    max-height: 300px;\n",
       "    overflow: auto;\n",
       "  }\n",
       "  table, th, td {\n",
       "    border: 1px solid black;\n",
       "    border-collapse: collapse;\n",
       "  }\n",
       "  th, td {\n",
       "    padding: 5px;\n",
       "  }\n",
       "  th {\n",
       "    text-align: left;\n",
       "  }\n",
       "</style><div class='table-result-container'><table class='table-result'><thead style='background-color: white'><tr><th>game_name</th><th>action</th><th>TotalPurchase</th></tr></thead><tbody><tr><td>Dota 2</td><td>purchase</td><td>4841</td></tr><tr><td>Team Fortress 2</td><td>purchase</td><td>2323</td></tr><tr><td>Unturned</td><td>purchase</td><td>1563</td></tr><tr><td>Counter-Strike Global Offensive</td><td>purchase</td><td>1412</td></tr><tr><td>Half-Life 2 Lost Coast</td><td>purchase</td><td>981</td></tr><tr><td>Counter-Strike Source</td><td>purchase</td><td>978</td></tr><tr><td>Left 4 Dead 2</td><td>purchase</td><td>951</td></tr><tr><td>Counter-Strike</td><td>purchase</td><td>856</td></tr><tr><td>Warframe</td><td>purchase</td><td>847</td></tr><tr><td>Half-Life 2 Deathmatch</td><td>purchase</td><td>823</td></tr></tbody></table></div>"
      ]
     },
     "metadata": {
      "application/vnd.databricks.v1+output": {
       "addedWidgets": {},
       "aggData": [],
       "aggError": "",
       "aggOverflow": false,
       "aggSchema": [],
       "aggSeriesLimitReached": false,
       "aggType": "",
       "arguments": {},
       "columnCustomDisplayInfos": {},
       "data": [
        [
         "Dota 2",
         "purchase",
         4841
        ],
        [
         "Team Fortress 2",
         "purchase",
         2323
        ],
        [
         "Unturned",
         "purchase",
         1563
        ],
        [
         "Counter-Strike Global Offensive",
         "purchase",
         1412
        ],
        [
         "Half-Life 2 Lost Coast",
         "purchase",
         981
        ],
        [
         "Counter-Strike Source",
         "purchase",
         978
        ],
        [
         "Left 4 Dead 2",
         "purchase",
         951
        ],
        [
         "Counter-Strike",
         "purchase",
         856
        ],
        [
         "Warframe",
         "purchase",
         847
        ],
        [
         "Half-Life 2 Deathmatch",
         "purchase",
         823
        ]
       ],
       "datasetInfos": [],
       "dbfsResultPath": null,
       "isJsonSchema": true,
       "metadata": {
        "dataframeName": "_sqldf",
        "executionCount": 9
       },
       "overflow": false,
       "plotOptions": {
        "customPlotOptions": {},
        "displayType": "table",
        "pivotAggregation": null,
        "pivotColumns": null,
        "xColumns": null,
        "yColumns": null
       },
       "removedWidgets": [],
       "schema": [
        {
         "metadata": "{}",
         "name": "game_name",
         "type": "\"string\""
        },
        {
         "metadata": "{}",
         "name": "action",
         "type": "\"string\""
        },
        {
         "metadata": "{}",
         "name": "TotalPurchase",
         "type": "\"long\""
        }
       ],
       "type": "table"
      }
     },
     "output_type": "display_data"
    },
    {
     "output_type": "display_data",
     "data": {
      "text/plain": [
       "Databricks visualization. Run in Databricks to view."
      ]
     },
     "metadata": {
      "application/vnd.databricks.v1.subcommand+json": {
       "baseErrorDetails": null,
       "bindings": {},
       "collapsed": false,
       "command": "%sql WITH q AS (SELECT game_name, action, count(*) AS TotalPurchase \nFROM EDAview\nWHERE action = 'purchase' \nGROUP BY game_name, action \nORDER BY TotalPurchase DESC\nLIMIT(10)) SELECT `game_name`,`action`,SUM(`TotalPurchase`) `column_d33083f83` FROM q GROUP BY `action`,`game_name`",
       "commandTitle": "Visualization 1",
       "commandType": "auto",
       "commandVersion": 0,
       "commentThread": [],
       "commentsVisible": false,
       "contentSha256Hex": null,
       "customPlotOptions": {
        "redashChart": [
         {
          "key": "type",
          "value": "CHART"
         },
         {
          "key": "options",
          "value": {
           "alignYAxesAtZero": true,
           "coefficient": 1,
           "columnConfigurationMap": {
            "series": {
             "column": "action",
             "id": "column_d33083f82"
            },
            "x": {
             "column": "game_name",
             "id": "column_d33083f81"
            },
            "y": [
             {
              "column": "TotalPurchase",
              "id": "column_d33083f83",
              "transform": "SUM"
             }
            ]
           },
           "dateTimeFormat": "DD/MM/YYYY HH:mm",
           "direction": {
            "type": "counterclockwise"
           },
           "error_y": {
            "type": "data",
            "visible": true
           },
           "globalSeriesType": "column",
           "isAggregationOn": true,
           "legend": {
            "traceorder": "normal"
           },
           "missingValuesAsZero": true,
           "numberFormat": "0,0.[00000]",
           "percentFormat": "0[.]00%",
           "series": {
            "error_y": {
             "type": "data",
             "visible": true
            },
            "stacking": "stack"
           },
           "seriesOptions": {
            "column_d33083f83": {
             "name": "TotalPurchase",
             "type": "column",
             "yAxis": 0
            }
           },
           "showDataLabels": false,
           "sizemode": "diameter",
           "sortX": true,
           "sortY": true,
           "swappedAxes": true,
           "textFormat": "",
           "useAggregationsUi": true,
           "valuesOptions": {},
           "version": 2,
           "xAxis": {
            "labels": {
             "enabled": true
            },
            "type": "-"
           },
           "yAxis": [
            {
             "type": "-"
            },
            {
             "opposite": true,
             "type": "-"
            }
           ]
          }
         }
        ]
       },
       "datasetPreviewNameToCmdIdMap": {},
       "diffDeletes": [],
       "diffInserts": [],
       "displayType": "redashChart",
       "error": null,
       "errorDetails": null,
       "errorSummary": null,
       "errorTraceType": null,
       "finishTime": 0,
       "globalVars": {},
       "guid": "",
       "height": "auto",
       "hideCommandCode": false,
       "hideCommandResult": false,
       "iPythonMetadata": null,
       "inputWidgets": {},
       "isLockedInExamMode": false,
       "latestUser": "a user",
       "latestUserId": null,
       "listResultMetadata": null,
       "metadata": {
        "byteLimit": 2048000,
        "implicitDf": true,
        "rowLimit": 10000
       },
       "nuid": "708234e0-9c84-4025-aec8-39e5c26d1f92",
       "origId": 0,
       "parentHierarchy": [],
       "pivotAggregation": null,
       "pivotColumns": null,
       "position": 10.375,
       "resultDbfsErrorMessage": null,
       "resultDbfsStatus": "INLINED_IN_TREE",
       "results": null,
       "showCommandTitle": false,
       "startTime": 0,
       "state": "finished",
       "streamStates": {},
       "subcommandOptions": {
        "queryPlan": {
         "groups": [
          {
           "column": "game_name",
           "type": "column"
          },
          {
           "column": "action",
           "type": "column"
          }
         ],
         "selects": [
          {
           "column": "game_name",
           "type": "column"
          },
          {
           "column": "action",
           "type": "column"
          },
          {
           "alias": "column_d33083f83",
           "args": [
            {
             "column": "TotalPurchase",
             "type": "column"
            }
           ],
           "function": "SUM",
           "type": "function"
          }
         ]
        }
       },
       "submitTime": 0,
       "subtype": "tableResultSubCmd.visualization",
       "tableResultIndex": 0,
       "useConsistentColors": false,
       "version": "CommandV1",
       "width": "auto",
       "workflows": [],
       "xColumns": null,
       "yColumns": null
      }
     },
     "output_type": "display_data"
    }
   ],
   "source": [
    "%sql\n",
    "SELECT game_name, action, count(*) AS TotalPurchase \n",
    "FROM EDAview\n",
    "WHERE action = 'purchase' \n",
    "GROUP BY game_name, action \n",
    "ORDER BY TotalPurchase DESC\n",
    "LIMIT(10) "
   ]
  },
  {
   "cell_type": "markdown",
   "metadata": {
    "application/vnd.databricks.v1+cell": {
     "cellMetadata": {
      "byteLimit": 2048000,
      "rowLimit": 10000
     },
     "inputWidgets": {},
     "nuid": "0182bc24-7005-4217-bec6-8aab75c96cb1",
     "showTitle": false,
     "title": ""
    }
   },
   "source": [
    "##Data Pre-processing "
   ]
  },
  {
   "cell_type": "code",
   "execution_count": 0,
   "metadata": {
    "application/vnd.databricks.v1+cell": {
     "cellMetadata": {
      "byteLimit": 2048000,
      "rowLimit": 10000
     },
     "inputWidgets": {},
     "nuid": "4cb1f918-9f3a-452c-a6a7-c8b218e7ac5f",
     "showTitle": false,
     "title": ""
    }
   },
   "outputs": [
    {
     "output_type": "stream",
     "name": "stderr",
     "output_type": "stream",
     "text": [
      "2024/05/02 00:26:34 INFO mlflow.utils.autologging_utils: Created MLflow autologging run with ID 'db25106296f74d489f73d2e1c82ba2be', which will track hyperparameters, performance metrics, model artifacts, and lineage information for the current pyspark.ml workflow\n"
     ]
    },
    {
     "output_type": "stream",
     "name": "stdout",
     "output_type": "stream",
     "text": [
      "+---------+--------------------+--------+--------+-------+--------------------+-----+\n|  user_id|           game_name|  action|playtime|game_id|            features|label|\n+---------+--------------------+--------+--------+-------+--------------------+-----+\n|151603712|The Elder Scrolls...|purchase|     1.0|      1|(5157,[0,9,5155,5...|  1.0|\n|151603712|The Elder Scrolls...|    play|   273.0|      2|(5157,[0,9,5156],...|273.0|\n|151603712|           Fallout 4|purchase|     1.0|      3|(5157,[0,101,5155...|  1.0|\n|151603712|           Fallout 4|    play|    87.0|      4|(5157,[0,101,5156...| 87.0|\n|151603712|               Spore|purchase|     1.0|      5|(5157,[0,333,5155...|  1.0|\n+---------+--------------------+--------+--------+-------+--------------------+-----+\nonly showing top 5 rows\n\n"
     ]
    }
   ],
   "source": [
    "#Converting data into correct format for MLlib learning algorithm.\n",
    "from pyspark.ml.feature import RFormula\n",
    "\n",
    "#drop features column if it exist so that it can run multiple times \n",
    "if 'features' in steam_gameid2.columns:\n",
    "    steam_gameid2 = steam_gameid2.drop('features')\n",
    "    \n",
    "\n",
    "steam_preprocess = RFormula(formula='playtime ~ .') \n",
    "steam_gameid2 = steam_preprocess.fit(steam_gameid2).transform(steam_gameid2)\n",
    "steam_gameid2.show(5)"
   ]
  },
  {
   "cell_type": "code",
   "execution_count": 0,
   "metadata": {
    "application/vnd.databricks.v1+cell": {
     "cellMetadata": {
      "byteLimit": 2048000,
      "rowLimit": 10000
     },
     "inputWidgets": {},
     "nuid": "205168a1-4cd0-4b4f-9c84-6ce9651a3d5d",
     "showTitle": false,
     "title": ""
    }
   },
   "outputs": [
    {
     "output_type": "stream",
     "name": "stdout",
     "output_type": "stream",
     "text": [
      "+---------+--------------------+--------+--------+-------+--------------------+-----+\n|  user_id|           game_name|  action|playtime|game_id|            features|label|\n+---------+--------------------+--------+--------+-------+--------------------+-----+\n|151603712|The Elder Scrolls...|purchase|     1.0|      1|(5157,[0,9,5155,5...|  1.0|\n|151603712|           Fallout 4|purchase|     1.0|      3|(5157,[0,101,5155...|  1.0|\n|151603712|               Spore|purchase|     1.0|      5|(5157,[0,333,5155...|  1.0|\n+---------+--------------------+--------+--------+-------+--------------------+-----+\nonly showing top 3 rows\n\n+---------+--------------------+------+--------+-------+--------------------+-----+\n|  user_id|           game_name|action|playtime|game_id|            features|label|\n+---------+--------------------+------+--------+-------+--------------------+-----+\n|151603712|The Elder Scrolls...|  play|   273.0|      2|(5157,[0,9,5156],...|273.0|\n|151603712|           Fallout 4|  play|    87.0|      4|(5157,[0,101,5156...| 87.0|\n|151603712|               Spore|  play|    14.9|      6|(5157,[0,333,5156...| 14.9|\n+---------+--------------------+------+--------+-------+--------------------+-----+\nonly showing top 3 rows\n\n"
     ]
    }
   ],
   "source": [
    "from pyspark.sql.functions import col \n",
    "#filter play from steam_gameid2 \n",
    "play_df = steam_gameid2.filter(col('action')=='play')\n",
    "\n",
    "#filter purchase from steam_gameid2\n",
    "purchase_df = steam_gameid2.filter(col('action')=='purchase')\n",
    "\n",
    "#display purchase_df\n",
    "purchase_df.show(3)\n",
    "\n",
    "#display play_df\n",
    "play_df.show(3)\n"
   ]
  },
  {
   "cell_type": "markdown",
   "metadata": {
    "application/vnd.databricks.v1+cell": {
     "cellMetadata": {
      "byteLimit": 2048000,
      "rowLimit": 10000
     },
     "inputWidgets": {},
     "nuid": "db2abeb8-cec4-441e-a23b-37be3838c6f8",
     "showTitle": false,
     "title": ""
    }
   },
   "source": [
    "##Train / Test data"
   ]
  },
  {
   "cell_type": "code",
   "execution_count": 0,
   "metadata": {
    "application/vnd.databricks.v1+cell": {
     "cellMetadata": {
      "byteLimit": 2048000,
      "rowLimit": 10000
     },
     "inputWidgets": {},
     "nuid": "5fcee1a2-02fb-47f7-8c85-a0ac07cbe42a",
     "showTitle": false,
     "title": ""
    }
   },
   "outputs": [],
   "source": [
    "#splitting the data into training and test datasets for steam_gameid2\n",
    "(trainingDF, testDF) = steam_gameid2.randomSplit([0.7, 0.3], seed =200 )\n",
    "\n",
    "#splitting the data into training and test datasets for play_df\n",
    "(trainingplay, testplay) = play_df.randomSplit([0.7, 0.3], seed = 200)\n",
    "\n",
    "#splitting the data into training and test datasets for purchase_df\n",
    "(trainingpurchase, testpurchase) = purchase_df.randomSplit([0.7, 0.3], seed = 200)"
   ]
  },
  {
   "cell_type": "markdown",
   "metadata": {
    "application/vnd.databricks.v1+cell": {
     "cellMetadata": {
      "byteLimit": 2048000,
      "rowLimit": 10000
     },
     "inputWidgets": {},
     "nuid": "541d935f-893a-495b-a1be-a32dcf1131f5",
     "showTitle": false,
     "title": ""
    }
   },
   "source": [
    "##4. Training the model Using Alternate Least Squares (ALS) \n"
   ]
  },
  {
   "cell_type": "code",
   "execution_count": 0,
   "metadata": {
    "application/vnd.databricks.v1+cell": {
     "cellMetadata": {
      "byteLimit": 2048000,
      "rowLimit": 10000
     },
     "inputWidgets": {},
     "nuid": "3b3d4467-37eb-4400-9b55-c18abc073266",
     "showTitle": false,
     "title": ""
    }
   },
   "outputs": [
    {
     "output_type": "stream",
     "name": "stderr",
     "output_type": "stream",
     "text": [
      "2024/05/02 00:26:47 INFO mlflow.utils.autologging_utils: Created MLflow autologging run with ID '1cfc4a099f8149f69f57dd7c829c73c9', which will track hyperparameters, performance metrics, model artifacts, and lineage information for the current pyspark.ml workflow\n2024/05/02 00:27:01 WARNING mlflow.data.spark_dataset: Failed to infer schema for Spark dataset. Exception: Unsupported Spark Type '<class 'pyspark.ml.linalg.VectorUDT'>' for MLflow schema.\n2024/05/02 00:29:27 WARNING mlflow.pyspark.ml: Model ALS_2002e3452fbc will not be autologged because it is not allowlisted or or because one or more of its nested models are not allowlisted. Call mlflow.spark.log_model() to explicitly log the model, or specify a custom allowlist via the spark.mlflow.pysparkml.autolog.logModelAllowlistFile Spark conf (see mlflow.pyspark.ml.autolog docs for more info).\n2024/05/02 00:29:29 INFO mlflow.utils.autologging_utils: Created MLflow autologging run with ID '3dedeaedc49847b3a52d572cf81a3d1c', which will track hyperparameters, performance metrics, model artifacts, and lineage information for the current pyspark.ml workflow\n2024/05/02 00:29:30 WARNING mlflow.data.spark_dataset: Failed to infer schema for Spark dataset. Exception: Unsupported Spark Type '<class 'pyspark.ml.linalg.VectorUDT'>' for MLflow schema.\n2024/05/02 00:31:36 WARNING mlflow.pyspark.ml: Model ALS_2002e3452fbc will not be autologged because it is not allowlisted or or because one or more of its nested models are not allowlisted. Call mlflow.spark.log_model() to explicitly log the model, or specify a custom allowlist via the spark.mlflow.pysparkml.autolog.logModelAllowlistFile Spark conf (see mlflow.pyspark.ml.autolog docs for more info).\n2024/05/02 00:31:37 INFO mlflow.utils.autologging_utils: Created MLflow autologging run with ID 'a260198eb1624ff6b0547d719fa7cb96', which will track hyperparameters, performance metrics, model artifacts, and lineage information for the current pyspark.ml workflow\n2024/05/02 00:31:38 WARNING mlflow.data.spark_dataset: Failed to infer schema for Spark dataset. Exception: Unsupported Spark Type '<class 'pyspark.ml.linalg.VectorUDT'>' for MLflow schema.\n2024/05/02 00:33:38 WARNING mlflow.pyspark.ml: Model ALS_2002e3452fbc will not be autologged because it is not allowlisted or or because one or more of its nested models are not allowlisted. Call mlflow.spark.log_model() to explicitly log the model, or specify a custom allowlist via the spark.mlflow.pysparkml.autolog.logModelAllowlistFile Spark conf (see mlflow.pyspark.ml.autolog docs for more info).\n"
     ]
    }
   ],
   "source": [
    "from pyspark.ml.recommendation import ALS \n",
    "\n",
    "#using alternating least squares by instantiating an instance of the estimator steam_gameid2\n",
    "als = ALS(maxIter=5, regParam=0.01, userCol='user_id', itemCol='game_id', ratingCol='playtime', seed=200)\n",
    "\n",
    "#train the model for steam_gameid2\n",
    "model = als.fit(trainingDF)\n",
    "\n",
    "#train the model for play_df\n",
    "play_model = als.fit(trainingplay)\n",
    "\n",
    "#train the model for purchase_df\n",
    "purchase_model = als.fit(trainingpurchase)\n"
   ]
  },
  {
   "cell_type": "markdown",
   "metadata": {
    "application/vnd.databricks.v1+cell": {
     "cellMetadata": {
      "byteLimit": 2048000,
      "rowLimit": 10000
     },
     "inputWidgets": {},
     "nuid": "dc75d080-733f-4c64-a423-e2d41363ef4e",
     "showTitle": false,
     "title": ""
    }
   },
   "source": [
    "##Model Evaluation "
   ]
  },
  {
   "cell_type": "code",
   "execution_count": 0,
   "metadata": {
    "application/vnd.databricks.v1+cell": {
     "cellMetadata": {
      "byteLimit": 2048000,
      "rowLimit": 10000
     },
     "inputWidgets": {},
     "nuid": "4c074589-885c-468d-8d1b-f490f26708cd",
     "showTitle": false,
     "title": ""
    }
   },
   "outputs": [
    {
     "output_type": "stream",
     "name": "stdout",
     "output_type": "stream",
     "text": [
      "+-------+--------------------+--------+--------+-------+--------------------+-----+-----------+\n|user_id|           game_name|  action|playtime|game_id|            features|label| prediction|\n+-------+--------------------+--------+--------+-------+--------------------+-----+-----------+\n|   5250|         Alien Swarm|purchase|     1.0|  65430|(5157,[0,33,5155,...|  1.0|-0.34882042|\n|   5250|      Counter-Strike|purchase|     1.0|  65436|(5157,[0,7,5155,5...|  1.0|-0.21801274|\n|   5250|Deus Ex Human Rev...|purchase|     1.0|  65426|(5157,[0,119,5155...|  1.0|-0.43602547|\n+-------+--------------------+--------+--------+-------+--------------------+-----+-----------+\nonly showing top 3 rows\n\n+-------+--------------------+------+--------+-------+--------------------+-----+-----------+\n|user_id|           game_name|action|playtime|game_id|            features|label| prediction|\n+-------+--------------------+------+--------+-------+--------------------+-----+-----------+\n| 181212|Half-Life 2 Lost ...|  play|     0.4|  42340|(5157,[0,11,5156]...|  0.4|0.023068598|\n| 298950|Age of Empires II...|  play|     1.2|  39600|(5157,[0,62,5156]...|  1.2|  0.3169455|\n| 298950|         Alien Swarm|  play|     1.6|  39592|(5157,[0,33,5156]...|  1.6| 0.34904173|\n+-------+--------------------+------+--------+-------+--------------------+-----+-----------+\nonly showing top 3 rows\n\n+-------+--------------------+--------+--------+-------+--------------------+-----+-----------+\n|user_id|           game_name|  action|playtime|game_id|            features|label| prediction|\n+-------+--------------------+--------+--------+-------+--------------------+-----+-----------+\n|   5250|         Half-Life 2|purchase|     1.0|  65441|(5157,[0,17,5155,...|  1.0|  0.3980106|\n|   5250|Half-Life Blue Shift|purchase|     1.0|  65446|(5157,[0,75,5155,...|  1.0|  0.3980106|\n|  76767|Arma 2 Operation ...|purchase|     1.0|  55956|(5157,[0,61,5155,...|  1.0|-0.09109328|\n+-------+--------------------+--------+--------+-------+--------------------+-----+-----------+\nonly showing top 3 rows\n\n"
     ]
    }
   ],
   "source": [
    "#predicting model for steam_gameid2 \n",
    "predictions = model.transform(testDF).dropna() \n",
    "\n",
    "#predicting model for play_df\n",
    "play_pedictions = play_model.transform(testplay).dropna() \n",
    "\n",
    "#predicting model for purchase_df\n",
    "purchase_predictions = purchase_model.transform(testpurchase).dropna() \n",
    "\n",
    "#show steam_gameid2 \n",
    "predictions.show(3)\n",
    "\n",
    "#show play_df\n",
    "play_pedictions.show(3) \n",
    "\n",
    "#show purhcase_df \n",
    "purchase_predictions.show(3)"
   ]
  },
  {
   "cell_type": "code",
   "execution_count": 0,
   "metadata": {
    "application/vnd.databricks.v1+cell": {
     "cellMetadata": {
      "byteLimit": 2048000,
      "rowLimit": 10000
     },
     "inputWidgets": {},
     "nuid": "59aa5825-0ec4-4bcb-be15-dcc42d5b53b9",
     "showTitle": false,
     "title": ""
    }
   },
   "outputs": [
    {
     "output_type": "stream",
     "name": "stdout",
     "output_type": "stream",
     "text": [
      "Root Mean Square Error for model is 145.835\nRoot Mean Square Error for play_model is 180.16\nRoot Mean Square Error for purchase_model is 0.859162\n"
     ]
    }
   ],
   "source": [
    "from pyspark.ml.evaluation import RegressionEvaluator \n",
    "#assigning a variable to regression evaluator \n",
    "evaluator = RegressionEvaluator(metricName='rmse', labelCol='playtime', predictionCol='prediction') \n",
    "\n",
    "#evaluate steam_gameid2 model\n",
    "rmse = evaluator.evaluate(predictions)\n",
    "\n",
    "#evaluate play_df model\n",
    "rmse_play = evaluator.evaluate(play_pedictions)\n",
    "\n",
    "#evaluate purchase_df model\n",
    "rmse_purchase = evaluator.evaluate(purchase_predictions)\n",
    "\n",
    "print('Root Mean Square Error for model is %g' %rmse)\n",
    "print('Root Mean Square Error for play_model is %g' %rmse_play)\n",
    "print('Root Mean Square Error for purchase_model is %g' %rmse_purchase)\n"
   ]
  },
  {
   "cell_type": "markdown",
   "metadata": {
    "application/vnd.databricks.v1+cell": {
     "cellMetadata": {
      "byteLimit": 2048000,
      "rowLimit": 10000
     },
     "inputWidgets": {},
     "nuid": "7d287c9f-70c6-45cb-af65-4e46c03b3aa6",
     "showTitle": false,
     "title": ""
    }
   },
   "source": [
    "##Training the model using different hyperparameters"
   ]
  },
  {
   "cell_type": "code",
   "execution_count": 0,
   "metadata": {
    "application/vnd.databricks.v1+cell": {
     "cellMetadata": {
      "byteLimit": 2048000,
      "rowLimit": 10000
     },
     "inputWidgets": {},
     "nuid": "44801235-35dc-4ed6-86e7-865847e97cc9",
     "showTitle": false,
     "title": ""
    }
   },
   "outputs": [
    {
     "output_type": "stream",
     "name": "stderr",
     "output_type": "stream",
     "text": [
      "2024/05/02 00:36:23 INFO mlflow.utils.autologging_utils: Created MLflow autologging run with ID 'bb753c9d1eae4cde829467f2a9c5931b', which will track hyperparameters, performance metrics, model artifacts, and lineage information for the current pyspark.ml workflow\n2024/05/02 00:36:24 WARNING mlflow.data.spark_dataset: Failed to infer schema for Spark dataset. Exception: Unsupported Spark Type '<class 'pyspark.ml.linalg.VectorUDT'>' for MLflow schema.\n2024/05/02 00:39:48 WARNING mlflow.pyspark.ml: Model ALS_7c80ca6e8600 will not be autologged because it is not allowlisted or or because one or more of its nested models are not allowlisted. Call mlflow.spark.log_model() to explicitly log the model, or specify a custom allowlist via the spark.mlflow.pysparkml.autolog.logModelAllowlistFile Spark conf (see mlflow.pyspark.ml.autolog docs for more info).\n2024/05/02 00:39:49 INFO mlflow.utils.autologging_utils: Created MLflow autologging run with ID 'bd083f4c55484f879828dc793fcf73a8', which will track hyperparameters, performance metrics, model artifacts, and lineage information for the current pyspark.ml workflow\n2024/05/02 00:39:50 WARNING mlflow.data.spark_dataset: Failed to infer schema for Spark dataset. Exception: Unsupported Spark Type '<class 'pyspark.ml.linalg.VectorUDT'>' for MLflow schema.\n2024/05/02 00:43:07 WARNING mlflow.pyspark.ml: Model ALS_7c80ca6e8600 will not be autologged because it is not allowlisted or or because one or more of its nested models are not allowlisted. Call mlflow.spark.log_model() to explicitly log the model, or specify a custom allowlist via the spark.mlflow.pysparkml.autolog.logModelAllowlistFile Spark conf (see mlflow.pyspark.ml.autolog docs for more info).\n2024/05/02 00:43:08 INFO mlflow.utils.autologging_utils: Created MLflow autologging run with ID '9ea1a3ade9654d20aacda8d692e92999', which will track hyperparameters, performance metrics, model artifacts, and lineage information for the current pyspark.ml workflow\n2024/05/02 00:43:10 WARNING mlflow.data.spark_dataset: Failed to infer schema for Spark dataset. Exception: Unsupported Spark Type '<class 'pyspark.ml.linalg.VectorUDT'>' for MLflow schema.\n2024/05/02 00:46:28 WARNING mlflow.pyspark.ml: Model ALS_7c80ca6e8600 will not be autologged because it is not allowlisted or or because one or more of its nested models are not allowlisted. Call mlflow.spark.log_model() to explicitly log the model, or specify a custom allowlist via the spark.mlflow.pysparkml.autolog.logModelAllowlistFile Spark conf (see mlflow.pyspark.ml.autolog docs for more info).\n"
     ]
    }
   ],
   "source": [
    "from pyspark.ml.recommendation import ALS \n",
    "\n",
    "#using alternating least squares by instantiating an instance of the estimator steam_gameid2\n",
    "als = ALS(maxIter=10, regParam=0.05, userCol='user_id', itemCol='game_id', ratingCol='playtime', seed=100)\n",
    "\n",
    "#train the model for steam_gameid2\n",
    "model_1= als.fit(trainingDF)\n",
    "\n",
    "#train the model for play_df\n",
    "play_model_1 = als.fit(trainingplay)\n",
    "\n",
    "#train the model for purchase_df\n",
    "purchase_model_1 = als.fit(trainingpurchase)"
   ]
  },
  {
   "cell_type": "markdown",
   "metadata": {
    "application/vnd.databricks.v1+cell": {
     "cellMetadata": {
      "byteLimit": 2048000,
      "rowLimit": 10000
     },
     "inputWidgets": {},
     "nuid": "01a6d75e-4520-4009-8fdd-3247f51fd63a",
     "showTitle": false,
     "title": ""
    }
   },
   "source": [
    "##Model Evaluation"
   ]
  },
  {
   "cell_type": "code",
   "execution_count": 0,
   "metadata": {
    "application/vnd.databricks.v1+cell": {
     "cellMetadata": {
      "byteLimit": 2048000,
      "rowLimit": 10000
     },
     "inputWidgets": {},
     "nuid": "112283af-87d5-4e7d-84ab-966dff2f0e73",
     "showTitle": false,
     "title": ""
    }
   },
   "outputs": [
    {
     "output_type": "stream",
     "name": "stdout",
     "output_type": "stream",
     "text": [
      "+-------+--------------------+--------+--------+-------+--------------------+-----+------------+\n|user_id|           game_name|  action|playtime|game_id|            features|label|  prediction|\n+-------+--------------------+--------+--------+-------+--------------------+-----+------------+\n|   5250|         Alien Swarm|purchase|     1.0|  65430|(5157,[0,33,5155,...|  1.0|0.0064391047|\n|   5250|      Counter-Strike|purchase|     1.0|  65436|(5157,[0,7,5155,5...|  1.0|0.0040244237|\n|   5250|Deus Ex Human Rev...|purchase|     1.0|  65426|(5157,[0,119,5155...|  1.0| 0.008048847|\n+-------+--------------------+--------+--------+-------+--------------------+-----+------------+\nonly showing top 3 rows\n\n+-------+--------------------+------+--------+-------+--------------------+-----+-----------+\n|user_id|           game_name|action|playtime|game_id|            features|label| prediction|\n+-------+--------------------+------+--------+-------+--------------------+-----+-----------+\n| 181212|Half-Life 2 Lost ...|  play|     0.4|  42340|(5157,[0,11,5156]...|  0.4|0.024282336|\n| 298950|Age of Empires II...|  play|     1.2|  39600|(5157,[0,62,5156]...|  1.2|  1.7954664|\n| 298950|         Alien Swarm|  play|     1.6|  39592|(5157,[0,33,5156]...|  1.6|  1.9772856|\n+-------+--------------------+------+--------+-------+--------------------+-----+-----------+\nonly showing top 3 rows\n\n+-------+--------------------+--------+--------+-------+--------------------+-----+----------+\n|user_id|           game_name|  action|playtime|game_id|            features|label|prediction|\n+-------+--------------------+--------+--------+-------+--------------------+-----+----------+\n|   5250|         Half-Life 2|purchase|     1.0|  65441|(5157,[0,17,5155,...|  1.0| 0.9059844|\n|   5250|Half-Life Blue Shift|purchase|     1.0|  65446|(5157,[0,75,5155,...|  1.0| 0.9059844|\n|  76767|Arma 2 Operation ...|purchase|     1.0|  55956|(5157,[0,61,5155,...|  1.0|0.73174435|\n+-------+--------------------+--------+--------+-------+--------------------+-----+----------+\nonly showing top 3 rows\n\n"
     ]
    }
   ],
   "source": [
    "#predicting model for steam_gameid2 \n",
    "predictions_1 = model_1.transform(testDF).dropna() \n",
    "\n",
    "#predicting model for play_df\n",
    "play_pedictions1 = play_model_1.transform(testplay).dropna() \n",
    "\n",
    "#predicting model for purchase_df\n",
    "purchase_predictions1 = purchase_model_1.transform(testpurchase).dropna() \n",
    "\n",
    "#show steam_gameid2 \n",
    "predictions_1.show(3)\n",
    "\n",
    "#show play_df\n",
    "play_pedictions1.show(3) \n",
    "\n",
    "#show purhcase_df \n",
    "purchase_predictions1.show(3)"
   ]
  },
  {
   "cell_type": "code",
   "execution_count": 0,
   "metadata": {
    "application/vnd.databricks.v1+cell": {
     "cellMetadata": {
      "byteLimit": 2048000,
      "rowLimit": 10000
     },
     "inputWidgets": {},
     "nuid": "5bc6d404-71f5-445e-9e81-9b308a9b21a4",
     "showTitle": false,
     "title": ""
    }
   },
   "outputs": [
    {
     "output_type": "stream",
     "name": "stdout",
     "output_type": "stream",
     "text": [
      "Root Mean Square Error for model_1 is 145.955\nRoot Mean Square Error for play_model_1 is 178.811\nRoot Mean Square Error for purchase_model_1 is 0.396602\n"
     ]
    }
   ],
   "source": [
    "from pyspark.ml.evaluation import RegressionEvaluator \n",
    "\n",
    "#applying regression evaluator to measure the accuracy of the model\n",
    "evaluator2 = RegressionEvaluator(metricName='rmse', labelCol='playtime', predictionCol='prediction') \n",
    "\n",
    "#evaluate steam_gameid2 model\n",
    "rmse_1 = evaluator2.evaluate(predictions_1)\n",
    "\n",
    "#evaluate play_df model\n",
    "rmse_play1 = evaluator2.evaluate(play_pedictions1)\n",
    "\n",
    "#evaluate purchase_df model\n",
    "rmse_purchase1 = evaluator2.evaluate(purchase_predictions1)\n",
    "\n",
    "print('Root Mean Square Error for model_1 is %g' %rmse_1)\n",
    "print('Root Mean Square Error for play_model_1 is %g' %rmse_play1)\n",
    "print('Root Mean Square Error for purchase_model_1 is %g' %rmse_purchase1)\n"
   ]
  },
  {
   "cell_type": "markdown",
   "metadata": {
    "application/vnd.databricks.v1+cell": {
     "cellMetadata": {
      "byteLimit": 2048000,
      "rowLimit": 10000
     },
     "inputWidgets": {},
     "nuid": "c4451c18-7324-469e-ba24-8a68ab226384",
     "showTitle": false,
     "title": ""
    }
   },
   "source": [
    "##Generating game recommendation"
   ]
  },
  {
   "cell_type": "code",
   "execution_count": 0,
   "metadata": {
    "application/vnd.databricks.v1+cell": {
     "cellMetadata": {
      "byteLimit": 2048000,
      "rowLimit": 10000
     },
     "inputWidgets": {},
     "nuid": "6d8af676-7dd1-4aa0-a735-47aa60afb4ad",
     "showTitle": false,
     "title": ""
    }
   },
   "outputs": [
    {
     "output_type": "stream",
     "name": "stdout",
     "output_type": "stream",
     "text": [
      "+-------+---------------------------------------------------------------------------------------------------------------------------------------------------------------------------------------------------------------------------------------------------------------------------------------------------------------------------------------------------------------------------------------------------------------+\n|user_id|recommendations                                                                                                                                                                                                                                                                                                                                                                                                |\n+-------+---------------------------------------------------------------------------------------------------------------------------------------------------------------------------------------------------------------------------------------------------------------------------------------------------------------------------------------------------------------------------------------------------------------+\n|76767  |[{8307, 4376.8213}, {78082, 2921.2432}, {32486, 2591.4653}, {57242, 2353.486}, {61260, 2299.3984}, {78272, 1667.4198}, {84363, 1482.5592}, {82405, 1481.7584}, {100488, 1406.0973}, {40571, 1403.8285}, {100279, 1326.5426}, {85861, 1311.8705}, {77420, 1304.048}, {19666, 1190.0896}, {19873, 1144.6372}, {39019, 1089.3107}, {58853, 1060.8396}, {47231, 984.3944}, {77692, 978.5616}, {24582, 972.57574}]  |\n|144736 |[{79125, 2292.5095}, {6423, 1463.1188}, {50644, 1301.6396}, {38141, 1100.4451}, {55885, 1013.7364}, {51254, 960.4852}, {78379, 808.60376}, {92340, 806.2985}, {44247, 768.2384}, {62877, 718.48645}, {39906, 711.0801}, {42094, 640.1523}, {16093, 622.5642}, {13513, 611.78754}, {45218, 590.4286}, {40244, 575.8477}, {72714, 567.79553}, {39055, 562.7501}, {36504, 535.02136}, {7715, 534.8417}]           |\n|229911 |[{103149, 3380.9111}, {62877, 3187.5496}, {79125, 2940.3997}, {82669, 2821.7886}, {93056, 2811.9412}, {57242, 2611.4583}, {19390, 2469.1755}, {58096, 2430.161}, {36673, 2226.8987}, {36976, 1874.3989}, {14698, 1651.0297}, {24704, 1564.2914}, {84363, 1557.7203}, {44247, 1446.7949}, {17543, 1402.7859}, {67457, 1297.6545}, {66551, 1262.6815}, {30035, 1236.1381}, {50644, 1182.672}, {89288, 1164.0702}]|\n|835015 |[{51254, 2217.2734}, {35934, 2066.398}, {50296, 1748.6367}, {19390, 1626.4341}, {72736, 1511.135}, {55885, 1498.8917}, {42463, 1373.2745}, {40571, 1234.546}, {5190, 1183.2621}, {36976, 1113.518}, {85861, 917.7683}, {61250, 875.4072}, {78082, 815.21826}, {94769, 784.15674}, {10622, 753.2672}, {53850, 740.56836}, {45628, 714.4593}, {63559, 701.29736}, {42368, 700.2865}, {72954, 691.1502}]          |\n|948368 |[{19390, 3431.4912}, {32486, 2778.0752}, {78082, 2244.6287}, {78272, 2182.0447}, {42463, 1906.4226}, {40571, 1748.1434}, {55885, 1670.7349}, {36976, 1452.93}, {8307, 1433.8997}, {91167, 1244.3744}, {57242, 1241.6024}, {77692, 1139.3457}, {3751, 1126.5166}, {37168, 1105.751}, {84363, 1089.4567}, {39019, 1074.9052}, {13065, 1031.7847}, {87683, 1025.0651}, {53850, 1004.47327}, {53065, 1001.579}]    |\n+-------+---------------------------------------------------------------------------------------------------------------------------------------------------------------------------------------------------------------------------------------------------------------------------------------------------------------------------------------------------------------------------------------------------------------+\nonly showing top 5 rows\n\n"
     ]
    }
   ],
   "source": [
    "#generate a recomender system for all users\n",
    "userRecs = model_1.recommendForAllUsers(20)\n",
    "\n",
    "userRecs.show(5, truncate=False)"
   ]
  },
  {
   "cell_type": "code",
   "execution_count": 0,
   "metadata": {
    "application/vnd.databricks.v1+cell": {
     "cellMetadata": {
      "byteLimit": 2048000,
      "rowLimit": 10000
     },
     "inputWidgets": {},
     "nuid": "24c28faa-e5bd-4c10-b4b4-77a5d27e5f67",
     "showTitle": false,
     "title": ""
    }
   },
   "outputs": [
    {
     "output_type": "stream",
     "name": "stdout",
     "output_type": "stream",
     "text": [
      "+-------+---------+-------------------------------------+\n|game_id|rating   |game_name                            |\n+-------+---------+-------------------------------------+\n|8307   |4376.8213|Dota 2                               |\n|8307   |4376.8213|Sid Meier's Civilization III Complete|\n|78082  |2921.2432|FINAL FANTASY XIV A Realm Reborn     |\n|78082  |2921.2432|StarDrive                            |\n|32486  |2591.4653|Dota 2                               |\n+-------+---------+-------------------------------------+\nonly showing top 5 rows\n\n"
     ]
    }
   ],
   "source": [
    "from pyspark.sql.functions import explode\n",
    "\n",
    "#mapping game_id to game_name\n",
    "game_name = steam_gameid2.select('game_id', 'game_name').distinct()\n",
    "\n",
    "#generating game recommendation for a specific users\n",
    "# Directly filter user_id 76767, explode the recommendations, and join the results with game_name\n",
    "user_recommendations = (userRecs\n",
    "    .filter(col('user_id') == 76767) \n",
    "    .withColumn('recommendations', explode('recommendations')) \n",
    "    .select(\n",
    "        col('recommendations.game_id').alias('game_id'),  \n",
    "        col('recommendations.rating').alias('rating')\n",
    "    )\n",
    "    .join(game_name, on='game_id')   \n",
    "    .show(5,truncate=False))  \n"
   ]
  }
 ],
 "metadata": {
  "application/vnd.databricks.v1+notebook": {
   "dashboards": [],
   "language": "python",
   "notebookMetadata": {
    "mostRecentlyExecutedCommandWithImplicitDF": {
     "commandId": 2203545825072857,
     "dataframes": [
      "_sqldf"
     ]
    },
    "pythonIndentUnit": 4
   },
   "notebookName": "Orezime_Isaac_ML",
   "widgets": {}
  }
 },
 "nbformat": 4,
 "nbformat_minor": 0
}
