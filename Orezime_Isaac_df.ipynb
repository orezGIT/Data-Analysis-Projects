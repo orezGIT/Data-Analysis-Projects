{
 "cells": [
  {
   "cell_type": "markdown",
   "metadata": {
    "application/vnd.databricks.v1+cell": {
     "cellMetadata": {
      "byteLimit": 2048000,
      "rowLimit": 10000
     },
     "inputWidgets": {},
     "nuid": "9f80c7fa-96f7-41a9-8f1b-3b4c57e88a40",
     "showTitle": false,
     "title": ""
    }
   },
   "source": [
    "#TASK 1\n",
    "#DATAFRAME IMPELEMENTATION "
   ]
  },
  {
   "cell_type": "code",
   "execution_count": 0,
   "metadata": {
    "application/vnd.databricks.v1+cell": {
     "cellMetadata": {
      "byteLimit": 2048000,
      "rowLimit": 10000
     },
     "inputWidgets": {},
     "nuid": "ec567923-eadf-45aa-bf7a-e77861590c06",
     "showTitle": false,
     "title": ""
    }
   },
   "outputs": [
    {
     "output_type": "execute_result",
     "data": {
      "text/plain": [
       "[FileInfo(path='dbfs:/FileStore/tables/.Test-unix/', name='.Test-unix/', size=0, modificationTime=0),\n",
       " FileInfo(path='dbfs:/FileStore/tables/.XIM-unix/', name='.XIM-unix/', size=0, modificationTime=0),\n",
       " FileInfo(path='dbfs:/FileStore/tables/.font-unix/', name='.font-unix/', size=0, modificationTime=0),\n",
       " FileInfo(path='dbfs:/FileStore/tables/Occupancy_Detection_Data.csv', name='Occupancy_Detection_Data.csv', size=50968, modificationTime=1709138386000),\n",
       " FileInfo(path='dbfs:/FileStore/tables/SQLcount_month.csv/', name='SQLcount_month.csv/', size=0, modificationTime=0),\n",
       " FileInfo(path='dbfs:/FileStore/tables/account-models/', name='account-models/', size=0, modificationTime=0),\n",
       " FileInfo(path='dbfs:/FileStore/tables/accounts/', name='accounts/', size=0, modificationTime=0),\n",
       " FileInfo(path='dbfs:/FileStore/tables/accounts.zip', name='accounts.zip', size=5297592, modificationTime=1709709833000),\n",
       " FileInfo(path='dbfs:/FileStore/tables/activations/', name='activations/', size=0, modificationTime=0),\n",
       " FileInfo(path='dbfs:/FileStore/tables/activations.zip', name='activations.zip', size=8411369, modificationTime=1709675438000),\n",
       " FileInfo(path='dbfs:/FileStore/tables/chauffeur-daemon-params', name='chauffeur-daemon-params', size=22, modificationTime=1707325327000),\n",
       " FileInfo(path='dbfs:/FileStore/tables/clinicaltrial_2020/', name='clinicaltrial_2020/', size=0, modificationTime=0),\n",
       " FileInfo(path='dbfs:/FileStore/tables/clinicaltrial_2020.csv', name='clinicaltrial_2020.csv', size=46318151, modificationTime=1714574367000),\n",
       " FileInfo(path='dbfs:/FileStore/tables/clinicaltrial_2020.zip', name='clinicaltrial_2020.zip', size=10599182, modificationTime=1712110692000),\n",
       " FileInfo(path='dbfs:/FileStore/tables/clinicaltrial_2021.zip', name='clinicaltrial_2021.zip', size=11508457, modificationTime=1712110723000),\n",
       " FileInfo(path='dbfs:/FileStore/tables/clinicaltrial_2023/', name='clinicaltrial_2023/', size=0, modificationTime=0),\n",
       " FileInfo(path='dbfs:/FileStore/tables/clinicaltrial_2023.csv', name='clinicaltrial_2023.csv', size=292436366, modificationTime=1714549080000),\n",
       " FileInfo(path='dbfs:/FileStore/tables/clinicaltrial_2023.zip', name='clinicaltrial_2023.zip', size=57166668, modificationTime=1713220355000),\n",
       " FileInfo(path='dbfs:/FileStore/tables/clinicalview.csv/', name='clinicalview.csv/', size=0, modificationTime=0),\n",
       " FileInfo(path='dbfs:/FileStore/tables/count_month.csv/', name='count_month.csv/', size=0, modificationTime=0),\n",
       " FileInfo(path='dbfs:/FileStore/tables/driver-daemon.pid', name='driver-daemon.pid', size=4, modificationTime=1707325329000),\n",
       " FileInfo(path='dbfs:/FileStore/tables/flood.zip', name='flood.zip', size=52053, modificationTime=1708181421000),\n",
       " FileInfo(path='dbfs:/FileStore/tables/games.csv', name='games.csv', size=143639, modificationTime=1712120283000),\n",
       " FileInfo(path='dbfs:/FileStore/tables/hsperfdata_root/', name='hsperfdata_root/', size=0, modificationTime=0),\n",
       " FileInfo(path='dbfs:/FileStore/tables/iotstream/', name='iotstream/', size=0, modificationTime=0),\n",
       " FileInfo(path='dbfs:/FileStore/tables/iotstream.zip', name='iotstream.zip', size=43891, modificationTime=1708584150000),\n",
       " FileInfo(path='dbfs:/FileStore/tables/iotstream_1/', name='iotstream_1/', size=0, modificationTime=0),\n",
       " FileInfo(path='dbfs:/FileStore/tables/iotstreaming/', name='iotstreaming/', size=0, modificationTime=0),\n",
       " FileInfo(path='dbfs:/FileStore/tables/logs/', name='logs/', size=0, modificationTime=0),\n",
       " FileInfo(path='dbfs:/FileStore/tables/logs.zip', name='logs.zip', size=18168065, modificationTime=1709709866000),\n",
       " FileInfo(path='dbfs:/FileStore/tables/movies.csv', name='movies.csv', size=494431, modificationTime=1709743255000),\n",
       " FileInfo(path='dbfs:/FileStore/tables/myratings.csv', name='myratings.csv', size=10683, modificationTime=1709743255000),\n",
       " FileInfo(path='dbfs:/FileStore/tables/pharma/', name='pharma/', size=0, modificationTime=0),\n",
       " FileInfo(path='dbfs:/FileStore/tables/pharma.csv', name='pharma.csv', size=678999, modificationTime=1714574368000),\n",
       " FileInfo(path='dbfs:/FileStore/tables/pharma.zip', name='pharma.zip', size=109982, modificationTime=1713220274000),\n",
       " FileInfo(path='dbfs:/FileStore/tables/python_lsp_logs/', name='python_lsp_logs/', size=0, modificationTime=0),\n",
       " FileInfo(path='dbfs:/FileStore/tables/ratings.csv', name='ratings.csv', size=2483723, modificationTime=1709743256000),\n",
       " FileInfo(path='dbfs:/FileStore/tables/steam_200k.csv', name='steam_200k.csv', size=8059447, modificationTime=1714082522000),\n",
       " FileInfo(path='dbfs:/FileStore/tables/systemd-private-7cbace18303d4eb89105a177c26dbcdd-systemd-logind.service-yLt2MO/', name='systemd-private-7cbace18303d4eb89105a177c26dbcdd-systemd-logind.service-yLt2MO/', size=0, modificationTime=0),\n",
       " FileInfo(path='dbfs:/FileStore/tables/systemd-private-7cbace18303d4eb89105a177c26dbcdd-systemd-resolved.service-p3tk7j/', name='systemd-private-7cbace18303d4eb89105a177c26dbcdd-systemd-resolved.service-p3tk7j/', size=0, modificationTime=0),\n",
       " FileInfo(path='dbfs:/FileStore/tables/test.json', name='test.json', size=17958, modificationTime=1706114081000),\n",
       " FileInfo(path='dbfs:/FileStore/tables/webfolder/', name='webfolder/', size=0, modificationTime=0),\n",
       " FileInfo(path='dbfs:/FileStore/tables/webpage/', name='webpage/', size=0, modificationTime=0),\n",
       " FileInfo(path='dbfs:/FileStore/tables/webpage.zip', name='webpage.zip', size=1582, modificationTime=1707347302000),\n",
       " FileInfo(path='dbfs:/FileStore/tables/webpage_files_all/', name='webpage_files_all/', size=0, modificationTime=0),\n",
       " FileInfo(path='dbfs:/FileStore/tables/webpage_files_jpg/', name='webpage_files_jpg/', size=0, modificationTime=0)]"
      ]
     },
     "execution_count": 1,
     "metadata": {},
     "output_type": "execute_result"
    }
   ],
   "source": [
    "#check the file directory \n",
    "dbutils.fs.ls('/FileStore/tables/')"
   ]
  },
  {
   "cell_type": "markdown",
   "metadata": {
    "application/vnd.databricks.v1+cell": {
     "cellMetadata": {
      "byteLimit": 2048000,
      "rowLimit": 10000
     },
     "inputWidgets": {},
     "nuid": "66c66919-dd2e-44c8-b8b6-a092e0fa310f",
     "showTitle": false,
     "title": ""
    }
   },
   "source": [
    "##part 2: Prepare / clean the data for Dataframe implementation"
   ]
  },
  {
   "cell_type": "code",
   "execution_count": 0,
   "metadata": {
    "application/vnd.databricks.v1+cell": {
     "cellMetadata": {
      "byteLimit": 2048000,
      "rowLimit": 10000
     },
     "inputWidgets": {},
     "nuid": "badf98ff-430a-4f0a-b2c9-cf6fc8e160bd",
     "showTitle": false,
     "title": ""
    }
   },
   "outputs": [
    {
     "output_type": "execute_result",
     "data": {
      "text/plain": [
       "['Id\\tStudy Title\\tAcronym\\tStatus\\tConditions\\tInterventions\\tSponsor\\tCollaborators\\tEnrollment\\tFunder Type\\tType\\tStudy Design\\tStart\\tCompletion',\n",
       " \"NCT03630471\\tEffectiveness of a Problem-solving Intervention for Common Adolescent Mental Health Problems in India\\tPRIDE\\tCOMPLETED\\tMental Health Issue (E.G. Depression Psychosis Personality Disorder Substance Abuse)\\tBEHAVIORAL: PRIDE 'Step 1' problem-solving intervention|BEHAVIORAL: Enhanced usual care\\tSangath\\tHarvard Medical School (HMS and HSDM)|London School of Hygiene and Tropical Medicine\\t250.0\\tOTHER\\tINTERVENTIONAL\\tAllocation: RANDOMIZED|Intervention Model: PARALLEL|Masking: DOUBLE (INVESTIGATOR OUTCOMES_ASSESSOR)|Primary Purpose: TREATMENT\\t2018-08-20\\t2019-02-28\"]"
      ]
     },
     "execution_count": 2,
     "metadata": {},
     "output_type": "execute_result"
    }
   ],
   "source": [
    "#create an RDD \n",
    "myrdd = sc.textFile('/FileStore/tables/clinicaltrial_2023.csv')\n",
    "\n",
    "#use lambda function to remove excess punctuation \n",
    "myrdd2 = myrdd.map(lambda row: row.replace(',', '').replace('\"', ''))\n",
    "\n",
    "#return the first two elements of myrdd2\n",
    "myrdd2.take(2)"
   ]
  },
  {
   "cell_type": "code",
   "execution_count": 0,
   "metadata": {
    "application/vnd.databricks.v1+cell": {
     "cellMetadata": {
      "byteLimit": 2048000,
      "rowLimit": 10000
     },
     "inputWidgets": {},
     "nuid": "6c433a00-5769-4b94-8fd6-a74281d66f5c",
     "showTitle": false,
     "title": ""
    }
   },
   "outputs": [
    {
     "output_type": "execute_result",
     "data": {
      "text/plain": [
       "[['Id',\n",
       "  'Study Title',\n",
       "  'Acronym',\n",
       "  'Status',\n",
       "  'Conditions',\n",
       "  'Interventions',\n",
       "  'Sponsor',\n",
       "  'Collaborators',\n",
       "  'Enrollment',\n",
       "  'Funder Type',\n",
       "  'Type',\n",
       "  'Study Design',\n",
       "  'Start',\n",
       "  'Completion'],\n",
       " ['NCT03630471',\n",
       "  'Effectiveness of a Problem-solving Intervention for Common Adolescent Mental Health Problems in India',\n",
       "  'PRIDE',\n",
       "  'COMPLETED',\n",
       "  'Mental Health Issue (E.G. Depression Psychosis Personality Disorder Substance Abuse)',\n",
       "  \"BEHAVIORAL: PRIDE 'Step 1' problem-solving intervention|BEHAVIORAL: Enhanced usual care\",\n",
       "  'Sangath',\n",
       "  'Harvard Medical School (HMS and HSDM)|London School of Hygiene and Tropical Medicine',\n",
       "  '250.0',\n",
       "  'OTHER',\n",
       "  'INTERVENTIONAL',\n",
       "  'Allocation: RANDOMIZED|Intervention Model: PARALLEL|Masking: DOUBLE (INVESTIGATOR OUTCOMES_ASSESSOR)|Primary Purpose: TREATMENT',\n",
       "  '2018-08-20',\n",
       "  '2019-02-28'],\n",
       " ['NCT05992571',\n",
       "  'Oral Ketone Monoester Supplementation and Resting-state Brain Connectivity',\n",
       "  '',\n",
       "  'RECRUITING',\n",
       "  'Cerebrovascular Function|Cognition',\n",
       "  'OTHER: Placebo|DIETARY_SUPPLEMENT: β-OHB',\n",
       "  'McMaster University',\n",
       "  \"Alzheimer's Society of Brant Haldimand Norfolk Hamilton Halton\",\n",
       "  '30.0',\n",
       "  'OTHER',\n",
       "  'INTERVENTIONAL',\n",
       "  'Allocation: RANDOMIZED|Intervention Model: CROSSOVER|Masking: TRIPLE (PARTICIPANT INVESTIGATOR OUTCOMES_ASSESSOR)|Primary Purpose: BASIC_SCIENCE',\n",
       "  '2023-10-25',\n",
       "  '2024-08']]"
      ]
     },
     "execution_count": 3,
     "metadata": {},
     "output_type": "execute_result"
    }
   ],
   "source": [
    "#split the file base on \\t delimeter\n",
    "myrdd3 = myrdd2.map(lambda x: x.split('\\t'))\n",
    "myrdd3.take(3)"
   ]
  },
  {
   "cell_type": "code",
   "execution_count": 0,
   "metadata": {
    "application/vnd.databricks.v1+cell": {
     "cellMetadata": {
      "byteLimit": 2048000,
      "rowLimit": 10000
     },
     "inputWidgets": {},
     "nuid": "d06e1081-aae0-4073-9f0e-cef80c28221c",
     "showTitle": false,
     "title": ""
    }
   },
   "outputs": [],
   "source": [
    "#Create a user define function \n",
    "def filter_row_length(row, column_length):     \n",
    "    #return true if length of rows matches length of column header, else return false \n",
    "    match_length = len(row) == column_length \n",
    "    return match_length\n",
    "\n",
    "#count the length of column header\n",
    "myrdd3_header = len(myrdd3.first())\n",
    "\n",
    "#Filter rows in myrdd3 base on length of rows equals MYRRD\n",
    "myrdd4 = myrdd3.filter(lambda row: filter_row_length(row, myrdd3_header))"
   ]
  },
  {
   "cell_type": "code",
   "execution_count": 0,
   "metadata": {
    "application/vnd.databricks.v1+cell": {
     "cellMetadata": {
      "byteLimit": 2048000,
      "rowLimit": 10000
     },
     "inputWidgets": {},
     "nuid": "984f681f-fbca-4fce-8caf-13d7469a30b7",
     "showTitle": false,
     "title": ""
    }
   },
   "outputs": [
    {
     "output_type": "stream",
     "name": "stdout",
     "output_type": "stream",
     "text": [
      "+-----------+--------------------+---------+----------+--------------------+--------------------+--------------------+--------------------+----------+-----------+--------------+--------------------+----------+----------+\n|         _1|                  _2|       _3|        _4|                  _5|                  _6|                  _7|                  _8|        _9|        _10|           _11|                 _12|       _13|       _14|\n+-----------+--------------------+---------+----------+--------------------+--------------------+--------------------+--------------------+----------+-----------+--------------+--------------------+----------+----------+\n|         Id|         Study Title|  Acronym|    Status|          Conditions|       Interventions|             Sponsor|       Collaborators|Enrollment|Funder Type|          Type|        Study Design|     Start|Completion|\n|NCT03630471|Effectiveness of ...|    PRIDE| COMPLETED|Mental Health Iss...|BEHAVIORAL: PRIDE...|             Sangath|Harvard Medical S...|     250.0|      OTHER|INTERVENTIONAL|Allocation: RANDO...|2018-08-20|2019-02-28|\n|NCT05992571|Oral Ketone Monoe...|         |RECRUITING|Cerebrovascular F...|OTHER: Placebo|DI...| McMaster University|Alzheimer's Socie...|      30.0|      OTHER|INTERVENTIONAL|Allocation: RANDO...|2023-10-25|   2024-08|\n|NCT00237471|Impact of Tight G...|         |TERMINATED|Myocardial Infarc...|DRUG: Insulin (ti...|    Melbourne Health|National Health a...|      40.0|      OTHER|INTERVENTIONAL|Allocation: RANDO...|   2005-10|   2006-05|\n|NCT03820271|New Prognostic Pr...|SUPERMELD|RECRUITING|Decompensated Cir...|    OTHER: SuperMELD|Assistance Publiq...|                    |     500.0|      OTHER|INTERVENTIONAL|Allocation: NA|In...|2020-10-01|2023-10-01|\n+-----------+--------------------+---------+----------+--------------------+--------------------+--------------------+--------------------+----------+-----------+--------------+--------------------+----------+----------+\nonly showing top 5 rows\n\n"
     ]
    }
   ],
   "source": [
    "#converting rdd to dataframe using toDF method \n",
    "df = myrdd4.toDF()\n",
    "df.show(5)"
   ]
  },
  {
   "cell_type": "code",
   "execution_count": 0,
   "metadata": {
    "application/vnd.databricks.v1+cell": {
     "cellMetadata": {
      "byteLimit": 2048000,
      "rowLimit": 10000
     },
     "inputWidgets": {},
     "nuid": "91f1943b-24a8-4aab-81af-28fcbdafb2c0",
     "showTitle": false,
     "title": ""
    }
   },
   "outputs": [
    {
     "output_type": "stream",
     "name": "stdout",
     "output_type": "stream",
     "text": [
      "+-----------+--------------------+---------+----------+--------------------+--------------------+--------------------+--------------------+----------+-----------+--------------+--------------------+----------+----------+\n|         Id|         Study_Title|  Acronym|    Status|          Conditions|       Interventions|             Sponsor|       Collaborators|Enrollment|Funder_Type|          Type|        Study_Design|     Start|Completion|\n+-----------+--------------------+---------+----------+--------------------+--------------------+--------------------+--------------------+----------+-----------+--------------+--------------------+----------+----------+\n|         Id|         Study Title|  Acronym|    Status|          Conditions|       Interventions|             Sponsor|       Collaborators|Enrollment|Funder Type|          Type|        Study Design|     Start|Completion|\n|NCT03630471|Effectiveness of ...|    PRIDE| COMPLETED|Mental Health Iss...|BEHAVIORAL: PRIDE...|             Sangath|Harvard Medical S...|     250.0|      OTHER|INTERVENTIONAL|Allocation: RANDO...|2018-08-20|2019-02-28|\n|NCT05992571|Oral Ketone Monoe...|         |RECRUITING|Cerebrovascular F...|OTHER: Placebo|DI...| McMaster University|Alzheimer's Socie...|      30.0|      OTHER|INTERVENTIONAL|Allocation: RANDO...|2023-10-25|   2024-08|\n|NCT00237471|Impact of Tight G...|         |TERMINATED|Myocardial Infarc...|DRUG: Insulin (ti...|    Melbourne Health|National Health a...|      40.0|      OTHER|INTERVENTIONAL|Allocation: RANDO...|   2005-10|   2006-05|\n|NCT03820271|New Prognostic Pr...|SUPERMELD|RECRUITING|Decompensated Cir...|    OTHER: SuperMELD|Assistance Publiq...|                    |     500.0|      OTHER|INTERVENTIONAL|Allocation: NA|In...|2020-10-01|2023-10-01|\n+-----------+--------------------+---------+----------+--------------------+--------------------+--------------------+--------------------+----------+-----------+--------------+--------------------+----------+----------+\nonly showing top 5 rows\n\n"
     ]
    }
   ],
   "source": [
    "# Renaming the columns\n",
    "df1 = df.withColumnRenamed('_1', 'Id') \\\n",
    "    .withColumnRenamed('_2', 'Study_Title') \\\n",
    "    .withColumnRenamed('_3', 'Acronym') \\\n",
    "    .withColumnRenamed('_4', 'Status') \\\n",
    "    .withColumnRenamed('_5', 'Conditions') \\\n",
    "    .withColumnRenamed('_6', 'Interventions') \\\n",
    "    .withColumnRenamed('_7', 'Sponsor') \\\n",
    "    .withColumnRenamed('_8', 'Collaborators') \\\n",
    "    .withColumnRenamed('_9', 'Enrollment') \\\n",
    "    .withColumnRenamed('_10', 'Funder_Type') \\\n",
    "    .withColumnRenamed('_11', 'Type') \\\n",
    "    .withColumnRenamed('_12', 'Study_Design') \\\n",
    "    .withColumnRenamed('_13', 'Start') \\\n",
    "    .withColumnRenamed('_14', 'Completion')\n",
    "\n",
    "# Show the DataFrame\n",
    "df1.show(5)\n",
    "\n"
   ]
  },
  {
   "cell_type": "code",
   "execution_count": 0,
   "metadata": {
    "application/vnd.databricks.v1+cell": {
     "cellMetadata": {
      "byteLimit": 2048000,
      "rowLimit": 10000
     },
     "inputWidgets": {},
     "nuid": "6c91a0d2-2cfe-49ab-a229-7b900d7443f5",
     "showTitle": false,
     "title": ""
    }
   },
   "outputs": [
    {
     "output_type": "stream",
     "name": "stdout",
     "output_type": "stream",
     "text": [
      "+--------------------+----------+--------------------+--------------------+--------------+----------+\n|         Study_Title|    Status|          Conditions|             Sponsor|          Type|Completion|\n+--------------------+----------+--------------------+--------------------+--------------+----------+\n|         Study Title|    Status|          Conditions|             Sponsor|          Type|Completion|\n|Effectiveness of ...| COMPLETED|Mental Health Iss...|             Sangath|INTERVENTIONAL|2019-02-28|\n|Oral Ketone Monoe...|RECRUITING|Cerebrovascular F...| McMaster University|INTERVENTIONAL|   2024-08|\n|Impact of Tight G...|TERMINATED|Myocardial Infarc...|    Melbourne Health|INTERVENTIONAL|   2006-05|\n|New Prognostic Pr...|RECRUITING|Decompensated Cir...|Assistance Publiq...|INTERVENTIONAL|2023-10-01|\n+--------------------+----------+--------------------+--------------------+--------------+----------+\nonly showing top 5 rows\n\n"
     ]
    }
   ],
   "source": [
    "#selecting specific columns for analysis\n",
    "from pyspark.sql.functions import col \n",
    "df2 = df1.select('Study_Title', 'Status', 'Conditions', 'Sponsor', 'Type', 'Completion') \n",
    "df2.show(5)"
   ]
  },
  {
   "cell_type": "code",
   "execution_count": 0,
   "metadata": {
    "application/vnd.databricks.v1+cell": {
     "cellMetadata": {
      "byteLimit": 2048000,
      "rowLimit": 10000
     },
     "inputWidgets": {},
     "nuid": "b2717159-6b25-4db8-aec2-7e6e2bf56c0f",
     "showTitle": false,
     "title": ""
    }
   },
   "outputs": [
    {
     "output_type": "stream",
     "name": "stdout",
     "output_type": "stream",
     "text": [
      "+--------------------+------------------+--------------------+--------------------+--------------+----------+\n|         Study_Title|            Status|          Conditions|             Sponsor|          Type|Completion|\n+--------------------+------------------+--------------------+--------------------+--------------+----------+\n|Effectiveness of ...|         COMPLETED|Mental Health Iss...|             Sangath|INTERVENTIONAL|2019-02-28|\n|Oral Ketone Monoe...|        RECRUITING|Cerebrovascular F...| McMaster University|INTERVENTIONAL|   2024-08|\n|Impact of Tight G...|        TERMINATED|Myocardial Infarc...|    Melbourne Health|INTERVENTIONAL|   2006-05|\n|New Prognostic Pr...|        RECRUITING|Decompensated Cir...|Assistance Publiq...|INTERVENTIONAL|2023-10-01|\n|InTake Care: Deve...|NOT_YET_RECRUITING|Hypertension|Trea...|Istituto Auxologi...|INTERVENTIONAL|2026-04-01|\n+--------------------+------------------+--------------------+--------------------+--------------+----------+\nonly showing top 5 rows\n\n"
     ]
    }
   ],
   "source": [
    "# apply filter function to remove one of the header \n",
    "df3 = df2.filter(col('Study_Title') != 'Study Title')\n",
    "df3.show(5)"
   ]
  },
  {
   "cell_type": "markdown",
   "metadata": {
    "application/vnd.databricks.v1+cell": {
     "cellMetadata": {
      "byteLimit": 2048000,
      "rowLimit": 10000
     },
     "inputWidgets": {},
     "nuid": "f0b3914a-fe52-4a4c-8374-d21348e8150e",
     "showTitle": false,
     "title": ""
    }
   },
   "source": [
    "#Part 3: Analyse the Data"
   ]
  },
  {
   "cell_type": "markdown",
   "metadata": {
    "application/vnd.databricks.v1+cell": {
     "cellMetadata": {
      "byteLimit": 2048000,
      "rowLimit": 10000
     },
     "inputWidgets": {},
     "nuid": "59d3b7e9-2cce-471d-ad54-cd6b149711c4",
     "showTitle": false,
     "title": ""
    }
   },
   "source": [
    "###Question 1: The number of studies in the dataset. You must ensure that you explicitly check distinct studies"
   ]
  },
  {
   "cell_type": "code",
   "execution_count": 0,
   "metadata": {
    "application/vnd.databricks.v1+cell": {
     "cellMetadata": {
      "byteLimit": 2048000,
      "rowLimit": 10000
     },
     "inputWidgets": {},
     "nuid": "b564ede9-7c35-4649-82a7-5fe1a796f79c",
     "showTitle": false,
     "title": ""
    }
   },
   "outputs": [
    {
     "output_type": "stream",
     "name": "stdout",
     "output_type": "stream",
     "text": [
      "The Number of didtinct studies is: 481083\n"
     ]
    }
   ],
   "source": [
    "#select Study_Title from the Df3 and apply distinct and count methods\n",
    "distinct_studies = df3.select('Study_Title').distinct().count()\n",
    "print(f'The Number of didtinct studies is: {distinct_studies}')"
   ]
  },
  {
   "cell_type": "markdown",
   "metadata": {
    "application/vnd.databricks.v1+cell": {
     "cellMetadata": {
      "byteLimit": 2048000,
      "rowLimit": 10000
     },
     "inputWidgets": {},
     "nuid": "38c65f9b-4a84-4592-a406-69ba4d5781ad",
     "showTitle": false,
     "title": ""
    }
   },
   "source": [
    "###Question 2: You should list all the types (as contained in the Type column) of studies in the dataset along with the frequencies of each type. These should be ordered from most frequent to least frequent."
   ]
  },
  {
   "cell_type": "code",
   "execution_count": 0,
   "metadata": {
    "application/vnd.databricks.v1+cell": {
     "cellMetadata": {
      "byteLimit": 2048000,
      "rowLimit": 10000
     },
     "inputWidgets": {},
     "nuid": "4a4e2a9f-0654-45f4-9ae1-cf19a301255d",
     "showTitle": false,
     "title": ""
    }
   },
   "outputs": [
    {
     "output_type": "stream",
     "name": "stdout",
     "output_type": "stream",
     "text": [
      "+---------------+------+\n|           Type| count|\n+---------------+------+\n| INTERVENTIONAL|371382|\n|  OBSERVATIONAL|110221|\n|EXPANDED_ACCESS|   928|\n|               |   889|\n+---------------+------+\n\n"
     ]
    }
   ],
   "source": [
    "# import pyspark functions in order to execute the code\n",
    "from pyspark.sql.functions import *\n",
    "type_df = df3.groupBy('Type').count() \\\n",
    "    .orderBy(desc('count'))\n",
    "\n",
    "#show dataframe\n",
    "type_df.show()"
   ]
  },
  {
   "cell_type": "code",
   "execution_count": 0,
   "metadata": {
    "application/vnd.databricks.v1+cell": {
     "cellMetadata": {
      "byteLimit": 2048000,
      "rowLimit": 10000
     },
     "inputWidgets": {},
     "nuid": "f3115bb8-a28f-4038-a806-420a985b5432",
     "showTitle": false,
     "title": ""
    }
   },
   "outputs": [
    {
     "output_type": "stream",
     "name": "stdout",
     "output_type": "stream",
     "text": [
      "+---------------+------+\n|           Type| count|\n+---------------+------+\n| INTERVENTIONAL|371382|\n|  OBSERVATIONAL|110221|\n|EXPANDED_ACCESS|   928|\n+---------------+------+\n\n"
     ]
    }
   ],
   "source": [
    "#Import col and trim functions from pyspark\n",
    "from pyspark.sql.functions import col, trim\n",
    "\n",
    "#Filter rows from the Type column where the value is not NULL and is not an empty string\n",
    "filtertype_df = type_df.filter((col('Type').isNotNull()) & (trim(col('Type')) != ''))\n",
    "\n",
    "#Show the resulting DataFrame\n",
    "filtertype_df.show()\n"
   ]
  },
  {
   "cell_type": "markdown",
   "metadata": {
    "application/vnd.databricks.v1+cell": {
     "cellMetadata": {
      "byteLimit": 2048000,
      "rowLimit": 10000
     },
     "inputWidgets": {},
     "nuid": "96f44e69-cc5b-4b35-90ea-3b9a34aef5ee",
     "showTitle": false,
     "title": ""
    }
   },
   "source": [
    "###Question 3: The top 5 conditions (from Conditions) with their frequencies.\n"
   ]
  },
  {
   "cell_type": "code",
   "execution_count": 0,
   "metadata": {
    "application/vnd.databricks.v1+cell": {
     "cellMetadata": {
      "byteLimit": 2048000,
      "rowLimit": 10000
     },
     "inputWidgets": {},
     "nuid": "842e7a3a-a626-4f27-b0c3-1baec7fbdcde",
     "showTitle": false,
     "title": ""
    }
   },
   "outputs": [
    {
     "output_type": "execute_result",
     "data": {
      "text/plain": [
       "['Conditions',\n",
       " 'Mental Health Issue (E.G. Depression Psychosis Personality Disorder Substance Abuse)']"
      ]
     },
     "execution_count": 12,
     "metadata": {},
     "output_type": "execute_result"
    }
   ],
   "source": [
    "#Extract the fourth indecx from rdd2\n",
    "rdd2 = myrdd4.map(lambda row: row[4]) \n",
    "rdd2.take(2)"
   ]
  },
  {
   "cell_type": "code",
   "execution_count": 0,
   "metadata": {
    "application/vnd.databricks.v1+cell": {
     "cellMetadata": {
      "byteLimit": 2048000,
      "rowLimit": 10000
     },
     "inputWidgets": {},
     "nuid": "e68f018e-484e-4dc9-a10f-4353a1a15ba5",
     "showTitle": false,
     "title": ""
    }
   },
   "outputs": [
    {
     "output_type": "execute_result",
     "data": {
      "text/plain": [
       "['Mental Health Issue (E.G. Depression Psychosis Personality Disorder Substance Abuse)',\n",
       " 'Cerebrovascular Function',\n",
       " 'Cognition',\n",
       " 'Myocardial Infarct']"
      ]
     },
     "execution_count": 13,
     "metadata": {},
     "output_type": "execute_result"
    }
   ],
   "source": [
    "#Remove header and apply flatMap transformation to flatten rdd2\n",
    "condition_header = rdd2.first()\n",
    "rdd3 = rdd2.filter(lambda x: x!=condition_header).flatMap(lambda x: x.split('|'))\n",
    "rdd3.take(4) \n"
   ]
  },
  {
   "cell_type": "code",
   "execution_count": 0,
   "metadata": {
    "application/vnd.databricks.v1+cell": {
     "cellMetadata": {
      "byteLimit": 2048000,
      "rowLimit": 10000
     },
     "inputWidgets": {},
     "nuid": "4159495e-c9c4-408d-9635-c1173cfaf095",
     "showTitle": false,
     "title": ""
    }
   },
   "outputs": [
    {
     "output_type": "stream",
     "name": "stdout",
     "output_type": "stream",
     "text": [
      "+--------------------+\n|          Conditions|\n+--------------------+\n|Mental Health Iss...|\n|Cerebrovascular F...|\n|           Cognition|\n|  Myocardial Infarct|\n|       Hyperglycemia|\n+--------------------+\nonly showing top 5 rows\n\n"
     ]
    }
   ],
   "source": [
    "#Import Row from pyspark \n",
    "from pyspark import Row\n",
    "\n",
    "#Map each element in rdd3 as a row-object\n",
    "condition_rows = rdd3.map(lambda row: Row(Conditions=row))\n",
    "\n",
    "#Convert condition_rows into a dataframe\n",
    "rdd_df = spark.createDataFrame(condition_rows)\n",
    "\n",
    "#show 5 rows of rdd_df\n",
    "rdd_df.show(5)\n"
   ]
  },
  {
   "cell_type": "code",
   "execution_count": 0,
   "metadata": {
    "application/vnd.databricks.v1+cell": {
     "cellMetadata": {
      "byteLimit": 2048000,
      "rowLimit": 10000
     },
     "inputWidgets": {},
     "nuid": "43b8b806-46a8-4eee-9dfd-e5f2499f304f",
     "showTitle": false,
     "title": ""
    }
   },
   "outputs": [
    {
     "output_type": "stream",
     "name": "stdout",
     "output_type": "stream",
     "text": [
      "+-------------+-----+\n|   Conditions|count|\n+-------------+-----+\n|      Healthy| 9731|\n|Breast Cancer| 7502|\n|      Obesity| 6549|\n|       Stroke| 4073|\n| Hypertension| 4024|\n+-------------+-----+\n\n"
     ]
    }
   ],
   "source": [
    "#count the top 5 Conditions in descending order\n",
    "condition_df = rdd_df.groupBy('Conditions') \\\n",
    ".count().orderBy(desc('count')).limit(5) \n",
    "condition_df.show()"
   ]
  },
  {
   "cell_type": "markdown",
   "metadata": {
    "application/vnd.databricks.v1+cell": {
     "cellMetadata": {
      "byteLimit": 2048000,
      "rowLimit": 10000
     },
     "inputWidgets": {},
     "nuid": "5cb1b0a5-ded8-4b4c-8d15-2ee1c16ed089",
     "showTitle": false,
     "title": ""
    }
   },
   "source": [
    "###Question 4: Find the 10 most common sponsors that are not pharmaceutical companies, along with the number of clinical trials they have sponsored. Hint: For a basic implementation, you can assume that the Parent Company column contains all possible pharmaceutical companies.\n"
   ]
  },
  {
   "cell_type": "code",
   "execution_count": 0,
   "metadata": {
    "application/vnd.databricks.v1+cell": {
     "cellMetadata": {
      "byteLimit": 2048000,
      "rowLimit": 10000
     },
     "inputWidgets": {},
     "nuid": "7030a752-257c-410d-af23-830df25148af",
     "showTitle": false,
     "title": ""
    }
   },
   "outputs": [
    {
     "output_type": "execute_result",
     "data": {
      "text/plain": [
       "['\"Company\",\"Parent_Company\",\"Penalty_Amount\",\"Subtraction_From_Penalty\",\"Penalty_Amount_Adjusted_For_Eliminating_Multiple_Counting\",\"Penalty_Year\",\"Penalty_Date\",\"Offense_Group\",\"Primary_Offense\",\"Secondary_Offense\",\"Description\",\"Level_of_Government\",\"Action_Type\",\"Agency\",\"Civil/Criminal\",\"Prosecution_Agreement\",\"Court\",\"Case_ID\",\"Private_Litigation_Case_Title\",\"Lawsuit_Resolution\",\"Facility_State\",\"City\",\"Address\",\"Zip\",\"NAICS_Code\",\"NAICS_Translation\",\"HQ_Country_of_Parent\",\"HQ_State_of_Parent\",\"Ownership_Structure\",\"Parent_Company_Stock_Ticker\",\"Major_Industry_of_Parent\",\"Specific_Industry_of_Parent\",\"Info_Source\",\"Notes\"',\n",
       " '\"Abbott Laboratories\",\"Abbott Laboratories\",\"$5,475,000\",\"$0\",\"$5,475,000\",\"2013\",\"20131227\",\"government-contracting-related offenses\",\"False Claims Act and related\",\"kickbacks and bribery\",\"Abbott Laboratories agreed to $5.475 million to resolve allegations that it violated the False Claims Act by paying kickbacks to induce doctors to implant the company\\'s carotid, biliary and peripheral vascular products.\",\"federal\",\"agency action\",\"Justice Department Civil Division\",\"civil\",\"\",\"\",\"\",\"\",\"\",\"\",\"\",\"\",\"\",\"\",\"\",\"USA\",\"Illinois\",\"publicly traded\",\"ABT\",\"pharmaceuticals\",\"pharmaceuticals\",\"https://www.justice.gov/opa/pr/abbott-laboratories-pays-us-5475-million-settle-claims-company-paid-kickbacks-physicians\",\"\"']"
      ]
     },
     "execution_count": 16,
     "metadata": {},
     "output_type": "execute_result"
    }
   ],
   "source": [
    "#Create an RDD from the pharma csv file\n",
    "pharmrdd = sc.textFile('/FileStore/tables/pharma.csv')\n",
    "pharmrdd.take(2)"
   ]
  },
  {
   "cell_type": "code",
   "execution_count": 0,
   "metadata": {
    "application/vnd.databricks.v1+cell": {
     "cellMetadata": {
      "byteLimit": 2048000,
      "rowLimit": 10000
     },
     "inputWidgets": {},
     "nuid": "35a47de6-45c9-4270-be95-1d32d7d5e27b",
     "showTitle": false,
     "title": ""
    }
   },
   "outputs": [
    {
     "output_type": "stream",
     "name": "stdout",
     "output_type": "stream",
     "text": [
      "+--------------------+-------------------+--------------+------------------------+---------------------------------------------------------+------------+------------+--------------------+--------------------+--------------------+--------------------+-------------------+-------------+--------------------+------------------+---------------------+-----+-------+-----------------------------+------------------+--------------+----+-------+----+----------+-----------------+--------------------+------------------+-------------------+---------------------------+------------------------+---------------------------+--------------------+-----+\n|             Company|     Parent_Company|Penalty_Amount|Subtraction_From_Penalty|Penalty_Amount_Adjusted_For_Eliminating_Multiple_Counting|Penalty_Year|Penalty_Date|       Offense_Group|     Primary_Offense|   Secondary_Offense|         Description|Level_of_Government|  Action_Type|              Agency|    Civil/Criminal|Prosecution_Agreement|Court|Case_ID|Private_Litigation_Case_Title|Lawsuit_Resolution|Facility_State|City|Address| Zip|NAICS_Code|NAICS_Translation|HQ_Country_of_Parent|HQ_State_of_Parent|Ownership_Structure|Parent_Company_Stock_Ticker|Major_Industry_of_Parent|Specific_Industry_of_Parent|         Info_Source|Notes|\n+--------------------+-------------------+--------------+------------------------+---------------------------------------------------------+------------+------------+--------------------+--------------------+--------------------+--------------------+-------------------+-------------+--------------------+------------------+---------------------+-----+-------+-----------------------------+------------------+--------------+----+-------+----+----------+-----------------+--------------------+------------------+-------------------+---------------------------+------------------------+---------------------------+--------------------+-----+\n| Abbott Laboratories|Abbott Laboratories|    $5,475,000|                      $0|                                               $5,475,000|        2013|    20131227|government-contra...|False Claims Act ...|kickbacks and bri...|Abbott Laboratori...|            federal|agency action|Justice Departmen...|             civil|                 NULL| NULL|   NULL|                         NULL|              NULL|          NULL|NULL|   NULL|NULL|      NULL|             NULL|                 USA|          Illinois|    publicly traded|                        ABT|         pharmaceuticals|            pharmaceuticals|https://www.justi...| NULL|\n|Abbott Laboratori...|             AbbVie|$1,500,000,000|                      $0|                                           $1,500,000,000|        2012|    20120507|healthcare-relate...|off-label or unap...|                NULL|Global Health Car...|            federal|agency action|Food and Drug Adm...|civil and criminal|                 NULL| NULL|   NULL|                         NULL|              NULL|          NULL|NULL|   NULL|NULL|      NULL|             NULL|                 USA|          Illinois|    publicly traded|                       ABBV|         pharmaceuticals|            pharmaceuticals|http://www.justic...| NULL|\n+--------------------+-------------------+--------------+------------------------+---------------------------------------------------------+------------+------------+--------------------+--------------------+--------------------+--------------------+-------------------+-------------+--------------------+------------------+---------------------+-----+-------+-----------------------------+------------------+--------------+----+-------+----+----------+-----------------+--------------------+------------------+-------------------+---------------------------+------------------------+---------------------------+--------------------+-----+\nonly showing top 2 rows\n\n"
     ]
    }
   ],
   "source": [
    "#Create a dataframe using spark.read.csv method\n",
    "df_pharm = spark.read.csv(\n",
    "    path=pharmrdd,\n",
    "    sep=',',\n",
    "    header=True, \n",
    "    inferSchema=True,           \n",
    ")\n",
    "\n",
    "#Show the first five rows\n",
    "df_pharm.show(2)"
   ]
  },
  {
   "cell_type": "code",
   "execution_count": 0,
   "metadata": {
    "application/vnd.databricks.v1+cell": {
     "cellMetadata": {
      "byteLimit": 2048000,
      "rowLimit": 10000
     },
     "inputWidgets": {},
     "nuid": "ef6a3201-4e4f-47e9-ab8f-5dee92602db3",
     "showTitle": false,
     "title": ""
    }
   },
   "outputs": [
    {
     "output_type": "stream",
     "name": "stdout",
     "output_type": "stream",
     "text": [
      "+--------------------+\n|             Sponsor|\n+--------------------+\n|             Sangath|\n| McMaster University|\n|    Melbourne Health|\n|Assistance Publiq...|\n|Istituto Auxologi...|\n+--------------------+\nonly showing top 5 rows\n\n"
     ]
    }
   ],
   "source": [
    "#Select Sponosr column \n",
    "sponsordf = df3.select('Sponsor')\n",
    "sponsordf.show(5)"
   ]
  },
  {
   "cell_type": "code",
   "execution_count": 0,
   "metadata": {
    "application/vnd.databricks.v1+cell": {
     "cellMetadata": {
      "byteLimit": 2048000,
      "rowLimit": 10000
     },
     "inputWidgets": {},
     "nuid": "6b4c7694-a928-4005-bfc9-be3214949f32",
     "showTitle": false,
     "title": ""
    }
   },
   "outputs": [
    {
     "output_type": "stream",
     "name": "stdout",
     "output_type": "stream",
     "text": [
      "+--------------------+-------------------+--------------+------------------------+---------------------------------------------------------+------------+------------+--------------------+--------------------+--------------------+--------------------+-------------------+-------------+--------------------+------------------+---------------------+-----+-------+-----------------------------+------------------+--------------+----+-------+----+----------+-----------------+--------------------+------------------+-------------------+---------------------------+------------------------+---------------------------+--------------------+-----+\n|             Company|     Parent_Company|Penalty_Amount|Subtraction_From_Penalty|Penalty_Amount_Adjusted_For_Eliminating_Multiple_Counting|Penalty_Year|Penalty_Date|       Offense_Group|     Primary_Offense|   Secondary_Offense|         Description|Level_of_Government|  Action_Type|              Agency|    Civil/Criminal|Prosecution_Agreement|Court|Case_ID|Private_Litigation_Case_Title|Lawsuit_Resolution|Facility_State|City|Address| Zip|NAICS_Code|NAICS_Translation|HQ_Country_of_Parent|HQ_State_of_Parent|Ownership_Structure|Parent_Company_Stock_Ticker|Major_Industry_of_Parent|Specific_Industry_of_Parent|         Info_Source|Notes|\n+--------------------+-------------------+--------------+------------------------+---------------------------------------------------------+------------+------------+--------------------+--------------------+--------------------+--------------------+-------------------+-------------+--------------------+------------------+---------------------+-----+-------+-----------------------------+------------------+--------------+----+-------+----+----------+-----------------+--------------------+------------------+-------------------+---------------------------+------------------------+---------------------------+--------------------+-----+\n|Abbott Laboratori...|             AbbVie|$1,500,000,000|                      $0|                                           $1,500,000,000|        2012|    20120507|healthcare-relate...|off-label or unap...|                NULL|Global Health Car...|            federal|agency action|Food and Drug Adm...|civil and criminal|                 NULL| NULL|   NULL|                         NULL|              NULL|          NULL|NULL|   NULL|NULL|      NULL|             NULL|                 USA|          Illinois|    publicly traded|                       ABBV|         pharmaceuticals|            pharmaceuticals|http://www.justic...| NULL|\n|Abbott Laboratori...|             AbbVie|  $126,500,000|                      $0|                                             $126,500,000|        2010|    20101207|government-contra...|False Claims Act ...|                NULL|Abbott Laboratori...|            federal|agency action|Justice Departmen...|             civil|                 NULL| NULL|   NULL|                         NULL|              NULL|          NULL|NULL|   NULL|NULL|      NULL|             NULL|                 USA|          Illinois|    publicly traded|                       ABBV|         pharmaceuticals|            pharmaceuticals|https://www.justi...| NULL|\n| Abbott Laboratories|Abbott Laboratories|    $5,475,000|                      $0|                                               $5,475,000|        2013|    20131227|government-contra...|False Claims Act ...|kickbacks and bri...|Abbott Laboratori...|            federal|agency action|Justice Departmen...|             civil|                 NULL| NULL|   NULL|                         NULL|              NULL|          NULL|NULL|   NULL|NULL|      NULL|             NULL|                 USA|          Illinois|    publicly traded|                        ABT|         pharmaceuticals|            pharmaceuticals|https://www.justi...| NULL|\n+--------------------+-------------------+--------------+------------------------+---------------------------------------------------------+------------+------------+--------------------+--------------------+--------------------+--------------------+-------------------+-------------+--------------------+------------------+---------------------+-----+-------+-----------------------------+------------------+--------------+----+-------+----+----------+-----------------+--------------------+------------------+-------------------+---------------------------+------------------------+---------------------------+--------------------+-----+\nonly showing top 3 rows\n\n"
     ]
    }
   ],
   "source": [
    "#Select unique rows and return the first 3 rows\n",
    "df_pharm2 = df_pharm.distinct() \n",
    "df_pharm2.show(3)"
   ]
  },
  {
   "cell_type": "code",
   "execution_count": 0,
   "metadata": {
    "application/vnd.databricks.v1+cell": {
     "cellMetadata": {
      "byteLimit": 2048000,
      "rowLimit": 10000
     },
     "inputWidgets": {},
     "nuid": "4f287b86-f013-4de8-afae-a53dbe17f853",
     "showTitle": false,
     "title": ""
    }
   },
   "outputs": [
    {
     "output_type": "stream",
     "name": "stdout",
     "output_type": "stream",
     "text": [
      "+--------------------+-----+\n|             sponsor|count|\n+--------------------+-----+\n|National Cancer I...| 3410|\n|   Assiut University| 3335|\n|    Cairo University| 3023|\n|Assistance Publiq...| 2951|\n|         Mayo Clinic| 2766|\n|M.D. Anderson Can...| 2702|\n|Novartis Pharmace...| 2393|\n|National Institut...| 2340|\n|Massachusetts Gen...| 2263|\n|National Taiwan U...| 2181|\n+--------------------+-----+\n\n"
     ]
    }
   ],
   "source": [
    "#Use 'left_anti' join between sponsordf and df_pharm2\n",
    "company_sponsordf = sponsordf.join(df_pharm2, df_pharm2['Parent_Company']==sponsordf['Sponsor'], how='left_anti')\n",
    "\n",
    "#Count the top 10 sponsors \n",
    "top_10_sponsordf = company_sponsordf.groupBy('sponsor') \\\n",
    ".count().orderBy(desc('count')).limit(10) \n",
    "\n",
    "#Display the top 10 sponsor \n",
    "top_10_sponsordf.show()\n"
   ]
  },
  {
   "cell_type": "markdown",
   "metadata": {
    "application/vnd.databricks.v1+cell": {
     "cellMetadata": {
      "byteLimit": 2048000,
      "rowLimit": 10000
     },
     "inputWidgets": {},
     "nuid": "36798cff-ea05-43a4-baf5-3ab938ef6798",
     "showTitle": false,
     "title": ""
    }
   },
   "source": [
    "##Part 5: Plot number of completed studies for each month in 2023. You need to include your visualization as well as a table of all the values you have plotted for each month.\n"
   ]
  },
  {
   "cell_type": "code",
   "execution_count": 0,
   "metadata": {
    "application/vnd.databricks.v1+cell": {
     "cellMetadata": {
      "byteLimit": 2048000,
      "rowLimit": 10000
     },
     "inputWidgets": {},
     "nuid": "b71b1d20-d2f1-497a-8940-60e1622f2efc",
     "showTitle": false,
     "title": ""
    }
   },
   "outputs": [
    {
     "output_type": "stream",
     "name": "stdout",
     "output_type": "stream",
     "text": [
      "+----------+------------------+\n|Completion|            Status|\n+----------+------------------+\n|2019-02-28|         COMPLETED|\n|   2024-08|        RECRUITING|\n|   2006-05|        TERMINATED|\n|2023-10-01|        RECRUITING|\n|2026-04-01|NOT_YET_RECRUITING|\n+----------+------------------+\nonly showing top 5 rows\n\n"
     ]
    }
   ],
   "source": [
    "#Select \"Completion\" and \"Status\" column\n",
    "comp_studydf = df3.select('Completion', 'Status') \n",
    "\n",
    "#Display first five rows\n",
    "comp_studydf.show(5)"
   ]
  },
  {
   "cell_type": "code",
   "execution_count": 0,
   "metadata": {
    "application/vnd.databricks.v1+cell": {
     "cellMetadata": {
      "byteLimit": 2048000,
      "rowLimit": 10000
     },
     "inputWidgets": {},
     "nuid": "446e69cd-da94-435d-a7d0-a77fabf2d3ed",
     "showTitle": false,
     "title": ""
    }
   },
   "outputs": [
    {
     "output_type": "stream",
     "name": "stdout",
     "output_type": "stream",
     "text": [
      "+----------+---------+\n|Completion|   Status|\n+----------+---------+\n|2023-02-24|COMPLETED|\n|2023-04-07|COMPLETED|\n|2023-08-27|COMPLETED|\n|2023-06-30|COMPLETED|\n|2023-08-01|COMPLETED|\n+----------+---------+\nonly showing top 5 rows\n\n"
     ]
    }
   ],
   "source": [
    "#Import col from pyspark \n",
    "from pyspark.sql.functions import col\n",
    "\n",
    "#filter col from comp_studydf on the basis to check if \"completion\" is \"2023\" and \"status\" is \"COMPLETED\" \n",
    "comp_studydf2 = comp_studydf.filter((col(\"Completion\").like(\"2023%\")) & (col(\"Status\") == \"COMPLETED\"))\n",
    "comp_studydf2.show(5)"
   ]
  },
  {
   "cell_type": "code",
   "execution_count": 0,
   "metadata": {
    "application/vnd.databricks.v1+cell": {
     "cellMetadata": {
      "byteLimit": 2048000,
      "rowLimit": 10000
     },
     "inputWidgets": {},
     "nuid": "64b32906-0b80-4d59-8e25-cdfa7d20727f",
     "showTitle": false,
     "title": ""
    }
   },
   "outputs": [
    {
     "output_type": "stream",
     "name": "stdout",
     "output_type": "stream",
     "text": [
      "+----------+---------+----+-----+\n|Completion|   Status|Year|Month|\n+----------+---------+----+-----+\n|2023-02-24|COMPLETED|2023|   02|\n|2023-04-07|COMPLETED|2023|   04|\n|2023-08-27|COMPLETED|2023|   08|\n|2023-06-30|COMPLETED|2023|   06|\n|2023-08-01|COMPLETED|2023|   08|\n+----------+---------+----+-----+\nonly showing top 5 rows\n\n"
     ]
    }
   ],
   "source": [
    "#Import split, col from pyspark \n",
    "from pyspark.sql.functions import split, col\n",
    "\n",
    "#Get only the year and month \n",
    "comp_studydf3 = comp_studydf2.withColumn('Year', split(col('Completion'), '-').getItem(0)) \\\n",
    "                            .withColumn('Month', split(col('Completion'), '-').getItem(1))\n",
    "\n",
    "#Display first five rows\n",
    "comp_studydf3.show(5)"
   ]
  },
  {
   "cell_type": "code",
   "execution_count": 0,
   "metadata": {
    "application/vnd.databricks.v1+cell": {
     "cellMetadata": {
      "byteLimit": 2048000,
      "rowLimit": 10000
     },
     "inputWidgets": {},
     "nuid": "a5ec0cf1-089f-4b88-9d2d-7dab4a717eaf",
     "showTitle": false,
     "title": ""
    }
   },
   "outputs": [
    {
     "output_type": "stream",
     "name": "stdout",
     "output_type": "stream",
     "text": [
      "+----+-----+-----+\n|Year|Month|count|\n+----+-----+-----+\n|2023|   01| 1494|\n|2023|   02| 1272|\n|2023|   03| 1552|\n|2023|   04| 1324|\n|2023|   05| 1415|\n|2023|   06| 1619|\n|2023|   07| 1360|\n|2023|   08| 1230|\n|2023|   09| 1152|\n|2023|   10| 1058|\n|2023|   11|  909|\n|2023|   12| 1082|\n+----+-----+-----+\n\n"
     ]
    }
   ],
   "source": [
    "#Import col, count from pyspark \n",
    "from pyspark.sql.functions import col, count\n",
    "\n",
    "#Count the the numnber of studies for each month\n",
    "count_month = comp_studydf3.groupBy('Year', 'Month').agg(count('*').alias('count')).orderBy('Month')\n",
    "\n",
    "#Display all rows\n",
    "count_month.show()"
   ]
  },
  {
   "cell_type": "markdown",
   "metadata": {
    "application/vnd.databricks.v1+cell": {
     "cellMetadata": {
      "byteLimit": 2048000,
      "rowLimit": 10000
     },
     "inputWidgets": {},
     "nuid": "96961fc6-39b2-47e1-a364-a8509fdc4ba5",
     "showTitle": false,
     "title": ""
    }
   },
   "source": [
    "##Using Power Bi Visualization tool to show the count of completed studies for each month "
   ]
  },
  {
   "cell_type": "code",
   "execution_count": 0,
   "metadata": {
    "application/vnd.databricks.v1+cell": {
     "cellMetadata": {
      "byteLimit": 2048000,
      "rowLimit": 10000
     },
     "inputWidgets": {},
     "nuid": "6e7a5913-aa17-44e2-a9e4-fc69ca721476",
     "showTitle": false,
     "title": ""
    }
   },
   "outputs": [],
   "source": [
    "count_month.write.csv('/FileStore/tables/count_month.csv',  mode='overwrite')"
   ]
  },
  {
   "cell_type": "code",
   "execution_count": 0,
   "metadata": {
    "application/vnd.databricks.v1+cell": {
     "cellMetadata": {
      "byteLimit": 2048000,
      "implicitDf": true,
      "rowLimit": 10000
     },
     "inputWidgets": {},
     "nuid": "421fde69-da0d-4fc6-9a40-b108de7e42c8",
     "showTitle": false,
     "title": ""
    }
   },
   "outputs": [
    {
     "output_type": "display_data",
     "data": {
      "text/html": [
       "<style scoped>\n",
       "  .table-result-container {\n",
       "    max-height: 300px;\n",
       "    overflow: auto;\n",
       "  }\n",
       "  table, th, td {\n",
       "    border: 1px solid black;\n",
       "    border-collapse: collapse;\n",
       "  }\n",
       "  th, td {\n",
       "    padding: 5px;\n",
       "  }\n",
       "  th {\n",
       "    text-align: left;\n",
       "  }\n",
       "</style><div class='table-result-container'><table class='table-result'><thead style='background-color: white'><tr></tr></thead><tbody></tbody></table></div>"
      ]
     },
     "metadata": {
      "application/vnd.databricks.v1+output": {
       "addedWidgets": {},
       "aggData": [],
       "aggError": "",
       "aggOverflow": false,
       "aggSchema": [],
       "aggSeriesLimitReached": false,
       "aggType": "",
       "arguments": {},
       "columnCustomDisplayInfos": {},
       "data": [],
       "datasetInfos": [],
       "dbfsResultPath": null,
       "isJsonSchema": true,
       "metadata": {
        "dataframeName": null
       },
       "overflow": false,
       "plotOptions": {
        "customPlotOptions": {},
        "displayType": "table",
        "pivotAggregation": null,
        "pivotColumns": null,
        "xColumns": null,
        "yColumns": null
       },
       "removedWidgets": [],
       "schema": [],
       "type": "table"
      }
     },
     "output_type": "display_data"
    }
   ],
   "source": [
    "%sql \n",
    "DROP TABLE IF EXISTS count_month;\n",
    "CREATE TABLE IF NOT EXISTS count_month\n",
    "using CSV \n",
    "options(path 'dbfs:/FileStore/tables/count_month.csv', header 'False', inferSchema 'True')"
   ]
  },
  {
   "cell_type": "code",
   "execution_count": 0,
   "metadata": {
    "application/vnd.databricks.v1+cell": {
     "cellMetadata": {
      "byteLimit": 2048000,
      "implicitDf": true,
      "rowLimit": 10000
     },
     "inputWidgets": {},
     "nuid": "94e70f07-5c5e-48d3-aed6-b7f7220f0740",
     "showTitle": false,
     "title": ""
    }
   },
   "outputs": [
    {
     "output_type": "display_data",
     "data": {
      "text/html": [
       "<style scoped>\n",
       "  .table-result-container {\n",
       "    max-height: 300px;\n",
       "    overflow: auto;\n",
       "  }\n",
       "  table, th, td {\n",
       "    border: 1px solid black;\n",
       "    border-collapse: collapse;\n",
       "  }\n",
       "  th, td {\n",
       "    padding: 5px;\n",
       "  }\n",
       "  th {\n",
       "    text-align: left;\n",
       "  }\n",
       "</style><div class='table-result-container'><table class='table-result'><thead style='background-color: white'><tr><th>database</th><th>tableName</th><th>isTemporary</th></tr></thead><tbody><tr><td>default</td><td>count_month</td><td>false</td></tr></tbody></table></div>"
      ]
     },
     "metadata": {
      "application/vnd.databricks.v1+output": {
       "addedWidgets": {},
       "aggData": [],
       "aggError": "",
       "aggOverflow": false,
       "aggSchema": [],
       "aggSeriesLimitReached": false,
       "aggType": "",
       "arguments": {},
       "columnCustomDisplayInfos": {},
       "data": [
        [
         "default",
         "count_month",
         false
        ]
       ],
       "datasetInfos": [],
       "dbfsResultPath": null,
       "isJsonSchema": true,
       "metadata": {
        "dataframeName": "_sqldf",
        "executionCount": 26
       },
       "overflow": false,
       "plotOptions": {
        "customPlotOptions": {},
        "displayType": "table",
        "pivotAggregation": null,
        "pivotColumns": null,
        "xColumns": null,
        "yColumns": null
       },
       "removedWidgets": [],
       "schema": [
        {
         "metadata": "{}",
         "name": "database",
         "type": "\"string\""
        },
        {
         "metadata": "{}",
         "name": "tableName",
         "type": "\"string\""
        },
        {
         "metadata": "{}",
         "name": "isTemporary",
         "type": "\"boolean\""
        }
       ],
       "type": "table"
      }
     },
     "output_type": "display_data"
    }
   ],
   "source": [
    "%sql \n",
    "SHOW TABLES"
   ]
  },
  {
   "cell_type": "markdown",
   "metadata": {
    "application/vnd.databricks.v1+cell": {
     "cellMetadata": {
      "byteLimit": 2048000,
      "rowLimit": 10000
     },
     "inputWidgets": {},
     "nuid": "c26fe03a-20b6-425b-87df-a170d1073bf4",
     "showTitle": false,
     "title": ""
    }
   },
   "source": [
    "#Further Analysis \n",
    "##Plot the number of studies recruiting for each month in 2023"
   ]
  },
  {
   "cell_type": "code",
   "execution_count": 0,
   "metadata": {
    "application/vnd.databricks.v1+cell": {
     "cellMetadata": {
      "byteLimit": 2048000,
      "rowLimit": 10000
     },
     "inputWidgets": {},
     "nuid": "d6fc7930-5ea2-494e-b749-0fd9b20a04df",
     "showTitle": false,
     "title": ""
    }
   },
   "outputs": [
    {
     "output_type": "stream",
     "name": "stdout",
     "output_type": "stream",
     "text": [
      "+----------+----------+----+-----+\n|Completion|    Status|Year|Month|\n+----------+----------+----+-----+\n|2023-10-01|RECRUITING|2023|   10|\n|2023-12-01|RECRUITING|2023|   12|\n|2023-03-17|RECRUITING|2023|   03|\n|2023-12-01|RECRUITING|2023|   12|\n|   2023-12|RECRUITING|2023|   12|\n+----------+----------+----+-----+\nonly showing top 5 rows\n\n"
     ]
    }
   ],
   "source": [
    "#Import col from pyspark \n",
    "from pyspark.sql.functions import col, split\n",
    "\n",
    "#Select \"Completion\" and \"Status\" column\n",
    "recruit_studydf = df3.select('Completion', 'Status') \\\n",
    "    .filter((col(\"Completion\").like(\"2023%\")) & (col(\"Status\") == \"RECRUITING\")) \\\n",
    "        .withColumn('Year', split(col('Completion'), '-').getItem(0)) \\\n",
    "            .withColumn('Month', split(col('Completion'), '-').getItem(1))\n",
    "\n",
    "#Display first five rows\n",
    "recruit_studydf.show(5)"
   ]
  },
  {
   "cell_type": "code",
   "execution_count": 0,
   "metadata": {
    "application/vnd.databricks.v1+cell": {
     "cellMetadata": {
      "byteLimit": 2048000,
      "rowLimit": 10000
     },
     "inputWidgets": {},
     "nuid": "bcd0daaf-895c-43e4-9d29-bcea07fb4739",
     "showTitle": false,
     "title": ""
    }
   },
   "outputs": [],
   "source": [
    "#Import count from pyspark \n",
    "from pyspark.sql.functions import count\n",
    "\n",
    "#Count the the numnber of studies that is recruiting\n",
    "recruiting_count = recruit_studydf.groupBy('Month').agg(count('*').alias('count')).orderBy('Month')\n",
    "\n",
    "#convert to panda dataframe\n",
    "recruiting_count_pd = recruiting_count.toPandas() "
   ]
  },
  {
   "cell_type": "markdown",
   "metadata": {
    "application/vnd.databricks.v1+cell": {
     "cellMetadata": {
      "byteLimit": 2048000,
      "rowLimit": 10000
     },
     "inputWidgets": {},
     "nuid": "41136424-aa72-4aa8-a5ae-7a627e273fdb",
     "showTitle": false,
     "title": ""
    }
   },
   "source": [
    "##Using Seaborn Library"
   ]
  },
  {
   "cell_type": "code",
   "execution_count": 0,
   "metadata": {
    "application/vnd.databricks.v1+cell": {
     "cellMetadata": {
      "byteLimit": 2048000,
      "rowLimit": 10000
     },
     "inputWidgets": {},
     "nuid": "ed9592e6-c710-4152-8881-3c93ead51c1e",
     "showTitle": false,
     "title": ""
    }
   },
   "outputs": [
    {
     "output_type": "display_data",
     "data": {
      "image/png": "[encoded data removed]",
      "text/plain": [
       "<Figure size 640x480 with 1 Axes>"
      ]
     },
     "metadata": {},
     "output_type": "display_data"
    }
   ],
   "source": [
    "#import seaborn\n",
    "import seaborn as sns\n",
    "\n",
    "#import matplotlib\n",
    "import matplotlib.pyplot as plt\n",
    "\n",
    "#set background style \n",
    "sns.set_style(\"darkgrid\")\n",
    "\n",
    "# Plotting using Seaborn\n",
    "sns.barplot(data=recruiting_count_pd, x='Month', y='count', color='green')\n",
    "\n",
    "plt.title('Recruiting Studies Count by Month in 2023')\n",
    "plt.xlabel('Months')\n",
    "plt.ylabel('Count of Studies')\n",
    "plt.show()\n"
   ]
  }
 ],
 "metadata": {
  "application/vnd.databricks.v1+notebook": {
   "dashboards": [],
   "language": "python",
   "notebookMetadata": {
    "mostRecentlyExecutedCommandWithImplicitDF": {
     "commandId": 2937452120445676,
     "dataframes": [
      "_sqldf"
     ]
    },
    "pythonIndentUnit": 4
   },
   "notebookName": "Orezime_Isaac_df",
   "widgets": {}
  }
 },
 "nbformat": 4,
 "nbformat_minor": 0
}
